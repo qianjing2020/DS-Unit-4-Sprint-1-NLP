{
 "cells": [
  {
   "cell_type": "markdown",
   "metadata": {},
   "source": [
    "<img align=\"left\" src=\"https://lever-client-logos.s3.amazonaws.com/864372b1-534c-480e-acd5-9711f850815c-1524247202159.png\" width=200>\n",
    "<br></br>\n",
    "<br></br>\n",
    "\n",
    "# Topic Modeling\n",
    "## *Data Science Unit 4 Sprint 1 Assignment 4*\n",
    "\n",
    "Analyze a corpus of Amazon reviews from Unit 4 Sprint 1 Module 1's lecture using topic modeling: \n",
    "\n",
    "- Fit a Gensim LDA topic model on Amazon Reviews\n",
    "- Select appropriate number of topics\n",
    "- Create some dope visualization of the topics\n",
    "- Write a few bullets on your findings in markdown at the end\n",
    "- **Note**: You don't *have* to use generators for this assignment"
   ]
  },
  {
   "cell_type": "code",
   "execution_count": 1,
   "metadata": {},
   "outputs": [],
   "source": [
    "#Start Here\n",
    "\n",
    "from gensim.corpora import Dictionary\n",
    "from gensim.models.ldamulticore import LdaMulticore\n",
    "from gensim.models.coherencemodel import CoherenceModel\n",
    "\n",
    "import spacy\n",
    "\n",
    "import pandas as pd"
   ]
  },
  {
   "cell_type": "code",
   "execution_count": 2,
   "metadata": {},
   "outputs": [
    {
     "data": {
      "text/plain": [
       "'/Users/jing/Documents/LambdaSchool/LS_DS_unit4/DS-Unit-4-Sprint-1-NLP/module4-topic-modeling'"
      ]
     },
     "execution_count": 2,
     "metadata": {},
     "output_type": "execute_result"
    }
   ],
   "source": [
    "%pwd"
   ]
  },
  {
   "cell_type": "code",
   "execution_count": 3,
   "metadata": {},
   "outputs": [
    {
     "name": "stdout",
     "output_type": "stream",
     "text": [
      "\u001b[31mDatafiniti_Amazon_Consumer_Reviews_of_Amazon_Products_May19.csv\u001b[m\u001b[m*\n",
      "Datafiniti_Amazon_Consumer_Reviews_of_Amazon_Products_May19.csv.zip\n",
      "yelp_coffeeshop_review_data.csv\n"
     ]
    }
   ],
   "source": [
    "%ls ../module1-text-data/data"
   ]
  },
  {
   "cell_type": "code",
   "execution_count": 57,
   "metadata": {},
   "outputs": [],
   "source": [
    "df = pd.read_csv('../module1-text-data/data/Datafiniti_Amazon_Consumer_Reviews_of_Amazon_Products_May19.csv')"
   ]
  },
  {
   "cell_type": "code",
   "execution_count": 17,
   "metadata": {},
   "outputs": [
    {
     "name": "stdout",
     "output_type": "stream",
     "text": [
      "(28332, 24)\n"
     ]
    },
    {
     "data": {
      "text/html": [
       "<div>\n",
       "<style scoped>\n",
       "    .dataframe tbody tr th:only-of-type {\n",
       "        vertical-align: middle;\n",
       "    }\n",
       "\n",
       "    .dataframe tbody tr th {\n",
       "        vertical-align: top;\n",
       "    }\n",
       "\n",
       "    .dataframe thead th {\n",
       "        text-align: right;\n",
       "    }\n",
       "</style>\n",
       "<table border=\"1\" class=\"dataframe\">\n",
       "  <thead>\n",
       "    <tr style=\"text-align: right;\">\n",
       "      <th></th>\n",
       "      <th>id</th>\n",
       "      <th>dateAdded</th>\n",
       "      <th>dateUpdated</th>\n",
       "      <th>name</th>\n",
       "      <th>asins</th>\n",
       "      <th>brand</th>\n",
       "      <th>categories</th>\n",
       "      <th>primaryCategories</th>\n",
       "      <th>imageURLs</th>\n",
       "      <th>keys</th>\n",
       "      <th>...</th>\n",
       "      <th>reviews.didPurchase</th>\n",
       "      <th>reviews.doRecommend</th>\n",
       "      <th>reviews.id</th>\n",
       "      <th>reviews.numHelpful</th>\n",
       "      <th>reviews.rating</th>\n",
       "      <th>reviews.sourceURLs</th>\n",
       "      <th>reviews.text</th>\n",
       "      <th>reviews.title</th>\n",
       "      <th>reviews.username</th>\n",
       "      <th>sourceURLs</th>\n",
       "    </tr>\n",
       "  </thead>\n",
       "  <tbody>\n",
       "    <tr>\n",
       "      <th>0</th>\n",
       "      <td>AVpgNzjwLJeJML43Kpxn</td>\n",
       "      <td>2015-10-30T08:59:32Z</td>\n",
       "      <td>2019-04-25T09:08:16Z</td>\n",
       "      <td>AmazonBasics AAA Performance Alkaline Batterie...</td>\n",
       "      <td>B00QWO9P0O,B00LH3DMUO</td>\n",
       "      <td>Amazonbasics</td>\n",
       "      <td>AA,AAA,Health,Electronics,Health &amp; Household,C...</td>\n",
       "      <td>Health &amp; Beauty</td>\n",
       "      <td>https://images-na.ssl-images-amazon.com/images...</td>\n",
       "      <td>amazonbasics/hl002619,amazonbasicsaaaperforman...</td>\n",
       "      <td>...</td>\n",
       "      <td>NaN</td>\n",
       "      <td>NaN</td>\n",
       "      <td>NaN</td>\n",
       "      <td>NaN</td>\n",
       "      <td>3</td>\n",
       "      <td>https://www.amazon.com/product-reviews/B00QWO9...</td>\n",
       "      <td>I order 3 of them and one of the item is bad q...</td>\n",
       "      <td>... 3 of them and one of the item is bad quali...</td>\n",
       "      <td>Byger yang</td>\n",
       "      <td>https://www.barcodable.com/upc/841710106442,ht...</td>\n",
       "    </tr>\n",
       "    <tr>\n",
       "      <th>1</th>\n",
       "      <td>AVpgNzjwLJeJML43Kpxn</td>\n",
       "      <td>2015-10-30T08:59:32Z</td>\n",
       "      <td>2019-04-25T09:08:16Z</td>\n",
       "      <td>AmazonBasics AAA Performance Alkaline Batterie...</td>\n",
       "      <td>B00QWO9P0O,B00LH3DMUO</td>\n",
       "      <td>Amazonbasics</td>\n",
       "      <td>AA,AAA,Health,Electronics,Health &amp; Household,C...</td>\n",
       "      <td>Health &amp; Beauty</td>\n",
       "      <td>https://images-na.ssl-images-amazon.com/images...</td>\n",
       "      <td>amazonbasics/hl002619,amazonbasicsaaaperforman...</td>\n",
       "      <td>...</td>\n",
       "      <td>NaN</td>\n",
       "      <td>NaN</td>\n",
       "      <td>NaN</td>\n",
       "      <td>NaN</td>\n",
       "      <td>4</td>\n",
       "      <td>https://www.amazon.com/product-reviews/B00QWO9...</td>\n",
       "      <td>Bulk is always the less expensive way to go fo...</td>\n",
       "      <td>... always the less expensive way to go for pr...</td>\n",
       "      <td>ByMG</td>\n",
       "      <td>https://www.barcodable.com/upc/841710106442,ht...</td>\n",
       "    </tr>\n",
       "    <tr>\n",
       "      <th>2</th>\n",
       "      <td>AVpgNzjwLJeJML43Kpxn</td>\n",
       "      <td>2015-10-30T08:59:32Z</td>\n",
       "      <td>2019-04-25T09:08:16Z</td>\n",
       "      <td>AmazonBasics AAA Performance Alkaline Batterie...</td>\n",
       "      <td>B00QWO9P0O,B00LH3DMUO</td>\n",
       "      <td>Amazonbasics</td>\n",
       "      <td>AA,AAA,Health,Electronics,Health &amp; Household,C...</td>\n",
       "      <td>Health &amp; Beauty</td>\n",
       "      <td>https://images-na.ssl-images-amazon.com/images...</td>\n",
       "      <td>amazonbasics/hl002619,amazonbasicsaaaperforman...</td>\n",
       "      <td>...</td>\n",
       "      <td>NaN</td>\n",
       "      <td>NaN</td>\n",
       "      <td>NaN</td>\n",
       "      <td>NaN</td>\n",
       "      <td>5</td>\n",
       "      <td>https://www.amazon.com/product-reviews/B00QWO9...</td>\n",
       "      <td>Well they are not Duracell but for the price i...</td>\n",
       "      <td>... are not Duracell but for the price i am ha...</td>\n",
       "      <td>BySharon Lambert</td>\n",
       "      <td>https://www.barcodable.com/upc/841710106442,ht...</td>\n",
       "    </tr>\n",
       "  </tbody>\n",
       "</table>\n",
       "<p>3 rows × 24 columns</p>\n",
       "</div>"
      ],
      "text/plain": [
       "                     id             dateAdded           dateUpdated  \\\n",
       "0  AVpgNzjwLJeJML43Kpxn  2015-10-30T08:59:32Z  2019-04-25T09:08:16Z   \n",
       "1  AVpgNzjwLJeJML43Kpxn  2015-10-30T08:59:32Z  2019-04-25T09:08:16Z   \n",
       "2  AVpgNzjwLJeJML43Kpxn  2015-10-30T08:59:32Z  2019-04-25T09:08:16Z   \n",
       "\n",
       "                                                name                  asins  \\\n",
       "0  AmazonBasics AAA Performance Alkaline Batterie...  B00QWO9P0O,B00LH3DMUO   \n",
       "1  AmazonBasics AAA Performance Alkaline Batterie...  B00QWO9P0O,B00LH3DMUO   \n",
       "2  AmazonBasics AAA Performance Alkaline Batterie...  B00QWO9P0O,B00LH3DMUO   \n",
       "\n",
       "          brand                                         categories  \\\n",
       "0  Amazonbasics  AA,AAA,Health,Electronics,Health & Household,C...   \n",
       "1  Amazonbasics  AA,AAA,Health,Electronics,Health & Household,C...   \n",
       "2  Amazonbasics  AA,AAA,Health,Electronics,Health & Household,C...   \n",
       "\n",
       "  primaryCategories                                          imageURLs  \\\n",
       "0   Health & Beauty  https://images-na.ssl-images-amazon.com/images...   \n",
       "1   Health & Beauty  https://images-na.ssl-images-amazon.com/images...   \n",
       "2   Health & Beauty  https://images-na.ssl-images-amazon.com/images...   \n",
       "\n",
       "                                                keys  ... reviews.didPurchase  \\\n",
       "0  amazonbasics/hl002619,amazonbasicsaaaperforman...  ...                 NaN   \n",
       "1  amazonbasics/hl002619,amazonbasicsaaaperforman...  ...                 NaN   \n",
       "2  amazonbasics/hl002619,amazonbasicsaaaperforman...  ...                 NaN   \n",
       "\n",
       "  reviews.doRecommend reviews.id reviews.numHelpful reviews.rating  \\\n",
       "0                 NaN        NaN                NaN              3   \n",
       "1                 NaN        NaN                NaN              4   \n",
       "2                 NaN        NaN                NaN              5   \n",
       "\n",
       "                                  reviews.sourceURLs  \\\n",
       "0  https://www.amazon.com/product-reviews/B00QWO9...   \n",
       "1  https://www.amazon.com/product-reviews/B00QWO9...   \n",
       "2  https://www.amazon.com/product-reviews/B00QWO9...   \n",
       "\n",
       "                                        reviews.text  \\\n",
       "0  I order 3 of them and one of the item is bad q...   \n",
       "1  Bulk is always the less expensive way to go fo...   \n",
       "2  Well they are not Duracell but for the price i...   \n",
       "\n",
       "                                       reviews.title  reviews.username  \\\n",
       "0  ... 3 of them and one of the item is bad quali...        Byger yang   \n",
       "1  ... always the less expensive way to go for pr...              ByMG   \n",
       "2  ... are not Duracell but for the price i am ha...  BySharon Lambert   \n",
       "\n",
       "                                          sourceURLs  \n",
       "0  https://www.barcodable.com/upc/841710106442,ht...  \n",
       "1  https://www.barcodable.com/upc/841710106442,ht...  \n",
       "2  https://www.barcodable.com/upc/841710106442,ht...  \n",
       "\n",
       "[3 rows x 24 columns]"
      ]
     },
     "execution_count": 17,
     "metadata": {},
     "output_type": "execute_result"
    }
   ],
   "source": [
    "print(df.shape)\n",
    "df.head(3)\n"
   ]
  },
  {
   "cell_type": "code",
   "execution_count": 18,
   "metadata": {},
   "outputs": [
    {
     "data": {
      "text/plain": [
       "['id',\n",
       " 'dateAdded',\n",
       " 'dateUpdated',\n",
       " 'name',\n",
       " 'asins',\n",
       " 'brand',\n",
       " 'categories',\n",
       " 'primaryCategories',\n",
       " 'imageURLs',\n",
       " 'keys',\n",
       " 'manufacturer',\n",
       " 'manufacturerNumber',\n",
       " 'reviews.date',\n",
       " 'reviews.dateSeen',\n",
       " 'reviews.didPurchase',\n",
       " 'reviews.doRecommend',\n",
       " 'reviews.id',\n",
       " 'reviews.numHelpful',\n",
       " 'reviews.rating',\n",
       " 'reviews.sourceURLs',\n",
       " 'reviews.text',\n",
       " 'reviews.title',\n",
       " 'reviews.username',\n",
       " 'sourceURLs']"
      ]
     },
     "execution_count": 18,
     "metadata": {},
     "output_type": "execute_result"
    }
   ],
   "source": [
    "# Subset to just one product or Category here\n",
    "df.columns.tolist()"
   ]
  },
  {
   "cell_type": "code",
   "execution_count": 19,
   "metadata": {},
   "outputs": [
    {
     "data": {
      "text/plain": [
       "Electronics                    13995\n",
       "Health & Beauty                12071\n",
       "Toys & Games,Electronics        1676\n",
       "Office Supplies,Electronics      386\n",
       "Electronics,Media                185\n",
       "Office Supplies                    9\n",
       "Animals & Pet Supplies             6\n",
       "Home & Garden                      2\n",
       "Electronics,Furniture              2\n",
       "Name: primaryCategories, dtype: int64"
      ]
     },
     "execution_count": 19,
     "metadata": {},
     "output_type": "execute_result"
    }
   ],
   "source": [
    "df['primaryCategories'].value_counts()"
   ]
  },
  {
   "cell_type": "code",
   "execution_count": 58,
   "metadata": {},
   "outputs": [],
   "source": [
    "df = df[df['primaryCategories'] == 'Electronics'].copy()"
   ]
  },
  {
   "cell_type": "markdown",
   "metadata": {},
   "source": [
    "## Get Tokens"
   ]
  },
  {
   "cell_type": "code",
   "execution_count": 22,
   "metadata": {},
   "outputs": [],
   "source": [
    "nlp = spacy.load(\"en_core_web_lg\")"
   ]
  },
  {
   "cell_type": "code",
   "execution_count": 59,
   "metadata": {},
   "outputs": [],
   "source": [
    "tokens = []\n",
    "\n",
    "for doc in nlp.pipe(df['reviews.text'], batch_size=500):\n",
    "    \n",
    "    doc_tokens = []\n",
    "    \n",
    "    for token in doc:\n",
    "        if (token.is_stop == False) & (token.is_punct == False):\n",
    "            doc_tokens.append(token.lemma_.lower())\n",
    "            \n",
    "    tokens.append(doc_tokens)\n",
    "        \n",
    "df['tokens'] = tokens\n",
    "\n",
    "del tokens"
   ]
  },
  {
   "cell_type": "code",
   "execution_count": 60,
   "metadata": {},
   "outputs": [
    {
     "data": {
      "text/plain": [
       "8343    [great, case, place, husband, love, hold, lot,...\n",
       "8344    [discard, get, rid, broken, cd, case, broken, ...\n",
       "8345                            [dollar, boycott, amazon]\n",
       "8346    [initial, impression, good, material, nice, sh...\n",
       "8347    [pro, standard, echo, con, old, generation, ec...\n",
       "Name: tokens, dtype: object"
      ]
     },
     "execution_count": 60,
     "metadata": {},
     "output_type": "execute_result"
    }
   ],
   "source": [
    "df['tokens'].head()"
   ]
  },
  {
   "cell_type": "markdown",
   "metadata": {},
   "source": [
    "# Create dictionary\n"
   ]
  },
  {
   "cell_type": "code",
   "execution_count": 61,
   "metadata": {},
   "outputs": [
    {
     "name": "stdout",
     "output_type": "stream",
     "text": [
      "6279\n"
     ]
    }
   ],
   "source": [
    "dictionary = Dictionary(df['tokens'])\n",
    "print(len(dictionary))"
   ]
  },
  {
   "cell_type": "code",
   "execution_count": 62,
   "metadata": {},
   "outputs": [
    {
     "name": "stdout",
     "output_type": "stream",
     "text": [
      "6279\n"
     ]
    }
   ],
   "source": [
    "dictionary.filter_extremes(no_below=.05, no_above=.98)\n",
    "print(len(dictionary))"
   ]
  },
  {
   "cell_type": "markdown",
   "metadata": {},
   "source": [
    "## Create Corpus Object"
   ]
  },
  {
   "cell_type": "code",
   "execution_count": 63,
   "metadata": {},
   "outputs": [],
   "source": [
    "corpus = [dictionary.doc2bow(d) for d in df['tokens']]"
   ]
  },
  {
   "cell_type": "code",
   "execution_count": 64,
   "metadata": {},
   "outputs": [],
   "source": [
    "lda = LdaMulticore(corpus=corpus, \n",
    "                     num_topics=10, \n",
    "                     id2word=dictionary, \n",
    "                     workers=4, \n",
    "                     passes=5)"
   ]
  },
  {
   "cell_type": "code",
   "execution_count": 65,
   "metadata": {},
   "outputs": [
    {
     "data": {
      "text/plain": [
       "[(0,\n",
       "  '0.068*\"great\" + 0.051*\"tablet\" + 0.035*\"use\" + 0.026*\"easy\" + 0.026*\"good\" + 0.014*\"amazon\" + 0.013*\"price\" + 0.013*\"kid\" + 0.012*\"battery\" + 0.012*\"product\"'),\n",
       " (1,\n",
       "  '0.037*\"tablet\" + 0.025*\"good\" + 0.018*\"price\" + 0.017*\"amazon\" + 0.015*\"product\" + 0.015*\"work\" + 0.014*\"great\" + 0.014*\"ipad\" + 0.014*\"app\" + 0.014*\"android\"'),\n",
       " (2,\n",
       "  '0.061*\"love\" + 0.044*\"game\" + 0.042*\"tablet\" + 0.036*\"play\" + 0.021*\"watch\" + 0.021*\"book\" + 0.019*\"read\" + 0.019*\"great\" + 0.018*\"use\" + 0.017*\"daughter\"'),\n",
       " (3,\n",
       "  '0.031*\"good\" + 0.029*\"tablet\" + 0.029*\"easy\" + 0.028*\"use\" + 0.027*\"price\" + 0.026*\"great\" + 0.022*\"love\" + 0.015*\"size\" + 0.014*\"buy\" + 0.011*\"screen\"'),\n",
       " (4,\n",
       "  '0.051*\"buy\" + 0.025*\"love\" + 0.019*\"good\" + 0.014*\"time\" + 0.013*\"old\" + 0.012*\"get\" + 0.010*\"fire\" + 0.010*\"use\" + 0.010*\"tablet\" + 0.010*\"like\"'),\n",
       " (5,\n",
       "  '0.044*\"tablet\" + 0.040*\"love\" + 0.034*\"kid\" + 0.028*\"app\" + 0.023*\"need\" + 0.021*\"great\" + 0.018*\"good\" + 0.013*\"purchase\" + 0.013*\"use\" + 0.012*\"kindle\"'),\n",
       " (6,\n",
       "  '0.028*\"tablet\" + 0.020*\"use\" + 0.018*\"work\" + 0.015*\"love\" + 0.014*\"amazon\" + 0.014*\"purchase\" + 0.013*\"year\" + 0.013*\"buy\" + 0.012*\"app\" + 0.012*\"old\"'),\n",
       " (7,\n",
       "  '0.038*\"kindle\" + 0.032*\"love\" + 0.031*\"fire\" + 0.024*\"read\" + 0.023*\"buy\" + 0.022*\"book\" + 0.021*\"great\" + 0.019*\"tablet\" + 0.013*\"old\" + 0.013*\"new\"'),\n",
       " (8,\n",
       "  '0.042*\"tablet\" + 0.038*\"year\" + 0.037*\"old\" + 0.030*\"great\" + 0.025*\"buy\" + 0.022*\"love\" + 0.020*\"kid\" + 0.013*\"easy\" + 0.013*\"time\" + 0.013*\"2\"'),\n",
       " (9,\n",
       "  '0.028*\"amazon\" + 0.024*\"like\" + 0.021*\"app\" + 0.019*\"device\" + 0.018*\"tablet\" + 0.016*\"use\" + 0.012*\"kindle\" + 0.010*\"screen\" + 0.010*\"look\" + 0.010*\"music\"')]"
      ]
     },
     "execution_count": 65,
     "metadata": {},
     "output_type": "execute_result"
    }
   ],
   "source": [
    "lda.print_topics()"
   ]
  },
  {
   "cell_type": "code",
   "execution_count": 66,
   "metadata": {},
   "outputs": [
    {
     "name": "stdout",
     "output_type": "stream",
     "text": [
      "[['great', 'tablet', 'use', 'easy', 'good', 'amazon', 'price', 'kid', 'battery', 'product'], ['tablet', 'good', 'price', 'amazon', 'product', 'work', 'great', 'ipad', 'app', 'android'], ['love', 'game', 'tablet', 'play', 'watch', 'book', 'read', 'great', 'use', 'daughter'], ['good', 'tablet', 'easy', 'use', 'price', 'great', 'love', 'size', 'buy', 'screen'], ['buy', 'love', 'good', 'time', 'old', 'get', 'fire', 'use', 'tablet', 'like'], ['tablet', 'love', 'kid', 'app', 'need', 'great', 'good', 'purchase', 'use', 'kindle'], ['tablet', 'use', 'work', 'love', 'amazon', 'purchase', 'year', 'buy', 'app', 'old'], ['kindle', 'love', 'fire', 'read', 'buy', 'book', 'great', 'tablet', 'old', 'new'], ['tablet', 'year', 'old', 'great', 'buy', 'love', 'kid', 'easy', 'time', '2'], ['amazon', 'like', 'app', 'device', 'tablet', 'use', 'kindle', 'screen', 'look', 'music']]\n"
     ]
    }
   ],
   "source": [
    "import re\n",
    "words = [re.findall(r'\"([^\"]*)\"',t[1]) for t in lda.print_topics()]\n",
    "print(words)"
   ]
  },
  {
   "cell_type": "code",
   "execution_count": 67,
   "metadata": {},
   "outputs": [
    {
     "data": {
      "text/plain": [
       "['great tablet use easy good',\n",
       " 'tablet good price amazon product',\n",
       " 'love game tablet play watch',\n",
       " 'good tablet easy use price',\n",
       " 'buy love good time old',\n",
       " 'tablet love kid app need',\n",
       " 'tablet use work love amazon',\n",
       " 'kindle love fire read buy',\n",
       " 'tablet year old great buy',\n",
       " 'amazon like app device tablet']"
      ]
     },
     "execution_count": 67,
     "metadata": {},
     "output_type": "execute_result"
    }
   ],
   "source": [
    "topics = [' '.join(t[0:5]) for t in words]\n",
    "topics"
   ]
  },
  {
   "cell_type": "code",
   "execution_count": 68,
   "metadata": {},
   "outputs": [
    {
     "name": "stdout",
     "output_type": "stream",
     "text": [
      "------ Topic 0 ------\n",
      "great tablet use easy good\n",
      "------ Topic 1 ------\n",
      "tablet good price amazon product\n",
      "------ Topic 2 ------\n",
      "love game tablet play watch\n",
      "------ Topic 3 ------\n",
      "good tablet easy use price\n",
      "------ Topic 4 ------\n",
      "buy love good time old\n",
      "------ Topic 5 ------\n",
      "tablet love kid app need\n",
      "------ Topic 6 ------\n",
      "tablet use work love amazon\n",
      "------ Topic 7 ------\n",
      "kindle love fire read buy\n",
      "------ Topic 8 ------\n",
      "tablet year old great buy\n",
      "------ Topic 9 ------\n",
      "amazon like app device tablet\n"
     ]
    }
   ],
   "source": [
    "for id, t in enumerate(topics): \n",
    "    print(f\"------ Topic {id} ------\")\n",
    "    print(t, end=\"\\n\")"
   ]
  },
  {
   "cell_type": "code",
   "execution_count": 70,
   "metadata": {},
   "outputs": [],
   "source": [
    "# Steps to Score Training Documents\n",
    "# Already have BOW Represented called 'corpus'\n",
    "\n",
    "# generate a table for topic distribution including all topics\n",
    "distro = [lda[d] for d in corpus]\n",
    "\n",
    "def update(distro):\n",
    "        distro_updated = {k:0 for k in range(0,10)} #initialize topic distribution {topic:percentage}\n",
    "        for item in distro:\n",
    "            distro_updated[item[0]] = item[1]\n",
    "        return distro_updated\n",
    "    \n",
    "new_distro = [update(d) for d in distro]"
   ]
  },
  {
   "cell_type": "code",
   "execution_count": 74,
   "metadata": {},
   "outputs": [
    {
     "data": {
      "text/html": [
       "<div>\n",
       "<style scoped>\n",
       "    .dataframe tbody tr th:only-of-type {\n",
       "        vertical-align: middle;\n",
       "    }\n",
       "\n",
       "    .dataframe tbody tr th {\n",
       "        vertical-align: top;\n",
       "    }\n",
       "\n",
       "    .dataframe thead th {\n",
       "        text-align: right;\n",
       "    }\n",
       "</style>\n",
       "<table border=\"1\" class=\"dataframe\">\n",
       "  <thead>\n",
       "    <tr style=\"text-align: right;\">\n",
       "      <th></th>\n",
       "      <th>0</th>\n",
       "      <th>1</th>\n",
       "      <th>2</th>\n",
       "      <th>3</th>\n",
       "      <th>4</th>\n",
       "      <th>5</th>\n",
       "      <th>6</th>\n",
       "      <th>7</th>\n",
       "      <th>8</th>\n",
       "      <th>9</th>\n",
       "    </tr>\n",
       "  </thead>\n",
       "  <tbody>\n",
       "    <tr>\n",
       "      <th>0</th>\n",
       "      <td>0.011118</td>\n",
       "      <td>0.011117</td>\n",
       "      <td>0.011116</td>\n",
       "      <td>0.011118</td>\n",
       "      <td>0.366587</td>\n",
       "      <td>0.544479</td>\n",
       "      <td>0.011116</td>\n",
       "      <td>0.011118</td>\n",
       "      <td>0.011116</td>\n",
       "      <td>0.011116</td>\n",
       "    </tr>\n",
       "    <tr>\n",
       "      <th>1</th>\n",
       "      <td>0.000000</td>\n",
       "      <td>0.000000</td>\n",
       "      <td>0.000000</td>\n",
       "      <td>0.000000</td>\n",
       "      <td>0.654228</td>\n",
       "      <td>0.000000</td>\n",
       "      <td>0.132319</td>\n",
       "      <td>0.000000</td>\n",
       "      <td>0.000000</td>\n",
       "      <td>0.202668</td>\n",
       "    </tr>\n",
       "    <tr>\n",
       "      <th>2</th>\n",
       "      <td>0.025043</td>\n",
       "      <td>0.025045</td>\n",
       "      <td>0.025041</td>\n",
       "      <td>0.025045</td>\n",
       "      <td>0.025041</td>\n",
       "      <td>0.025042</td>\n",
       "      <td>0.774611</td>\n",
       "      <td>0.025043</td>\n",
       "      <td>0.025043</td>\n",
       "      <td>0.025045</td>\n",
       "    </tr>\n",
       "    <tr>\n",
       "      <th>3</th>\n",
       "      <td>0.000000</td>\n",
       "      <td>0.000000</td>\n",
       "      <td>0.000000</td>\n",
       "      <td>0.000000</td>\n",
       "      <td>0.000000</td>\n",
       "      <td>0.000000</td>\n",
       "      <td>0.994261</td>\n",
       "      <td>0.000000</td>\n",
       "      <td>0.000000</td>\n",
       "      <td>0.000000</td>\n",
       "    </tr>\n",
       "    <tr>\n",
       "      <th>4</th>\n",
       "      <td>0.000000</td>\n",
       "      <td>0.245707</td>\n",
       "      <td>0.000000</td>\n",
       "      <td>0.000000</td>\n",
       "      <td>0.000000</td>\n",
       "      <td>0.000000</td>\n",
       "      <td>0.318559</td>\n",
       "      <td>0.000000</td>\n",
       "      <td>0.000000</td>\n",
       "      <td>0.381857</td>\n",
       "    </tr>\n",
       "    <tr>\n",
       "      <th>5</th>\n",
       "      <td>0.000000</td>\n",
       "      <td>0.000000</td>\n",
       "      <td>0.185692</td>\n",
       "      <td>0.243985</td>\n",
       "      <td>0.000000</td>\n",
       "      <td>0.000000</td>\n",
       "      <td>0.000000</td>\n",
       "      <td>0.213505</td>\n",
       "      <td>0.000000</td>\n",
       "      <td>0.319146</td>\n",
       "    </tr>\n",
       "    <tr>\n",
       "      <th>6</th>\n",
       "      <td>0.000000</td>\n",
       "      <td>0.000000</td>\n",
       "      <td>0.000000</td>\n",
       "      <td>0.485035</td>\n",
       "      <td>0.489122</td>\n",
       "      <td>0.000000</td>\n",
       "      <td>0.000000</td>\n",
       "      <td>0.000000</td>\n",
       "      <td>0.000000</td>\n",
       "      <td>0.000000</td>\n",
       "    </tr>\n",
       "    <tr>\n",
       "      <th>7</th>\n",
       "      <td>0.000000</td>\n",
       "      <td>0.000000</td>\n",
       "      <td>0.000000</td>\n",
       "      <td>0.479852</td>\n",
       "      <td>0.000000</td>\n",
       "      <td>0.000000</td>\n",
       "      <td>0.000000</td>\n",
       "      <td>0.000000</td>\n",
       "      <td>0.000000</td>\n",
       "      <td>0.462980</td>\n",
       "    </tr>\n",
       "    <tr>\n",
       "      <th>8</th>\n",
       "      <td>0.109408</td>\n",
       "      <td>0.000000</td>\n",
       "      <td>0.000000</td>\n",
       "      <td>0.000000</td>\n",
       "      <td>0.648083</td>\n",
       "      <td>0.000000</td>\n",
       "      <td>0.000000</td>\n",
       "      <td>0.000000</td>\n",
       "      <td>0.000000</td>\n",
       "      <td>0.218346</td>\n",
       "    </tr>\n",
       "    <tr>\n",
       "      <th>9</th>\n",
       "      <td>0.000000</td>\n",
       "      <td>0.000000</td>\n",
       "      <td>0.000000</td>\n",
       "      <td>0.930636</td>\n",
       "      <td>0.000000</td>\n",
       "      <td>0.000000</td>\n",
       "      <td>0.000000</td>\n",
       "      <td>0.000000</td>\n",
       "      <td>0.000000</td>\n",
       "      <td>0.000000</td>\n",
       "    </tr>\n",
       "  </tbody>\n",
       "</table>\n",
       "</div>"
      ],
      "text/plain": [
       "          0         1         2         3         4         5         6  \\\n",
       "0  0.011118  0.011117  0.011116  0.011118  0.366587  0.544479  0.011116   \n",
       "1  0.000000  0.000000  0.000000  0.000000  0.654228  0.000000  0.132319   \n",
       "2  0.025043  0.025045  0.025041  0.025045  0.025041  0.025042  0.774611   \n",
       "3  0.000000  0.000000  0.000000  0.000000  0.000000  0.000000  0.994261   \n",
       "4  0.000000  0.245707  0.000000  0.000000  0.000000  0.000000  0.318559   \n",
       "5  0.000000  0.000000  0.185692  0.243985  0.000000  0.000000  0.000000   \n",
       "6  0.000000  0.000000  0.000000  0.485035  0.489122  0.000000  0.000000   \n",
       "7  0.000000  0.000000  0.000000  0.479852  0.000000  0.000000  0.000000   \n",
       "8  0.109408  0.000000  0.000000  0.000000  0.648083  0.000000  0.000000   \n",
       "9  0.000000  0.000000  0.000000  0.930636  0.000000  0.000000  0.000000   \n",
       "\n",
       "          7         8         9  \n",
       "0  0.011118  0.011116  0.011116  \n",
       "1  0.000000  0.000000  0.202668  \n",
       "2  0.025043  0.025043  0.025045  \n",
       "3  0.000000  0.000000  0.000000  \n",
       "4  0.000000  0.000000  0.381857  \n",
       "5  0.213505  0.000000  0.319146  \n",
       "6  0.000000  0.000000  0.000000  \n",
       "7  0.000000  0.000000  0.462980  \n",
       "8  0.000000  0.000000  0.218346  \n",
       "9  0.000000  0.000000  0.000000  "
      ]
     },
     "execution_count": 74,
     "metadata": {},
     "output_type": "execute_result"
    }
   ],
   "source": [
    "# How are topics correlated with rating? \n",
    "\n",
    "topics = pd.DataFrame.from_records(new_distro)\n",
    "topics.head(10)\n",
    "\n",
    "#topics['primaryTopic'] = topics.idxmax(axis=1)"
   ]
  },
  {
   "cell_type": "code",
   "execution_count": 78,
   "metadata": {},
   "outputs": [],
   "source": [
    " #find the index of the topic with maximum distribution weight\n",
    "df['primaryTopic'] = topics.idxmax(axis=1)"
   ]
  },
  {
   "cell_type": "code",
   "execution_count": 79,
   "metadata": {},
   "outputs": [
    {
     "data": {
      "text/html": [
       "<div>\n",
       "<style scoped>\n",
       "    .dataframe tbody tr th:only-of-type {\n",
       "        vertical-align: middle;\n",
       "    }\n",
       "\n",
       "    .dataframe tbody tr th {\n",
       "        vertical-align: top;\n",
       "    }\n",
       "\n",
       "    .dataframe thead th {\n",
       "        text-align: right;\n",
       "    }\n",
       "</style>\n",
       "<table border=\"1\" class=\"dataframe\">\n",
       "  <thead>\n",
       "    <tr style=\"text-align: right;\">\n",
       "      <th></th>\n",
       "      <th>reviews.rating</th>\n",
       "    </tr>\n",
       "    <tr>\n",
       "      <th>primaryTopic</th>\n",
       "      <th></th>\n",
       "    </tr>\n",
       "  </thead>\n",
       "  <tbody>\n",
       "    <tr>\n",
       "      <th>0.0</th>\n",
       "      <td>4.582583</td>\n",
       "    </tr>\n",
       "    <tr>\n",
       "      <th>1.0</th>\n",
       "      <td>4.532847</td>\n",
       "    </tr>\n",
       "    <tr>\n",
       "      <th>2.0</th>\n",
       "      <td>4.677019</td>\n",
       "    </tr>\n",
       "    <tr>\n",
       "      <th>3.0</th>\n",
       "      <td>4.613240</td>\n",
       "    </tr>\n",
       "    <tr>\n",
       "      <th>4.0</th>\n",
       "      <td>4.588710</td>\n",
       "    </tr>\n",
       "    <tr>\n",
       "      <th>5.0</th>\n",
       "      <td>4.536765</td>\n",
       "    </tr>\n",
       "    <tr>\n",
       "      <th>6.0</th>\n",
       "      <td>4.584615</td>\n",
       "    </tr>\n",
       "    <tr>\n",
       "      <th>7.0</th>\n",
       "      <td>4.578358</td>\n",
       "    </tr>\n",
       "    <tr>\n",
       "      <th>8.0</th>\n",
       "      <td>4.619835</td>\n",
       "    </tr>\n",
       "    <tr>\n",
       "      <th>9.0</th>\n",
       "      <td>4.465517</td>\n",
       "    </tr>\n",
       "  </tbody>\n",
       "</table>\n",
       "</div>"
      ],
      "text/plain": [
       "              reviews.rating\n",
       "primaryTopic                \n",
       "0.0                 4.582583\n",
       "1.0                 4.532847\n",
       "2.0                 4.677019\n",
       "3.0                 4.613240\n",
       "4.0                 4.588710\n",
       "5.0                 4.536765\n",
       "6.0                 4.584615\n",
       "7.0                 4.578358\n",
       "8.0                 4.619835\n",
       "9.0                 4.465517"
      ]
     },
     "execution_count": 79,
     "metadata": {},
     "output_type": "execute_result"
    }
   ],
   "source": [
    "df[['primaryTopic', 'reviews.rating']].groupby('primaryTopic').mean()"
   ]
  },
  {
   "cell_type": "code",
   "execution_count": 80,
   "metadata": {},
   "outputs": [
    {
     "data": {
      "image/png": "[encoded data removed]",
      "text/plain": [
       "<Figure size 432x288 with 1 Axes>"
      ]
     },
     "metadata": {
      "needs_background": "light"
     },
     "output_type": "display_data"
    }
   ],
   "source": [
    "import seaborn as sns\n",
    "\n",
    "ax = sns.boxplot(x=\"primaryTopic\", y=\"reviews.rating\",\n",
    "                 data=df)"
   ]
  },
  {
   "cell_type": "code",
   "execution_count": 84,
   "metadata": {},
   "outputs": [
    {
     "data": {
      "text/plain": [
       "count    13866.000000\n",
       "mean         0.552430\n",
       "std         10.034626\n",
       "min          0.000000\n",
       "25%          0.000000\n",
       "50%          0.000000\n",
       "75%          0.000000\n",
       "max        621.000000\n",
       "Name: reviews.numHelpful, dtype: float64"
      ]
     },
     "execution_count": 84,
     "metadata": {},
     "output_type": "execute_result"
    }
   ],
   "source": [
    "# Are certain topics more helpful? \n",
    "# or, is there a relationship between reviews.numHelpful and primary topics?\n",
    "\n",
    "df['reviews.numHelpful'].describe()"
   ]
  },
  {
   "cell_type": "code",
   "execution_count": 85,
   "metadata": {},
   "outputs": [],
   "source": [
    "# put topics and df into one dataframe\n",
    "# Bin - using boxplot of upvotes per topic? \n",
    "\n",
    "topics_df = pd.DataFrame.from_records(new_distro)"
   ]
  },
  {
   "cell_type": "code",
   "execution_count": 86,
   "metadata": {},
   "outputs": [
    {
     "data": {
      "text/html": [
       "<div>\n",
       "<style scoped>\n",
       "    .dataframe tbody tr th:only-of-type {\n",
       "        vertical-align: middle;\n",
       "    }\n",
       "\n",
       "    .dataframe tbody tr th {\n",
       "        vertical-align: top;\n",
       "    }\n",
       "\n",
       "    .dataframe thead th {\n",
       "        text-align: right;\n",
       "    }\n",
       "</style>\n",
       "<table border=\"1\" class=\"dataframe\">\n",
       "  <thead>\n",
       "    <tr style=\"text-align: right;\">\n",
       "      <th></th>\n",
       "      <th>0</th>\n",
       "      <th>1</th>\n",
       "      <th>2</th>\n",
       "      <th>3</th>\n",
       "      <th>4</th>\n",
       "      <th>5</th>\n",
       "      <th>6</th>\n",
       "      <th>7</th>\n",
       "      <th>8</th>\n",
       "      <th>9</th>\n",
       "    </tr>\n",
       "  </thead>\n",
       "  <tbody>\n",
       "    <tr>\n",
       "      <th>0</th>\n",
       "      <td>0.011118</td>\n",
       "      <td>0.011117</td>\n",
       "      <td>0.011116</td>\n",
       "      <td>0.011118</td>\n",
       "      <td>0.366587</td>\n",
       "      <td>0.544479</td>\n",
       "      <td>0.011116</td>\n",
       "      <td>0.011118</td>\n",
       "      <td>0.011116</td>\n",
       "      <td>0.011116</td>\n",
       "    </tr>\n",
       "    <tr>\n",
       "      <th>1</th>\n",
       "      <td>0.000000</td>\n",
       "      <td>0.000000</td>\n",
       "      <td>0.000000</td>\n",
       "      <td>0.000000</td>\n",
       "      <td>0.654228</td>\n",
       "      <td>0.000000</td>\n",
       "      <td>0.132319</td>\n",
       "      <td>0.000000</td>\n",
       "      <td>0.000000</td>\n",
       "      <td>0.202668</td>\n",
       "    </tr>\n",
       "    <tr>\n",
       "      <th>2</th>\n",
       "      <td>0.025043</td>\n",
       "      <td>0.025045</td>\n",
       "      <td>0.025041</td>\n",
       "      <td>0.025045</td>\n",
       "      <td>0.025041</td>\n",
       "      <td>0.025042</td>\n",
       "      <td>0.774611</td>\n",
       "      <td>0.025043</td>\n",
       "      <td>0.025043</td>\n",
       "      <td>0.025045</td>\n",
       "    </tr>\n",
       "    <tr>\n",
       "      <th>3</th>\n",
       "      <td>0.000000</td>\n",
       "      <td>0.000000</td>\n",
       "      <td>0.000000</td>\n",
       "      <td>0.000000</td>\n",
       "      <td>0.000000</td>\n",
       "      <td>0.000000</td>\n",
       "      <td>0.994261</td>\n",
       "      <td>0.000000</td>\n",
       "      <td>0.000000</td>\n",
       "      <td>0.000000</td>\n",
       "    </tr>\n",
       "    <tr>\n",
       "      <th>4</th>\n",
       "      <td>0.000000</td>\n",
       "      <td>0.245707</td>\n",
       "      <td>0.000000</td>\n",
       "      <td>0.000000</td>\n",
       "      <td>0.000000</td>\n",
       "      <td>0.000000</td>\n",
       "      <td>0.318559</td>\n",
       "      <td>0.000000</td>\n",
       "      <td>0.000000</td>\n",
       "      <td>0.381857</td>\n",
       "    </tr>\n",
       "  </tbody>\n",
       "</table>\n",
       "</div>"
      ],
      "text/plain": [
       "          0         1         2         3         4         5         6  \\\n",
       "0  0.011118  0.011117  0.011116  0.011118  0.366587  0.544479  0.011116   \n",
       "1  0.000000  0.000000  0.000000  0.000000  0.654228  0.000000  0.132319   \n",
       "2  0.025043  0.025045  0.025041  0.025045  0.025041  0.025042  0.774611   \n",
       "3  0.000000  0.000000  0.000000  0.000000  0.000000  0.000000  0.994261   \n",
       "4  0.000000  0.245707  0.000000  0.000000  0.000000  0.000000  0.318559   \n",
       "\n",
       "          7         8         9  \n",
       "0  0.011118  0.011116  0.011116  \n",
       "1  0.000000  0.000000  0.202668  \n",
       "2  0.025043  0.025043  0.025045  \n",
       "3  0.000000  0.000000  0.000000  \n",
       "4  0.000000  0.000000  0.381857  "
      ]
     },
     "execution_count": 86,
     "metadata": {},
     "output_type": "execute_result"
    }
   ],
   "source": [
    "topics_df.head()"
   ]
  },
  {
   "cell_type": "code",
   "execution_count": 87,
   "metadata": {},
   "outputs": [],
   "source": [
    "topics_df['primaryTopic'] = topics_df.idxmax(axis=1)"
   ]
  },
  {
   "cell_type": "code",
   "execution_count": 88,
   "metadata": {},
   "outputs": [
    {
     "data": {
      "text/plain": [
       "0    2138\n",
       "3    1871\n",
       "7    1765\n",
       "8    1755\n",
       "5    1600\n",
       "2    1548\n",
       "4    1029\n",
       "1     922\n",
       "9     686\n",
       "6     681\n",
       "Name: primaryTopic, dtype: int64"
      ]
     },
     "execution_count": 88,
     "metadata": {},
     "output_type": "execute_result"
    }
   ],
   "source": [
    "topics_df['primaryTopic'].value_counts()"
   ]
  },
  {
   "cell_type": "code",
   "execution_count": 89,
   "metadata": {},
   "outputs": [],
   "source": [
    "topics_df['numHelpful'] = df['reviews.numHelpful']"
   ]
  },
  {
   "cell_type": "code",
   "execution_count": 90,
   "metadata": {},
   "outputs": [
    {
     "data": {
      "image/png": "[encoded data removed]",
      "text/plain": [
       "<Figure size 432x288 with 1 Axes>"
      ]
     },
     "metadata": {
      "needs_background": "light"
     },
     "output_type": "display_data"
    }
   ],
   "source": [
    "sns.boxplot(x=\"numHelpful\", y=\"primaryTopic\",  data=topics_df[(topics_df['numHelpful'] > 5) & (topics_df['numHelpful'] < 100)]);"
   ]
  },
  {
   "cell_type": "code",
   "execution_count": 91,
   "metadata": {},
   "outputs": [
    {
     "name": "stderr",
     "output_type": "stream",
     "text": [
      "/Users/jing/anaconda3/envs/NLP/lib/python3.7/site-packages/pyLDAvis/_prepare.py:257: FutureWarning: Sorting because non-concatenation axis is not aligned. A future version\n",
      "of pandas will change to not sort by default.\n",
      "\n",
      "To accept the future behavior, pass 'sort=False'.\n",
      "\n",
      "To retain the current behavior and silence the warning, pass 'sort=True'.\n",
      "\n",
      "  return pd.concat([default_term_info] + list(topic_dfs))\n"
     ]
    },
    {
     "data": {
      "text/html": [
       "\n",
       "<link rel=\"stylesheet\" type=\"text/css\" href=\"https://cdn.rawgit.com/bmabey/pyLDAvis/files/ldavis.v1.0.0.css\">\n",
       "\n",
       "\n",
       "<div id=\"ldavis_el3527948370727122204740661\"></div>\n",
       "<script type=\"text/javascript\">\n",
       "\n",
       "var ldavis_el3527948370727122204740661_data = {\"mdsDat\": {\"x\": [0.008241391943042117, -0.004850774330163635, 0.10248699395946073, -0.018890815153561443, 0.06020214181873369, 0.09025841590063273, -0.10340250194301301, -0.14455247622421005, 0.024846643910502918, -0.014339019881423857], \"y\": [0.03473290673657188, 0.09113173080143847, -0.04838587166604827, 0.06703226135245961, -0.014967586529693239, 0.05465753258451349, 0.002775639921803712, -0.03104823610725977, -0.10432755211195181, -0.051600824981833986], \"topics\": [1, 2, 3, 4, 5, 6, 7, 8, 9, 10], \"cluster\": [1, 1, 1, 1, 1, 1, 1, 1, 1, 1], \"Freq\": [12.802298545837402, 12.603642463684082, 12.541322708129883, 11.493890762329102, 9.762775421142578, 9.154170036315918, 8.380257606506348, 8.067680358886719, 7.755149841308594, 7.438816070556641]}, \"tinfo\": {\"Category\": [\"Default\", \"Default\", \"Default\", \"Default\", \"Default\", \"Default\", \"Default\", \"Default\", \"Default\", \"Default\", \"Default\", \"Default\", \"Default\", \"Default\", \"Default\", \"Default\", \"Default\", \"Default\", \"Default\", \"Default\", \"Default\", \"Default\", \"Default\", \"Default\", \"Default\", \"Default\", \"Default\", \"Default\", \"Default\", \"Default\", \"Topic1\", \"Topic1\", \"Topic1\", \"Topic1\", \"Topic1\", \"Topic1\", \"Topic1\", \"Topic1\", \"Topic1\", \"Topic1\", \"Topic1\", \"Topic1\", \"Topic1\", \"Topic1\", \"Topic1\", \"Topic1\", \"Topic1\", \"Topic1\", \"Topic1\", \"Topic1\", \"Topic1\", \"Topic1\", \"Topic1\", \"Topic1\", \"Topic1\", \"Topic1\", \"Topic1\", \"Topic1\", \"Topic1\", \"Topic1\", \"Topic1\", \"Topic1\", \"Topic1\", \"Topic1\", \"Topic1\", \"Topic1\", \"Topic1\", \"Topic1\", \"Topic1\", \"Topic1\", \"Topic1\", \"Topic1\", \"Topic1\", \"Topic1\", \"Topic1\", \"Topic1\", \"Topic1\", \"Topic1\", \"Topic1\", \"Topic1\", \"Topic1\", \"Topic1\", \"Topic1\", \"Topic1\", \"Topic1\", \"Topic1\", \"Topic1\", \"Topic1\", \"Topic1\", \"Topic1\", \"Topic1\", \"Topic1\", \"Topic1\", \"Topic1\", \"Topic1\", \"Topic1\", \"Topic1\", \"Topic1\", \"Topic1\", \"Topic1\", \"Topic1\", \"Topic1\", \"Topic1\", \"Topic1\", \"Topic1\", \"Topic1\", \"Topic1\", \"Topic1\", \"Topic1\", \"Topic1\", \"Topic1\", \"Topic1\", \"Topic2\", \"Topic2\", \"Topic2\", \"Topic2\", \"Topic2\", \"Topic2\", \"Topic2\", \"Topic2\", \"Topic2\", \"Topic2\", \"Topic2\", \"Topic2\", \"Topic2\", \"Topic2\", \"Topic2\", \"Topic2\", \"Topic2\", \"Topic2\", \"Topic2\", \"Topic2\", \"Topic2\", \"Topic2\", \"Topic2\", \"Topic2\", \"Topic2\", \"Topic2\", \"Topic2\", \"Topic2\", \"Topic2\", \"Topic2\", \"Topic2\", \"Topic2\", \"Topic2\", \"Topic2\", \"Topic2\", \"Topic2\", \"Topic2\", \"Topic2\", \"Topic2\", \"Topic2\", \"Topic2\", \"Topic2\", \"Topic2\", \"Topic2\", \"Topic2\", \"Topic2\", \"Topic2\", \"Topic2\", \"Topic2\", \"Topic2\", \"Topic2\", \"Topic2\", \"Topic2\", \"Topic2\", \"Topic2\", \"Topic2\", \"Topic2\", \"Topic2\", \"Topic2\", \"Topic2\", \"Topic2\", \"Topic2\", \"Topic2\", \"Topic2\", \"Topic2\", \"Topic2\", \"Topic2\", \"Topic2\", \"Topic2\", \"Topic2\", \"Topic2\", \"Topic2\", \"Topic2\", \"Topic2\", \"Topic2\", \"Topic2\", \"Topic2\", \"Topic2\", \"Topic2\", \"Topic3\", \"Topic3\", \"Topic3\", \"Topic3\", \"Topic3\", \"Topic3\", \"Topic3\", \"Topic3\", \"Topic3\", \"Topic3\", \"Topic3\", \"Topic3\", \"Topic3\", \"Topic3\", \"Topic3\", \"Topic3\", \"Topic3\", \"Topic3\", \"Topic3\", \"Topic3\", \"Topic3\", \"Topic3\", \"Topic3\", \"Topic3\", \"Topic3\", \"Topic3\", \"Topic3\", \"Topic3\", \"Topic3\", \"Topic3\", \"Topic3\", \"Topic3\", \"Topic3\", \"Topic3\", \"Topic3\", \"Topic3\", \"Topic3\", \"Topic3\", \"Topic3\", \"Topic3\", \"Topic3\", \"Topic3\", \"Topic3\", \"Topic3\", \"Topic3\", \"Topic3\", \"Topic3\", \"Topic3\", \"Topic3\", \"Topic3\", \"Topic3\", \"Topic3\", \"Topic3\", \"Topic3\", \"Topic3\", \"Topic3\", \"Topic3\", \"Topic3\", \"Topic3\", \"Topic3\", \"Topic3\", \"Topic3\", \"Topic3\", \"Topic3\", \"Topic3\", \"Topic3\", \"Topic3\", \"Topic3\", \"Topic3\", \"Topic3\", \"Topic3\", \"Topic3\", \"Topic3\", \"Topic3\", \"Topic3\", \"Topic3\", \"Topic3\", \"Topic4\", \"Topic4\", \"Topic4\", \"Topic4\", \"Topic4\", \"Topic4\", \"Topic4\", \"Topic4\", \"Topic4\", \"Topic4\", \"Topic4\", \"Topic4\", \"Topic4\", \"Topic4\", \"Topic4\", \"Topic4\", \"Topic4\", \"Topic4\", \"Topic4\", \"Topic4\", \"Topic4\", \"Topic4\", \"Topic4\", \"Topic4\", \"Topic4\", \"Topic4\", \"Topic4\", \"Topic4\", \"Topic4\", \"Topic4\", \"Topic4\", \"Topic4\", \"Topic4\", \"Topic4\", \"Topic4\", \"Topic4\", \"Topic4\", \"Topic4\", \"Topic4\", \"Topic4\", \"Topic4\", \"Topic4\", \"Topic4\", \"Topic4\", \"Topic4\", \"Topic4\", \"Topic4\", \"Topic4\", \"Topic4\", \"Topic4\", \"Topic4\", \"Topic4\", \"Topic4\", \"Topic4\", \"Topic4\", \"Topic4\", \"Topic4\", \"Topic4\", \"Topic4\", \"Topic4\", \"Topic4\", \"Topic4\", \"Topic4\", \"Topic4\", \"Topic4\", \"Topic4\", \"Topic4\", \"Topic4\", \"Topic4\", \"Topic4\", \"Topic4\", \"Topic4\", \"Topic4\", \"Topic4\", \"Topic4\", \"Topic4\", \"Topic4\", \"Topic4\", \"Topic4\", \"Topic4\", \"Topic4\", \"Topic4\", \"Topic4\", \"Topic4\", \"Topic5\", \"Topic5\", \"Topic5\", \"Topic5\", \"Topic5\", \"Topic5\", \"Topic5\", \"Topic5\", \"Topic5\", \"Topic5\", \"Topic5\", \"Topic5\", \"Topic5\", \"Topic5\", \"Topic5\", \"Topic5\", \"Topic5\", \"Topic5\", \"Topic5\", \"Topic5\", \"Topic5\", \"Topic5\", \"Topic5\", \"Topic5\", \"Topic5\", \"Topic5\", \"Topic5\", \"Topic5\", \"Topic5\", \"Topic5\", \"Topic5\", \"Topic5\", \"Topic5\", \"Topic5\", \"Topic5\", \"Topic5\", \"Topic5\", \"Topic5\", \"Topic5\", \"Topic5\", \"Topic5\", \"Topic5\", \"Topic5\", \"Topic5\", \"Topic5\", \"Topic5\", \"Topic5\", \"Topic5\", \"Topic5\", \"Topic5\", \"Topic5\", \"Topic5\", \"Topic5\", \"Topic5\", \"Topic5\", \"Topic5\", \"Topic5\", \"Topic5\", \"Topic5\", \"Topic5\", \"Topic5\", \"Topic5\", \"Topic5\", \"Topic5\", \"Topic5\", \"Topic5\", \"Topic5\", \"Topic5\", \"Topic5\", \"Topic5\", \"Topic5\", \"Topic5\", \"Topic5\", \"Topic5\", \"Topic5\", \"Topic5\", \"Topic5\", \"Topic5\", \"Topic5\", \"Topic5\", \"Topic5\", \"Topic5\", \"Topic5\", \"Topic5\", \"Topic5\", \"Topic5\", \"Topic6\", \"Topic6\", \"Topic6\", \"Topic6\", \"Topic6\", \"Topic6\", \"Topic6\", \"Topic6\", \"Topic6\", \"Topic6\", \"Topic6\", \"Topic6\", \"Topic6\", \"Topic6\", \"Topic6\", \"Topic6\", \"Topic6\", \"Topic6\", \"Topic6\", \"Topic6\", \"Topic6\", \"Topic6\", \"Topic6\", \"Topic6\", \"Topic6\", \"Topic6\", \"Topic6\", \"Topic6\", \"Topic6\", \"Topic6\", \"Topic6\", \"Topic6\", \"Topic6\", \"Topic6\", \"Topic6\", \"Topic6\", \"Topic6\", \"Topic6\", \"Topic6\", \"Topic6\", \"Topic6\", \"Topic6\", \"Topic6\", \"Topic6\", \"Topic6\", \"Topic6\", \"Topic6\", \"Topic6\", \"Topic6\", \"Topic6\", \"Topic6\", \"Topic6\", \"Topic6\", \"Topic6\", \"Topic6\", \"Topic6\", \"Topic6\", \"Topic6\", \"Topic6\", \"Topic6\", \"Topic6\", \"Topic6\", \"Topic6\", \"Topic6\", \"Topic6\", \"Topic6\", \"Topic6\", \"Topic6\", \"Topic6\", \"Topic6\", \"Topic6\", \"Topic6\", \"Topic6\", \"Topic6\", \"Topic6\", \"Topic6\", \"Topic6\", \"Topic6\", \"Topic6\", \"Topic6\", \"Topic6\", \"Topic7\", \"Topic7\", \"Topic7\", \"Topic7\", \"Topic7\", \"Topic7\", \"Topic7\", \"Topic7\", \"Topic7\", \"Topic7\", \"Topic7\", \"Topic7\", \"Topic7\", \"Topic7\", \"Topic7\", \"Topic7\", \"Topic7\", \"Topic7\", \"Topic7\", \"Topic7\", \"Topic7\", \"Topic7\", \"Topic7\", \"Topic7\", \"Topic7\", \"Topic7\", \"Topic7\", \"Topic7\", \"Topic7\", \"Topic7\", \"Topic7\", \"Topic7\", \"Topic7\", \"Topic7\", \"Topic7\", \"Topic7\", \"Topic7\", \"Topic7\", \"Topic7\", \"Topic7\", \"Topic7\", \"Topic7\", \"Topic7\", \"Topic7\", \"Topic7\", \"Topic7\", \"Topic7\", \"Topic7\", \"Topic7\", \"Topic7\", \"Topic7\", \"Topic7\", \"Topic7\", \"Topic7\", \"Topic7\", \"Topic7\", \"Topic7\", \"Topic7\", \"Topic7\", \"Topic7\", \"Topic7\", \"Topic7\", \"Topic7\", \"Topic7\", \"Topic7\", \"Topic7\", \"Topic7\", \"Topic7\", \"Topic7\", \"Topic7\", \"Topic7\", \"Topic7\", \"Topic7\", \"Topic7\", \"Topic7\", \"Topic7\", \"Topic7\", \"Topic7\", \"Topic7\", \"Topic7\", \"Topic7\", \"Topic7\", \"Topic7\", \"Topic8\", \"Topic8\", \"Topic8\", \"Topic8\", \"Topic8\", \"Topic8\", \"Topic8\", \"Topic8\", \"Topic8\", \"Topic8\", \"Topic8\", \"Topic8\", \"Topic8\", \"Topic8\", \"Topic8\", \"Topic8\", \"Topic8\", \"Topic8\", \"Topic8\", \"Topic8\", \"Topic8\", \"Topic8\", \"Topic8\", \"Topic8\", \"Topic8\", \"Topic8\", \"Topic8\", \"Topic8\", \"Topic8\", \"Topic8\", \"Topic8\", \"Topic8\", \"Topic8\", \"Topic8\", \"Topic8\", \"Topic8\", \"Topic8\", \"Topic8\", \"Topic8\", \"Topic8\", \"Topic8\", \"Topic8\", \"Topic8\", \"Topic8\", \"Topic8\", \"Topic8\", \"Topic8\", \"Topic8\", \"Topic8\", \"Topic8\", \"Topic8\", \"Topic8\", \"Topic8\", \"Topic8\", \"Topic8\", \"Topic8\", \"Topic8\", \"Topic8\", \"Topic8\", \"Topic8\", \"Topic8\", \"Topic8\", \"Topic8\", \"Topic8\", \"Topic8\", \"Topic8\", \"Topic8\", \"Topic8\", \"Topic8\", \"Topic8\", \"Topic8\", \"Topic8\", \"Topic8\", \"Topic8\", \"Topic8\", \"Topic8\", \"Topic8\", \"Topic8\", \"Topic8\", \"Topic8\", \"Topic8\", \"Topic8\", \"Topic8\", \"Topic8\", \"Topic9\", \"Topic9\", \"Topic9\", \"Topic9\", \"Topic9\", \"Topic9\", \"Topic9\", \"Topic9\", \"Topic9\", \"Topic9\", \"Topic9\", \"Topic9\", \"Topic9\", \"Topic9\", \"Topic9\", \"Topic9\", \"Topic9\", \"Topic9\", \"Topic9\", \"Topic9\", \"Topic9\", \"Topic9\", \"Topic9\", \"Topic9\", \"Topic9\", \"Topic9\", \"Topic9\", \"Topic9\", \"Topic9\", \"Topic9\", \"Topic9\", \"Topic9\", \"Topic9\", \"Topic9\", \"Topic9\", \"Topic9\", \"Topic9\", \"Topic9\", \"Topic9\", \"Topic9\", \"Topic9\", \"Topic9\", \"Topic9\", \"Topic9\", \"Topic9\", \"Topic9\", \"Topic9\", \"Topic9\", \"Topic9\", \"Topic9\", \"Topic9\", \"Topic9\", \"Topic9\", \"Topic9\", \"Topic9\", \"Topic9\", \"Topic9\", \"Topic9\", \"Topic9\", \"Topic9\", \"Topic9\", \"Topic9\", \"Topic9\", \"Topic9\", \"Topic9\", \"Topic9\", \"Topic9\", \"Topic9\", \"Topic9\", \"Topic9\", \"Topic9\", \"Topic9\", \"Topic9\", \"Topic9\", \"Topic9\", \"Topic9\", \"Topic9\", \"Topic9\", \"Topic10\", \"Topic10\", \"Topic10\", \"Topic10\", \"Topic10\", \"Topic10\", \"Topic10\", \"Topic10\", \"Topic10\", \"Topic10\", \"Topic10\", \"Topic10\", \"Topic10\", \"Topic10\", \"Topic10\", \"Topic10\", \"Topic10\", \"Topic10\", \"Topic10\", \"Topic10\", \"Topic10\", \"Topic10\", \"Topic10\", \"Topic10\", \"Topic10\", \"Topic10\", \"Topic10\", \"Topic10\", \"Topic10\", \"Topic10\", \"Topic10\", \"Topic10\", \"Topic10\", \"Topic10\", \"Topic10\", \"Topic10\", \"Topic10\", \"Topic10\", \"Topic10\", \"Topic10\", \"Topic10\", \"Topic10\", \"Topic10\", \"Topic10\", \"Topic10\", \"Topic10\", \"Topic10\", \"Topic10\", \"Topic10\", \"Topic10\", \"Topic10\", \"Topic10\", \"Topic10\", \"Topic10\", \"Topic10\", \"Topic10\", \"Topic10\", \"Topic10\", \"Topic10\", \"Topic10\", \"Topic10\", \"Topic10\", \"Topic10\", \"Topic10\", \"Topic10\", \"Topic10\", \"Topic10\", \"Topic10\", \"Topic10\", \"Topic10\", \"Topic10\", \"Topic10\", \"Topic10\", \"Topic10\", \"Topic10\", \"Topic10\", \"Topic10\", \"Topic10\", \"Topic10\", \"Topic10\", \"Topic10\"], \"Freq\": [4571.0, 1554.0, 1552.0, 2019.0, 1923.0, 3313.0, 1398.0, 4737.0, 1936.0, 2951.0, 2465.0, 1564.0, 1528.0, 929.0, 739.0, 479.0, 2138.0, 6404.0, 2386.0, 1981.0, 791.0, 309.0, 3280.0, 600.0, 1732.0, 892.0, 2053.0, 344.0, 908.0, 543.0, 8.243906021118164, 6.321647644042969, 10.612424850463867, 5.9979963302612305, 6.735143184661865, 5.468316555023193, 5.345337390899658, 4.669632434844971, 4.571319580078125, 5.315147876739502, 4.558294773101807, 4.620998382568359, 4.6192779541015625, 4.6974382400512695, 6.002767086029053, 19.89613914489746, 4.556113243103027, 4.587252140045166, 4.644957542419434, 4.520565032958984, 3.9723448753356934, 3.97247052192688, 3.861402750015259, 8.113044738769531, 5.641524791717529, 3.878488063812256, 8.107390403747559, 7.376201152801514, 3.2365972995758057, 3.2365005016326904, 204.90655517578125, 81.7716293334961, 28.865602493286133, 28.296016693115234, 71.60626983642578, 7.722602844238281, 46.34899139404297, 75.32872009277344, 941.1907348632812, 763.0332641601562, 602.2527465820312, 314.2744140625, 82.03297424316406, 78.1615982055664, 550.9464111328125, 177.3748779296875, 21.142593383789062, 73.6923599243164, 47.36956787109375, 42.31850051879883, 87.2352294921875, 134.0087890625, 210.2206268310547, 176.01197814941406, 32.78066635131836, 59.43278121948242, 89.5440444946289, 130.13140869140625, 225.65834045410156, 797.0208129882812, 160.6737518310547, 104.6688461303711, 580.7482299804688, 83.59402465820312, 141.2528533935547, 158.28787231445312, 316.88555908203125, 531.109619140625, 235.19473266601562, 241.26597595214844, 483.2757568359375, 150.27613830566406, 258.5221252441406, 230.6652374267578, 148.7029571533203, 183.3240203857422, 195.83290100097656, 165.95425415039062, 193.8739013671875, 195.6994171142578, 138.26934814453125, 139.3746795654297, 5.94096040725708, 4.904705047607422, 4.902979373931885, 6.001291275024414, 4.684315204620361, 4.092130661010742, 6.159117698669434, 4.050721168518066, 28.73603630065918, 6.220862865447998, 3.9386465549468994, 4.116169452667236, 6.162655830383301, 3.454349994659424, 3.4438092708587646, 3.4372074604034424, 25.719820022583008, 3.3427181243896484, 3.4361419677734375, 3.9499499797821045, 3.3410065174102783, 3.4804134368896484, 3.8581929206848145, 7.581282615661621, 67.96781158447266, 2.7990944385528564, 2.799053192138672, 2.799010992050171, 2.7989914417266846, 2.7988977432250977, 65.73201751708984, 2.8784170150756836, 4.7592267990112305, 4.710493564605713, 22.347591400146484, 3.6949715614318848, 37.09626388549805, 297.9568176269531, 198.9019012451172, 1654.12890625, 190.1525115966797, 19.541461944580078, 149.17665100097656, 121.12535858154297, 112.63328552246094, 12.161920547485352, 70.91111755371094, 15.641127586364746, 862.0184326171875, 127.69824981689453, 643.1587524414062, 92.74072265625, 168.14280700683594, 176.33242797851562, 1256.0836181640625, 68.58119201660156, 628.4315795898438, 117.93922424316406, 56.98341751098633, 92.94410705566406, 109.73060607910156, 287.06341552734375, 185.27761840820312, 157.97344970703125, 324.9736022949219, 338.7907409667969, 310.7892150878906, 142.45985412597656, 245.97938537597656, 133.86354064941406, 215.6196746826172, 286.3081970214844, 258.5612487792969, 194.93948364257812, 194.16001892089844, 148.06240844726562, 180.26922607421875, 210.87472534179688, 225.46788024902344, 8.553000450134277, 7.809269905090332, 4.871880531311035, 5.049158573150635, 4.855947494506836, 10.401934623718262, 4.381984233856201, 4.250234127044678, 4.3285932540893555, 4.2362847328186035, 3.706825017929077, 3.6310579776763916, 9.810785293579102, 3.5846118927001953, 4.081638813018799, 3.1284711360931396, 4.564444541931152, 186.89187622070312, 3.0979442596435547, 68.46903991699219, 3.0797922611236572, 5.081305027008057, 3.1395351886749268, 14.577499389648438, 3.046994686126709, 3.0538644790649414, 3.0436923503875732, 5.056168079376221, 3.1140546798706055, 6.0468974113464355, 49.62161636352539, 140.52679443359375, 213.6954803466797, 933.3060302734375, 10.959064483642578, 141.9615478515625, 304.4397277832031, 902.6172485351562, 205.84495544433594, 93.75072479248047, 17.305171966552734, 159.3723602294922, 94.81202697753906, 14.784836769104004, 111.60236358642578, 111.63580322265625, 185.19598388671875, 164.55215454101562, 84.02359771728516, 79.15081024169922, 30.946788787841797, 201.5240478515625, 211.4760284423828, 479.3873596191406, 306.6772155761719, 160.12010192871094, 133.41156005859375, 240.64486694335938, 1010.5902099609375, 610.8712768554688, 724.1497192382812, 48.73899841308594, 70.2354965209961, 104.24969482421875, 534.3309326171875, 219.9501953125, 311.3954162597656, 216.97607421875, 248.9305877685547, 225.62416076660156, 241.39132690429688, 241.82455444335938, 199.72862243652344, 241.616455078125, 202.4163818359375, 160.84092712402344, 167.57009887695312, 8.141606330871582, 9.629199981689453, 11.785205841064453, 7.459569931030273, 6.961664199829102, 4.261285305023193, 4.319791793823242, 27.91658592224121, 12.860182762145996, 4.280765056610107, 4.359838962554932, 4.358466625213623, 4.056146621704102, 18.590866088867188, 12.657613754272461, 3.6257195472717285, 3.6231114864349365, 3.6221072673797607, 3.53939151763916, 3.619619131088257, 3.6143977642059326, 3.5246737003326416, 3.5899033546447754, 3.5003130435943604, 3.489520788192749, 4.051637172698975, 3.5727527141571045, 3.566620111465454, 4.138393878936768, 3.560901641845703, 78.40242004394531, 37.1574821472168, 24.76099967956543, 60.74988555908203, 31.051143646240234, 15.189085960388184, 9.011159896850586, 37.70369338989258, 338.1179504394531, 7.576892852783203, 6.008244037628174, 85.22599792480469, 17.94029426574707, 179.3377227783203, 5.10107946395874, 16.93539810180664, 91.1239013671875, 591.9314575195312, 79.48585510253906, 90.54544067382812, 640.0949096679688, 121.7115249633789, 17.38327980041504, 683.7996215820312, 46.04581069946289, 223.08995056152344, 73.97282409667969, 621.1868286132812, 82.74610900878906, 152.24610900878906, 127.84085083007812, 577.0282592773438, 93.00920867919922, 246.0753631591797, 99.03925323486328, 640.6599731445312, 499.6979064941406, 98.51164245605469, 182.6122589111328, 162.9558868408203, 106.8929214477539, 191.79074096679688, 305.7303161621094, 141.3651885986328, 204.57391357421875, 163.94631958007812, 163.81277465820312, 111.26930236816406, 142.14198303222656, 130.9102783203125, 105.52755737304688, 118.97329711914062, 100.87519836425781, 99.8515853881836, 11.823064804077148, 28.45217514038086, 5.414429664611816, 4.520749092102051, 4.359726428985596, 4.359737873077393, 3.9196934700012207, 8.219643592834473, 4.390264987945557, 4.240641117095947, 3.3212642669677734, 3.3768081665039062, 8.426695823669434, 3.2926273345947266, 3.302708148956299, 3.2995448112487793, 2.8369767665863037, 2.8369925022125244, 2.834134340286255, 2.8861918449401855, 2.8367855548858643, 2.7535054683685303, 2.85630464553833, 2.33880352973938, 2.338602304458618, 2.338304281234741, 2.338066816329956, 2.336703300476074, 2.33553147315979, 2.323164701461792, 7.780172824859619, 8.666610717773438, 3.9229538440704346, 11.525152206420898, 7.495254039764404, 6.6119279861450195, 7.664466381072998, 22.84559440612793, 431.5701599121094, 50.022605895996094, 12.323639869689941, 21.009254455566406, 646.402587890625, 68.9876937866211, 9.3931884765625, 192.91270446777344, 527.0112915039062, 82.97236633300781, 41.057674407958984, 31.990421295166016, 224.87306213378906, 29.62806510925293, 54.28408432006836, 18.86538314819336, 16.331193923950195, 766.320068359375, 83.81500244140625, 143.76588439941406, 86.54235076904297, 22.439584732055664, 826.5650634765625, 61.713321685791016, 249.80210876464844, 57.664241790771484, 164.31893920898438, 78.60604858398438, 338.2760925292969, 119.53819274902344, 125.07530212402344, 400.77398681640625, 129.9352264404297, 98.2015609741211, 116.08848571777344, 233.34120178222656, 217.91635131835938, 242.49044799804688, 186.772705078125, 229.852294921875, 160.9434051513672, 164.07359313964844, 136.91526794433594, 106.01211547851562, 109.17544555664062, 129.04763793945312, 110.10184478759766, 96.04618072509766, 5.368185520172119, 9.251935005187988, 4.035251617431641, 8.207286834716797, 3.4902443885803223, 3.3959765434265137, 3.43512225151062, 2.840665340423584, 2.8400089740753174, 2.7325236797332764, 2.732426404953003, 2.7324023246765137, 2.7316925525665283, 2.7244713306427, 2.724419355392456, 2.72194242477417, 2.721621513366699, 2.7919154167175293, 10.99362564086914, 2.7923784255981445, 2.7923479080200195, 2.7774219512939453, 2.6800196170806885, 2.6799569129943848, 2.6799280643463135, 2.680041790008545, 2.7554728984832764, 2.6800081729888916, 2.678344488143921, 2.679598331451416, 2.76078724861145, 14.616313934326172, 787.2406005859375, 30.98606300354004, 72.82869720458984, 367.41668701171875, 631.8244018554688, 29.303983688354492, 67.23954010009766, 246.509521484375, 309.329833984375, 106.23236846923828, 27.342145919799805, 1087.0958251953125, 6.657011032104492, 4.882168292999268, 4.877798557281494, 9.706314086914062, 77.49227142333984, 112.07915496826172, 5.673487663269043, 364.312744140625, 97.31230163574219, 18.264404296875, 13.587389945983887, 334.59075927734375, 116.78330993652344, 78.93739318847656, 11.862614631652832, 100.26487731933594, 749.9144897460938, 139.620361328125, 100.37570190429688, 117.72804260253906, 133.77471923828125, 275.22515869140625, 80.05879211425781, 234.61343383789062, 325.15228271484375, 131.33270263671875, 260.723876953125, 330.5626220703125, 253.00665283203125, 121.17411804199219, 150.05706787109375, 136.6544647216797, 143.36651611328125, 132.4785919189453, 123.23381042480469, 104.01235961914062, 102.54913330078125, 11.362115859985352, 13.984594345092773, 8.182719230651855, 6.5269317626953125, 9.206933975219727, 8.216567039489746, 6.4847412109375, 5.685591697692871, 5.077637672424316, 5.003859043121338, 4.892202854156494, 4.994107723236084, 4.282426357269287, 4.219599723815918, 6.834792137145996, 4.8566694259643555, 6.005993366241455, 4.790111064910889, 3.423316240310669, 3.423290491104126, 3.4110512733459473, 3.4090096950531006, 11.352479934692383, 3.493896484375, 3.4905362129211426, 3.3728983402252197, 3.372098207473755, 3.371028184890747, 3.3703153133392334, 7.075303077697754, 11.617679595947266, 222.15234375, 9.45681095123291, 7.947424411773682, 20.037626266479492, 62.25655746459961, 102.14368438720703, 11.374669075012207, 7.057631015777588, 19.660646438598633, 125.17897033691406, 34.46923065185547, 49.16094970703125, 64.24490356445312, 196.4331512451172, 43.07777786254883, 211.57994079589844, 30.25061798095703, 227.2837371826172, 39.79989242553711, 19.712650299072266, 49.60195541381836, 52.22040939331055, 147.71914672851562, 251.74818420410156, 58.80259704589844, 134.10931396484375, 99.8159408569336, 68.16680908203125, 398.64141845703125, 41.814884185791016, 287.37689208984375, 600.3706665039062, 236.04827880859375, 275.376708984375, 226.80792236328125, 52.24823760986328, 176.5682373046875, 191.65113830566406, 78.24488830566406, 102.02293395996094, 123.18580627441406, 101.78804016113281, 231.20005798339844, 137.4897003173828, 65.81597900390625, 72.99976348876953, 78.29364776611328, 90.60442352294922, 102.89505004882812, 85.14376068115234, 93.2895278930664, 87.8304672241211, 6.121826648712158, 6.015561103820801, 8.426595687866211, 5.33582878112793, 4.453953266143799, 6.395913600921631, 14.586480140686035, 4.394001007080078, 4.41904878616333, 3.7006804943084717, 3.7004966735839844, 4.382408618927002, 3.5597076416015625, 3.557340621948242, 4.332125186920166, 3.537825345993042, 3.6377851963043213, 3.528597831726074, 3.5271012783050537, 4.986972332000732, 3.4894309043884277, 3.4894044399261475, 3.5883731842041016, 3.586495876312256, 10.793339729309082, 3.563041925430298, 3.5695412158966064, 3.4444446563720703, 12.571449279785156, 8.327747344970703, 12.581428527832031, 11.04640007019043, 30.554882049560547, 11.894397735595703, 7.3777241706848145, 71.9926986694336, 18.428712844848633, 31.069271087646484, 129.6985321044922, 12.133846282958984, 14.586844444274902, 128.58058166503906, 10.008788108825684, 34.992759704589844, 124.72423553466797, 91.90391540527344, 54.67961502075195, 12.962121963500977, 41.52880096435547, 24.101226806640625, 304.97003173828125, 54.5651969909668, 46.37335205078125, 159.9933624267578, 23.499845504760742, 157.5975341796875, 26.432668685913086, 374.8919677734375, 432.2250671386719, 52.243309020996094, 161.55860900878906, 69.40116882324219, 126.64542388916016, 333.0608825683594, 143.45741271972656, 88.34927368164062, 38.16708755493164, 49.82932662963867, 161.7782745361328, 257.182861328125, 126.14070129394531, 191.4900665283203, 282.4843444824219, 140.821044921875, 91.46170043945312, 102.67578125, 120.16630554199219, 127.65824890136719, 110.66942596435547, 105.72920989990234, 109.19093322753906, 109.81229400634766, 83.44981384277344, 74.29142761230469, 7.922261714935303, 6.893425464630127, 7.132574081420898, 5.819772243499756, 6.903569221496582, 6.696837425231934, 19.091203689575195, 9.01842975616455, 4.071971416473389, 4.044112205505371, 4.1240386962890625, 5.014640808105469, 7.033548831939697, 3.918539524078369, 4.074666976928711, 4.428799629211426, 3.9656293392181396, 3.4229960441589355, 3.422886848449707, 3.8004539012908936, 3.8916659355163574, 3.396362543106079, 3.3928117752075195, 3.3764190673828125, 3.2920827865600586, 3.3715760707855225, 3.257854461669922, 3.2491776943206787, 3.329688787460327, 9.031505584716797, 122.76829528808594, 8.212017059326172, 9.505956649780273, 15.774353981018066, 134.69737243652344, 8.187190055847168, 99.31084442138672, 20.867454528808594, 64.00049591064453, 5.988205432891846, 765.3162841796875, 22.789701461791992, 55.018463134765625, 123.92646026611328, 22.474313735961914, 19.031145095825195, 82.68925476074219, 209.35870361328125, 43.1551628112793, 17.403493881225586, 49.710105895996094, 84.57321166992188, 184.8122100830078, 108.7940902709961, 377.2535705566406, 283.7048034667969, 50.70646286010742, 48.14585494995117, 39.06565856933594, 121.9054946899414, 101.34098052978516, 189.94358825683594, 62.34292984008789, 126.04956817626953, 140.8605194091797, 93.65733337402344, 144.19644165039062, 77.60286712646484, 150.13050842285156, 141.02899169921875, 89.82020568847656, 148.8096160888672, 120.78791046142578, 76.16302490234375, 104.8871078491211, 148.23313903808594, 75.5008544921875, 85.84968566894531, 11.300762176513672, 11.845170974731445, 6.432648658752441, 5.680778980255127, 5.019394874572754, 4.974672317504883, 4.945797920227051, 4.915053844451904, 4.925500869750977, 4.093904495239258, 4.084812164306641, 7.169769287109375, 3.810840368270874, 5.045429229736328, 8.136228561401367, 3.785250186920166, 4.321950912475586, 3.9382712841033936, 3.930299758911133, 4.287542819976807, 4.369202613830566, 3.797783136367798, 3.7098989486694336, 3.891618490219116, 3.276712656021118, 3.3497838973999023, 3.6816582679748535, 3.812206745147705, 3.132506847381592, 5.6662726402282715, 6.975693702697754, 19.604095458984375, 6.518030643463135, 81.13493347167969, 8.75454330444336, 22.825925827026367, 118.88739776611328, 7.5419921875, 12.533244132995605, 76.15808868408203, 73.9905014038086, 19.601530075073242, 264.4781799316406, 46.989139556884766, 68.23580932617188, 54.09726333618164, 60.73573303222656, 33.09613800048828, 25.5275821685791, 197.774658203125, 42.49280548095703, 22.99928092956543, 189.33157348632812, 72.26393127441406, 66.11640930175781, 293.32916259765625, 69.5865478515625, 208.50657653808594, 405.9065856933594, 43.847869873046875, 25.95738410949707, 170.66290283203125, 167.06394958496094, 73.92449951171875, 181.8118896484375, 210.52357482910156, 64.323974609375, 139.8738555908203, 72.2824935913086, 62.50404739379883, 67.7168960571289, 163.10052490234375, 91.5908432006836, 91.38456726074219, 87.89718627929688, 92.38786315917969, 78.2326431274414, 75.91512298583984, 70.29234313964844, 82.64763641357422, 69.38575744628906], \"Term\": [\"love\", \"year\", \"game\", \"kid\", \"old\", \"buy\", \"play\", \"great\", \"app\", \"good\", \"easy\", \"read\", \"book\", \"need\", \"watch\", \"google\", \"amazon\", \"tablet\", \"kindle\", \"price\", \"daughter\", \"android\", \"use\", \"store\", \"like\", \"device\", \"fire\", \"granddaughter\", \"gift\", \"2\", \"shelf\", \"9.7\", \"6th\", \"beneficial\", \"bf\", \"slippery\", \"adapt\", \"estate\", \"repossess\", \"blow\", \"cache\", \"7-inch\", \"5year\", \"noble\", \"readability\", \"gen\", \"nonstop\", \"flag\", \"nervous\", \"7inch\", \"variation\", \"art\", \"pokemon\", \"fianc\\u221a\", \"noticeably\", \"hasmore\", \"\\u00a9\", \"name\", \"ireader\", \"beoke\", \"upgrade\", \"paperwhite\", \"oasis\", \"face\", \"faster\", \"lead\", \"improvement\", \"inch\", \"kindle\", \"fire\", \"read\", \"new\", \"present\", \"voyage\", \"book\", \"7\", \"numerous\", \"previous\", \"own\", \"difference\", \"page\", \"replace\", \"well\", \"hd\", \"white\", \"original\", \"mom\", \"wife\", \"nice\", \"love\", \"light\", \"version\", \"buy\", \"model\", \"far\", \"8\", \"old\", \"great\", \"get\", \"screen\", \"tablet\", \"feature\", \"amazon\", \"like\", \"size\", \"work\", \"price\", \"purchase\", \"good\", \"use\", \"time\", \"easy\", \"dinner\", \"circadian\", \"rhythm\", \"handed\", \"bird\", \"impaired\", \"included\", \"exam\", \"wi\", \"meeting\", \"onother\", \"lamp\", \"east\", \"conceal\", \"mono\", \"transportation\", \"fi\", \"git\", \"phenomenal\", \"descent\", \"goo\", \"outdoor\", \"round\", \"asleep\", \"beginner\", \"bascially\", \"firend\", \"fish\", \"kinde\", \"fuzzy\", \"graphic\", \"worm\", \"whim\", \"downgrade\", \"smooth\", \"taste\", \"expandable\", \"battery\", \"long\", \"great\", \"life\", \"pop\", \"user\", \"memory\", \"card\", \"loading\", \"sd\", \"dark\", \"use\", \"friendly\", \"easy\", \"gb\", \"fast\", \"light\", \"tablet\", \"resolution\", \"good\", \"sound\", \"weight\", \"storage\", \"reading\", \"product\", \"recommend\", \"feature\", \"price\", \"amazon\", \"kid\", \"charge\", \"work\", \"quality\", \"screen\", \"kindle\", \"fire\", \"time\", \"read\", \"nice\", \"purchase\", \"buy\", \"love\", \"alright\", \"weekend\", \"baught\", \"delivery\", \"peace\", \"assistance\", \"shatter\", \"significant\", \"fires\", \"endure\", \"watcher\", \"ez\", \"i.\", \"laugh\", \"supervise\", \"lifesaver\", \"anyways\", \"age\", \"hog\", \"appropriate\", \"comforting\", \"citizen\", \"fundraiser\", \"group\", \"achievement\", \"presence\", \"questions\", \"scratch\", \"appreciation\", \"godson\", \"safe\", \"warranty\", \"4\", \"year\", \"seven\", \"drop\", \"2\", \"old\", \"3\", \"6\", \"underground\", \"parental\", \"limit\", \"recipient\", \"durable\", \"break\", \"free\", \"control\", \"content\", \"yr\", \"bumper\", \"set\", \"child\", \"kid\", \"time\", \"come\", \"grandson\", \"gift\", \"tablet\", \"buy\", \"great\", \"profile\", \"young\", \"awesome\", \"love\", \"product\", \"easy\", \"get\", \"app\", \"game\", \"price\", \"amazon\", \"purchase\", \"use\", \"good\", \"son\", \"like\", \"jealous\", \"boyfriend\", \"compartment\", \"bedroom\", \"rechargeable\", \"grandchildren\", \"grandfather\", \"backpack\", \"logic\", \"tote\", \"neoprene\", \"els-111\", \"reaction\", \"entry\", \"side\", \"systems.my\", \"sega\", \"good).he\", \"inadvertently\", \"ds\", \"11yr\", \"land\", \"toast\", \"bath\", \"stone\", \"kodi\", \"backup.and\", \"tuck\", \"alexia\", \"sturdier\", \"lightweight\", \"social\", \"pack\", \"law\", \"bag\", \"junk\", \"xbox\", \"purse\", \"size\", \"kinda\", \"retire\", \"mother\", \"bill\", \"small\", \"texte\", \"catch\", \"fit\", \"price\", \"carry\", \"beat\", \"easy\", \"picture\", \"plane\", \"good\", \"browse\", \"perfect\", \"simple\", \"use\", \"clear\", \"quality\", \"fast\", \"great\", \"right\", \"screen\", \"sound\", \"tablet\", \"love\", \"excellent\", \"want\", \"gift\", \"internet\", \"get\", \"buy\", \"watch\", \"kindle\", \"purchase\", \"fire\", \"set\", \"like\", \"work\", \"christmas\", \"amazon\", \"movie\", \"product\", \"darn\", \"occupy\", \"stepkid\", \"steelbook\", \"sesame\", \"street\", \"freebie\", \"accidental\", \"unnecessary\", \"equip\", \".great\", \"10x\", \"saver\", \"don\", \"apps.16\", \"internet.1.5\", \"2year\", \"stink\", \"xfinity\", \"kurio\", \"miracle\", \"malfunction\", \"nomad\", \"angel\", \"70)he\", \"wifes\", \"wad\", \"availablesare\", \"repave\", \"lightning\", \"capable\", \"safety\", \"w\", \"grandaughter\", \"section\", \"usual\", \"autism\", \"die\", \"need\", \"entertain\", \"entertaining\", \"rough\", \"kid\", \"friend\", \"individual\", \"case\", \"app\", \"definitely\", \"protect\", \"meet\", \"recommend\", \"protection\", \"nephew\", \"toy\", \"preloade\", \"love\", \"keep\", \"happy\", \"pretty\", \"special\", \"tablet\", \"absolutely\", \"purchase\", \"hour\", \"gift\", \"5\", \"good\", \"thing\", \"child\", \"great\", \"son\", \"come\", \"download\", \"kindle\", \"easy\", \"use\", \"fire\", \"buy\", \"work\", \"old\", \"get\", \"christmas\", \"daughter\", \"game\", \"play\", \"price\", \"lasting\", \"beating\", \"lean\", \"solitaire\", \"express\", \"dose\", \"mindless\", \"5yo\", \"fab\", \"intimidating\", \"plays\", \"alittle\", \"amozon\", \"fast!i\", \"crucial\", \"tabletscon\", \"allowance\", \"fo\", \"fingertip\", \"reccommend\", \"begginer\", \"supportive\", \"goog\", \"imagination\", \"mucheveryday\", \"tablett\", \"kidsmode\", \"everynight\", \"farone\", \"great!\", \"whey\", \"audiobook\", \"game\", \"pink\", \"grand\", \"watch\", \"play\", \"starter\", \"learning\", \"movie\", \"daughter\", \"e\", \"busy\", \"love\", \"grandparent\", \"mickey\", \"clubhouse\", \"entire\", \"show\", \"granddaughter\", \"relax\", \"book\", \"color\", \"monitor\", \"pic\", \"read\", \"grandson\", \"netflix\", \"bulky\", \"learn\", \"tablet\", \"enjoy\", \"control\", \"video\", \"download\", \"kid\", \"parental\", \"like\", \"use\", \"son\", \"easy\", \"great\", \"buy\", \"perfect\", \"purchase\", \"screen\", \"app\", \"fire\", \"kindle\", \"lot\", \"child\", \"comfortably\", \"angle\", \"void\", \"ruin\", \"dream\", \"metal\", \"8th\", \"eco\", \"deduct\", \"extent\", \"sideload\", \"clutter\", \"store(very\", \"miniature\", \"prompt\", \"leg\", \"beginning\", \"distribute\", \"insensitive\", \"sails\", \"fiance\", \"ore\", \"mirror\", \"confidence\", \"sunday\", \"trilogy\", \"deletion\", \"chime\", \"consice\", \"199\", \"comparison\", \"android\", \"arm\", \"lastly\", \"chrome\", \"limited\", \"apple\", \"quirk\", \"carousel\", \"it\\u201a\\u00e4\\u00f4s\", \"expect\", \"fan\", \"os\", \"tab\", \"google\", \"brand\", \"store\", \"reliable\", \"ipad\", \"lack\", \"u\", \"mini\", \"charger\", \"quality\", \"product\", \"compare\", \"happy\", \"way\", \"display\", \"good\", \"plug\", \"price\", \"tablet\", \"work\", \"amazon\", \"app\", \"cost\", \"play\", \"like\", \"have\", \"charge\", \"want\", \"little\", \"great\", \"fire\", \"cheap\", \"reader\", \"well\", \"purchase\", \"buy\", \"screen\", \"use\", \"kid\", \"unaware\", \"prefect\", \"garage\", \"nursing\", \"bloat\", \"stair\", \"pandora\", \"byod\", \"sharing\", \"does'nt\", \"nnby\", \"goody\", \"didon't\", \"anyday\", \"howto\", \"assumwd\", \"determination\", \"-20\", \"hover\", \"twitter\", \"asking\", \"daddy\", \"definate\", \"relevant\", \"newstand\", \" \", \"chipper\", \"certified\", \"spotify\", \"resistant\", \"tip\", \"refurbish\", \"weather\", \"5th\", \"kitchen\", \"keyboard\", \"platform\", \"command\", \"home\", \"deck\", \"basis\", \"echo\", \"act\", \"smart\", \"tap\", \"ad\", \"generation\", \"window\", \"voice\", \"swipe\", \"device\", \"bluetooth\", \"magazine\", \"music\", \"15\", \"google\", \"pair\", \"like\", \"amazon\", \"photo\", \"look\", \"listen\", \"find\", \"app\", \"store\", \"speaker\", \"house\", \"connect\", \"screen\", \"use\", \"want\", \"kindle\", \"tablet\", \"book\", \"enjoy\", \"need\", \"read\", \"fire\", \"play\", \"work\", \"price\", \"good\", \"purchase\", \"little\", \"mine\", \"ups\", \"department\", \"prob\", \"curfew\", \"pause\", \"employee\", \"refuse\", \"held\", \"scene\", \"13.3\", \"rule\", \"assist\", \"yay\", \"hubby\", \"screw\", \"wanna\", \"tweet\", \"juju\", \"implement\", \"manager\", \"carrier\", \"representative\", \"thinking\", \"commuter\", \"somewhe\", \"understanding\", \"pricegood\", \"bedt\", \"mid\", \"best\", \"sooner\", \"broken\", \"sleeve\", \"granddaughter\", \"guide\", \"help\", \"squad\", \"computer\", \"cd\", \"buy\", \"excited\", \"thank\", \"go\", \"geek\", \"local\", \"item\", \"time\", \"tell\", \"stock\", \"review\", \"take\", \"get\", \"thing\", \"love\", \"good\", \"absolutely\", \"month\", \"trip\", \"gift\", \"christmas\", \"old\", \"know\", \"product\", \"year\", \"ipad\", \"like\", \"2\", \"fire\", \"kindle\", \"device\", \"use\", \"app\", \"set\", \"kid\", \"tablet\", \"daughter\", \"amazon\", \"binder\", \"disable\", \"chat\", \"att\", \"australia\", \"audible.com\", \"3yo\", \"dispute\", \"cellular\", \"earbud\", \"disc\", \"common\", \"breakable\", \"appearance\", \"hotspot\", \"prepaid\", \"launch\", \"notification\", \"assignment\", \"needless\", \"slowly\", \"10.1\", \"y.o\", \"iceland\", \"curriculum\", \"dependent\", \"graphical\", \"matthew\", \"insure\", \"suggestion\", \"disability\", \"credit\", \"santa\", \"account\", \"connector\", \"drive\", \"internet\", \"multi\", \"tag\", \"card\", \"alexa\", \"class\", \"work\", \"school\", \"try\", \"sure\", \"wifi\", \"instal\", \"micro\", \"purchase\", \"sd\", \"freetime\", \"year\", \"problem\", \"5\", \"use\", \"access\", \"amazon\", \"tablet\", \"better\", \"cable\", \"app\", \"old\", \"far\", \"buy\", \"love\", \"free\", \"easy\", \"feature\", \"find\", \"video\", \"great\", \"time\", \"screen\", \"get\", \"book\", \"want\", \"gift\", \"child\", \"fire\", \"need\"], \"Total\": [4571.0, 1554.0, 1552.0, 2019.0, 1923.0, 3313.0, 1398.0, 4737.0, 1936.0, 2951.0, 2465.0, 1564.0, 1528.0, 929.0, 739.0, 479.0, 2138.0, 6404.0, 2386.0, 1981.0, 791.0, 309.0, 3280.0, 600.0, 1732.0, 892.0, 2053.0, 344.0, 908.0, 543.0, 9.402692794799805, 7.251613140106201, 12.233421325683594, 6.997715950012207, 7.938278675079346, 6.5298542976379395, 6.413394451141357, 5.616190433502197, 5.505046367645264, 6.4104323387146, 5.505129337310791, 5.611179828643799, 5.612407684326172, 5.720155239105225, 7.318713188171387, 24.2856388092041, 5.584622383117676, 5.625736236572266, 5.726274013519287, 5.594689846038818, 4.921165943145752, 4.9272613525390625, 4.808732509613037, 10.260368347167969, 7.135403633117676, 4.905713081359863, 10.25967788696289, 9.34726333618164, 4.128378391265869, 4.12828254699707, 291.05633544921875, 114.07196044921875, 39.26181411743164, 40.00282669067383, 115.71186065673828, 10.16640567779541, 75.35247039794922, 131.96022033691406, 2386.343505859375, 2053.02587890625, 1564.541015625, 737.2548828125, 155.60928344726562, 147.59678649902344, 1528.510498046875, 408.367431640625, 33.46084213256836, 150.7587432861328, 91.04849243164062, 80.66329193115234, 197.14688110351562, 337.0028076171875, 600.3118286132812, 482.5772399902344, 59.96223449707031, 132.09947204589844, 227.9805450439453, 373.82183837890625, 797.9765625, 4571.2158203125, 523.0570678710938, 295.7372131347656, 3313.33203125, 215.99517822265625, 478.4938659667969, 592.6842651367188, 1923.8531494140625, 4737.9482421875, 1261.4097900390625, 1356.1856689453125, 6404.083984375, 632.626708984375, 2138.274169921875, 1732.6021728515625, 775.7119750976562, 1588.873779296875, 1981.0596923828125, 1532.63232421875, 2951.867919921875, 3280.775146484375, 1165.8802490234375, 2465.64208984375, 6.894172668457031, 5.8159565925598145, 5.8157806396484375, 7.195473670959473, 5.708491802215576, 5.003233909606934, 7.5656256675720215, 5.002797603607178, 35.57370376586914, 7.703004837036133, 4.89939022064209, 5.208167552947998, 7.824595928192139, 4.409267902374268, 4.397837162017822, 4.4056806564331055, 32.9838981628418, 4.292309761047363, 4.416813373565674, 5.080367088317871, 4.302736759185791, 4.498960494995117, 4.998603343963623, 9.840235710144043, 88.40425109863281, 3.705836534500122, 3.705796241760254, 3.705754518508911, 3.705735445022583, 3.7056431770324707, 91.92337799072266, 3.812763214111328, 6.443058490753174, 6.395620346069336, 33.963340759277344, 4.985524654388428, 61.13721466064453, 655.2208251953125, 423.31494140625, 4737.9482421875, 406.59234619140625, 32.434818267822266, 346.8033752441406, 276.6415100097656, 259.7469482421875, 19.180429458618164, 153.2586212158203, 25.94455337524414, 3280.775146484375, 335.1864929199219, 2465.64208984375, 228.99085998535156, 483.32232666015625, 523.0570678710938, 6404.083984375, 169.6695556640625, 2951.867919921875, 354.2083435058594, 140.90756225585938, 269.6073303222656, 338.1352844238281, 1255.5108642578125, 744.6129760742188, 632.626708984375, 1981.0596923828125, 2138.274169921875, 2019.1387939453125, 569.8536376953125, 1588.873779296875, 559.0804443359375, 1356.1856689453125, 2386.343505859375, 2053.02587890625, 1165.8802490234375, 1564.541015625, 797.9765625, 1532.63232421875, 3313.33203125, 4571.2158203125, 9.69076919555664, 8.949715614318848, 5.7937822341918945, 6.100869655609131, 5.883991718292236, 12.630559921264648, 5.343718528747559, 5.237387657165527, 5.345455169677734, 5.245852470397949, 4.69302225112915, 4.597863674163818, 12.518845558166504, 4.601123332977295, 5.27208137512207, 4.042742729187012, 5.9339213371276855, 243.8521270751953, 4.0435404777526855, 89.4745101928711, 4.040499687194824, 6.681799411773682, 4.146594047546387, 19.317840576171875, 4.03812837600708, 4.052475452423096, 4.048215389251709, 6.725532531738281, 4.160941123962402, 8.082777976989746, 68.27503204345703, 216.1350555419922, 334.649169921875, 1554.94287109375, 15.25879955291748, 230.85763549804688, 543.680419921875, 1923.8531494140625, 395.2486877441406, 173.69784545898438, 26.696216583251953, 328.6683349609375, 195.7635498046875, 23.15155792236328, 244.29104614257812, 246.5866241455078, 456.8739318847656, 421.2960510253906, 190.52545166015625, 182.68414306640625, 58.09642028808594, 629.6409301757812, 688.6719970703125, 2019.1387939453125, 1165.8802490234375, 510.36138916015625, 407.5475158691406, 908.2141723632812, 6404.083984375, 3313.33203125, 4737.9482421875, 107.96235656738281, 182.90541076660156, 325.2309875488281, 4571.2158203125, 1255.5108642578125, 2465.64208984375, 1261.4097900390625, 1936.892333984375, 1552.2271728515625, 1981.0596923828125, 2138.274169921875, 1532.63232421875, 3280.775146484375, 2951.867919921875, 779.595703125, 1732.6021728515625, 9.302512168884277, 11.048592567443848, 13.526926040649414, 8.83043384552002, 8.36518669128418, 5.230693340301514, 5.319002151489258, 34.57305908203125, 15.970693588256836, 5.3311285972595215, 5.44568395614624, 5.447166442871094, 5.088680744171143, 23.330934524536133, 15.911018371582031, 4.578745365142822, 4.578059196472168, 4.578618049621582, 4.476225852966309, 4.578187942504883, 4.577242374420166, 4.466038703918457, 4.577859401702881, 4.465287685394287, 4.465305328369141, 5.186667442321777, 4.576442718505859, 4.5787224769592285, 5.315814018249512, 4.574660778045654, 106.0348129272461, 49.53526306152344, 33.2120361328125, 86.32698822021484, 44.43217468261719, 21.32917022705078, 12.365422248840332, 63.13328170776367, 775.7119750976562, 10.543167114257812, 8.12014389038086, 166.5224609375, 28.433258056640625, 409.4612731933594, 6.770323753356934, 27.699270248413086, 202.58709716796875, 1981.0596923828125, 186.5653533935547, 218.90940856933594, 2465.64208984375, 321.049560546875, 29.789106369018555, 2951.867919921875, 104.88017272949219, 829.4277954101562, 194.12725830078125, 3280.775146484375, 237.5098114013672, 559.0804443359375, 483.32232666015625, 4737.9482421875, 314.5438537597656, 1356.1856689453125, 354.2083435058594, 6404.083984375, 4571.2158203125, 358.6888732910156, 1001.4212646484375, 908.2141723632812, 421.94677734375, 1261.4097900390625, 3313.33203125, 739.0025024414062, 2386.343505859375, 1532.63232421875, 2053.02587890625, 629.6409301757812, 1732.6021728515625, 1588.873779296875, 669.0924072265625, 2138.274169921875, 607.5042114257812, 1255.5108642578125, 13.640356063842773, 32.86368179321289, 6.452635288238525, 5.53825044631958, 5.3602471351623535, 5.3602776527404785, 4.846349716186523, 10.186161994934082, 5.454100608825684, 5.372213363647461, 4.257262706756592, 4.357800006866455, 10.906257629394531, 4.26715087890625, 4.368268966674805, 4.368727207183838, 3.759495973587036, 3.7596652507781982, 3.7577438354492188, 3.8539650440216064, 3.866098165512085, 3.772946357727051, 3.9712541103363037, 3.261315107345581, 3.2611172199249268, 3.2608273029327393, 3.260587453842163, 3.259244680404663, 3.261030673980713, 3.256934881210327, 11.022832870483398, 12.689615249633789, 5.581439018249512, 17.17107582092285, 11.054091453552246, 9.694958686828613, 11.459244728088379, 37.68684005737305, 929.914306640625, 92.79656219482422, 19.825220108032227, 36.274940490722656, 2019.1387939453125, 151.7462921142578, 15.046318054199219, 556.5474243164062, 1936.892333984375, 210.48809814453125, 89.61469268798828, 66.8124008178711, 744.6129760742188, 62.452510833740234, 133.92245483398438, 35.52375411987305, 30.06985855102539, 4571.2158203125, 255.6475830078125, 528.7662963867188, 281.1502685546875, 47.89324188232422, 6404.083984375, 203.06008911132812, 1532.63232421875, 189.378662109375, 908.2141723632812, 309.53076171875, 2951.867919921875, 622.6278686523438, 688.6719970703125, 4737.9482421875, 779.595703125, 510.36138916015625, 682.8154296875, 2386.343505859375, 2465.64208984375, 3280.775146484375, 2053.02587890625, 3313.33203125, 1588.873779296875, 1923.8531494140625, 1261.4097900390625, 669.0924072265625, 791.0046997070312, 1552.2271728515625, 1398.5379638671875, 1981.0596923828125, 6.497361183166504, 11.43874454498291, 5.052550315856934, 10.488237380981445, 4.461634635925293, 4.354248046875, 4.443201065063477, 3.7460250854492188, 3.745373010635376, 3.6378791332244873, 3.6377832889556885, 3.637759208679199, 3.6380693912506104, 3.638235569000244, 3.6382040977478027, 3.6382429599761963, 3.6380999088287354, 3.7410550117492676, 14.74152946472168, 3.745206832885742, 3.745199203491211, 3.7373247146606445, 3.6282105445861816, 3.6281332969665527, 3.631120204925537, 3.6325197219848633, 3.7363343238830566, 3.6366374492645264, 3.6350109577178955, 3.638913154602051, 3.751770257949829, 21.966205596923828, 1552.2271728515625, 50.133140563964844, 127.23233795166016, 739.0025024414062, 1398.5379638671875, 50.46585464477539, 135.39378356933594, 607.5042114257812, 791.0046997070312, 244.89161682128906, 54.907005310058594, 4571.2158203125, 10.551194190979004, 7.288023471832275, 7.285962104797363, 16.894399642944336, 214.68878173828125, 344.17877197265625, 8.898550987243652, 1528.510498046875, 299.22613525390625, 38.008296966552734, 26.260696411132812, 1564.541015625, 407.5475158691406, 248.21505737304688, 22.424760818481445, 390.2279968261719, 6404.083984375, 650.9127197265625, 421.2960510253906, 554.0986938476562, 682.8154296875, 2019.1387939453125, 328.6683349609375, 1732.6021728515625, 3280.775146484375, 779.595703125, 2465.64208984375, 4737.9482421875, 3313.33203125, 829.4277954101562, 1532.63232421875, 1356.1856689453125, 1936.892333984375, 2053.02587890625, 2386.343505859375, 699.17041015625, 688.6719970703125, 12.468781471252441, 15.827716827392578, 9.305606842041016, 7.473804950714111, 10.589144706726074, 9.499382019042969, 7.557297706604004, 6.723684787750244, 6.014759063720703, 5.9923906326293945, 5.875706195831299, 6.002222537994385, 5.168323040008545, 5.147881507873535, 8.384443283081055, 5.96668815612793, 7.415314197540283, 5.931581974029541, 4.30875301361084, 4.308727741241455, 4.305760383605957, 4.305500507354736, 14.396671295166016, 4.43294620513916, 4.43265962600708, 4.297563552856445, 4.297486305236816, 4.29718017578125, 4.29692268371582, 9.021891593933105, 15.140649795532227, 309.9454345703125, 12.432543754577637, 10.485661506652832, 27.74805450439453, 92.2626953125, 169.61331176757812, 15.810368537902832, 9.53337574005127, 29.638397216796875, 246.41041564941406, 60.050697326660156, 91.30220031738281, 125.47899627685547, 479.58380126953125, 83.10999298095703, 600.3505859375, 56.178131103515625, 740.6236572265625, 85.99851989746094, 34.798973083496094, 119.4419174194336, 132.80459594726562, 559.0804443359375, 1255.5108642578125, 163.7255859375, 528.7662963867188, 362.61627197265625, 209.30392456054688, 2951.867919921875, 104.21488952636719, 1981.0596923828125, 6404.083984375, 1588.873779296875, 2138.274169921875, 1936.892333984375, 157.66368103027344, 1398.5379638671875, 1732.6021728515625, 335.70709228515625, 569.8536376953125, 1001.4212646484375, 675.81005859375, 4737.9482421875, 2053.02587890625, 277.08734130859375, 423.023681640625, 600.3118286132812, 1532.63232421875, 3313.33203125, 1356.1856689453125, 3280.775146484375, 2019.1387939453125, 7.174448490142822, 7.130130290985107, 10.020483016967773, 6.369297504425049, 5.3555684089660645, 7.710520267486572, 17.979089736938477, 5.426527500152588, 5.45783805847168, 4.576629638671875, 4.576446056365967, 5.420834064483643, 4.435655117034912, 4.433309555053711, 5.402049541473389, 4.429677486419678, 4.563721656799316, 4.427211761474609, 4.426817417144775, 6.281034469604492, 4.4193644523620605, 4.419342517852783, 4.54997444152832, 4.550116539001465, 13.723344802856445, 4.540599822998047, 4.551155090332031, 4.410826683044434, 16.10820198059082, 10.682971000671387, 16.463336944580078, 14.479484558105469, 42.864646911621094, 15.981342315673828, 9.73307991027832, 112.00431823730469, 26.33257293701172, 46.8043327331543, 223.70999145507812, 16.976295471191406, 21.085268020629883, 241.11386108398438, 14.078581809997559, 57.79142379760742, 246.60877990722656, 177.98074340820312, 103.2845458984375, 19.30772590637207, 76.82839965820312, 40.980003356933594, 892.1184692382812, 112.31483459472656, 94.00810241699219, 445.8211669921875, 41.25238800048828, 479.58380126953125, 48.25697708129883, 1732.6021728515625, 2138.274169921875, 126.10240173339844, 647.6793212890625, 195.83387756347656, 462.956298828125, 1936.892333984375, 600.3505859375, 301.0188903808594, 96.40980529785156, 157.90855407714844, 1356.1856689453125, 3280.775146484375, 1001.4212646484375, 2386.343505859375, 6404.083984375, 1528.510498046875, 650.9127197265625, 929.914306640625, 1564.541015625, 2053.02587890625, 1398.5379638671875, 1588.873779296875, 1981.0596923828125, 2951.867919921875, 1532.63232421875, 675.81005859375, 8.923382759094238, 8.025341033935547, 8.30455493927002, 6.885970592498779, 8.286561965942383, 8.063009262084961, 23.140541076660156, 10.993514060974121, 5.019782066345215, 5.018152713775635, 5.120395660400391, 6.232583045959473, 8.78968334197998, 4.906800270080566, 5.1366448402404785, 5.589737415313721, 5.015655040740967, 4.331952095031738, 4.331844806671143, 4.811513423919678, 4.933225631713867, 4.328094959259033, 4.327517032623291, 4.32504415512085, 4.227232933044434, 4.33375358581543, 4.227067947387695, 4.2275309562683105, 4.333212375640869, 11.936633110046387, 217.63302612304688, 11.735404014587402, 14.069445610046387, 25.470897674560547, 344.17877197265625, 12.32525634765625, 246.45851135253906, 37.690330505371094, 149.20950317382812, 8.532439231872559, 3313.33203125, 44.209007263183594, 136.57875061035156, 393.39154052734375, 48.64508056640625, 40.032928466796875, 295.46685791015625, 1165.8802490234375, 131.96774291992188, 38.01481246948242, 173.11143493652344, 381.78826904296875, 1261.4097900390625, 622.6278686523438, 4571.2158203125, 2951.867919921875, 203.06008911132812, 187.3401336669922, 139.16604614257812, 908.2141723632812, 669.0924072265625, 1923.8531494140625, 311.4275817871094, 1255.5108642578125, 1554.94287109375, 740.6236572265625, 1732.6021728515625, 543.680419921875, 2053.02587890625, 2386.343505859375, 892.1184692382812, 3280.775146484375, 1936.892333984375, 629.6409301757812, 2019.1387939453125, 6404.083984375, 791.0046997070312, 2138.274169921875, 12.425298690795898, 13.550776481628418, 7.61724853515625, 6.74419641494751, 5.963452339172363, 5.966892719268799, 5.962221145629883, 5.948344707489014, 6.049718379974365, 5.032637596130371, 5.0326385498046875, 8.861937522888184, 4.721967697143555, 6.275663375854492, 10.139760971069336, 4.7211198806762695, 5.395510196685791, 4.925274848937988, 4.927434921264648, 5.394885063171387, 5.51563835144043, 4.829014778137207, 4.734313011169434, 5.0457963943481445, 4.259875297546387, 4.367582321166992, 4.838383674621582, 5.0480475425720215, 4.154926300048828, 7.553015232086182, 9.389883041381836, 28.714698791503906, 9.229935646057129, 213.15701293945312, 13.936904907226562, 49.43462371826172, 421.94677734375, 11.806446075439453, 23.142452239990234, 259.7469482421875, 270.1999206542969, 44.21249008178711, 1588.873779296875, 147.70196533203125, 262.119384765625, 189.44915771484375, 225.66355895996094, 95.00831604003906, 67.4040756225586, 1532.63232421875, 153.2586212158203, 61.45039367675781, 1554.94287109375, 353.9847412109375, 309.53076171875, 3280.775146484375, 360.0716857910156, 2138.274169921875, 6404.083984375, 181.13536071777344, 78.80010986328125, 1936.892333984375, 1923.8531494140625, 478.4938659667969, 3313.33203125, 4571.2158203125, 456.8739318847656, 2465.64208984375, 632.626708984375, 462.956298828125, 554.0986938476562, 4737.9482421875, 1165.8802490234375, 1356.1856689453125, 1261.4097900390625, 1528.510498046875, 1001.4212646484375, 908.2141723632812, 688.6719970703125, 2053.02587890625, 929.914306640625], \"loglift\": [30.0, 29.0, 28.0, 27.0, 26.0, 25.0, 24.0, 23.0, 22.0, 21.0, 20.0, 19.0, 18.0, 17.0, 16.0, 15.0, 14.0, 13.0, 12.0, 11.0, 10.0, 9.0, 8.0, 7.0, 6.0, 5.0, 4.0, 3.0, 2.0, 1.0, 1.9240000247955322, 1.9183000326156616, 1.9134000539779663, 1.9013999700546265, 1.8911999464035034, 1.878100037574768, 1.8733999729156494, 1.871000051498413, 1.8696999549865723, 1.8681999444961548, 1.8667999505996704, 1.8614000082015991, 1.86080002784729, 1.8586000204086304, 1.857300043106079, 1.8561999797821045, 1.8519999980926514, 1.8515000343322754, 1.8463000059127808, 1.8423999547958374, 1.8414000272750854, 1.8401999473571777, 1.8360999822616577, 1.8207000494003296, 1.8206000328063965, 1.8206000328063965, 1.820099949836731, 1.8186999559402466, 1.8121999502182007, 1.8121999502182007, 1.7045999765396118, 1.722599983215332, 1.7479000091552734, 1.7093000411987305, 1.575600028038025, 1.7805999517440796, 1.569599986076355, 1.4948999881744385, 1.1252000331878662, 1.0657999515533447, 1.1009000539779663, 1.2029000520706177, 1.4153000116348267, 1.419800043106079, 1.035099983215332, 1.22160005569458, 1.596500039100647, 1.3398000001907349, 1.4020999670028687, 1.4105000495910645, 1.2402000427246094, 1.1333999633789062, 1.0062999725341797, 1.0470000505447388, 1.45169997215271, 1.2568000555038452, 1.121000051498413, 1.0003000497817993, 0.7925000190734863, 0.30889999866485596, 0.8751999735832214, 1.0168999433517456, 0.3142000138759613, 1.1062999963760376, 0.8355000019073486, 0.7353000044822693, 0.25200000405311584, -0.13279999792575836, 0.37599998712539673, 0.32899999618530273, -0.5285999774932861, 0.6180999875068665, -0.05719999969005585, 0.03909999877214432, 0.40369999408721924, -0.10400000214576721, -0.25859999656677246, -0.16750000417232513, -0.6674000024795532, -0.763700008392334, -0.07649999856948853, -0.8174999952316284, 1.9223999977111816, 1.9007999897003174, 1.9005000591278076, 1.8897000551223755, 1.8733999729156494, 1.8702000379562378, 1.8654999732971191, 1.8601000308990479, 1.857699990272522, 1.8574999570846558, 1.8529000282287598, 1.8358999490737915, 1.8323999643325806, 1.8271000385284424, 1.8265999555587769, 1.8229000568389893, 1.8223999738693237, 1.8210999965667725, 1.820099949836731, 1.8194999694824219, 1.8181999921798706, 1.8144999742507935, 1.8121999502182007, 1.8104000091552734, 1.8083000183105469, 1.7905999422073364, 1.7905999422073364, 1.7905999422073364, 1.7905999422073364, 1.7905999422073364, 1.73580002784729, 1.7900999784469604, 1.7683000564575195, 1.7654000520706177, 1.6526000499725342, 1.7716000080108643, 1.5715999603271484, 1.2832000255584717, 1.3158999681472778, 1.0189000368118286, 1.3112000226974487, 1.5644999742507935, 1.2275999784469604, 1.245300054550171, 1.2355999946594238, 1.6155999898910522, 1.3005000352859497, 1.5650999546051025, 0.7346000075340271, 1.1061999797821045, 0.727400004863739, 1.1672999858856201, 1.0153000354766846, 0.9839000105857849, 0.4422000050544739, 1.1653000116348267, 0.5242000222206116, 0.9714999794960022, 1.1657999753952026, 1.0061999559402466, 0.9458000063896179, 0.5956000089645386, 0.6801999807357788, 0.6837000250816345, 0.26350000500679016, 0.2287999987602234, 0.19990000128746033, 0.6848999857902527, 0.20569999516010284, 0.641700029373169, 0.23229999840259552, -0.049300000071525574, -0.0007999999797903001, 0.2825999855995178, -0.01549999974668026, 0.38670000433921814, -0.06909999996423721, -0.6833000183105469, -0.9381999969482422, 1.951200008392334, 1.9398000240325928, 1.9027999639511108, 1.8868999481201172, 1.8840999603271484, 1.8819999694824219, 1.8776999711990356, 1.867300033569336, 1.8651000261306763, 1.8624000549316406, 1.8401999473571777, 1.8401000499725342, 1.8323999643325806, 1.8265000581741333, 1.820199966430664, 1.8198000192642212, 1.8137999773025513, 1.8100999593734741, 1.8098000288009644, 1.8085999488830566, 1.8046000003814697, 1.802299976348877, 1.7978999614715576, 1.794600009918213, 1.7944999933242798, 1.7932000160217285, 1.7908999919891357, 1.7907999753952026, 1.7862999439239502, 1.7860000133514404, 1.7569999694824219, 1.6455999612808228, 1.6275999546051025, 1.5657000541687012, 1.7452000379562378, 1.589900016784668, 1.4962999820709229, 1.3193999528884888, 1.423699975013733, 1.4594999551773071, 1.6426000595092773, 1.3523000478744507, 1.351099967956543, 1.6276999711990356, 1.2927000522613525, 1.2836999893188477, 1.1730999946594238, 1.1360000371932983, 1.2575000524520874, 1.2396999597549438, 1.4463000297546387, 0.9369000196456909, 0.8955000042915344, 0.6381999850273132, 0.7407000064849854, 0.9168999791145325, 0.9593999981880188, 0.7480000257492065, 0.2296999990940094, 0.38530001044273376, 0.19779999554157257, 1.2807999849319458, 1.11899995803833, 0.9383999705314636, -0.07039999961853027, 0.334199994802475, 0.007000000216066837, 0.3158999979496002, 0.02449999935925007, 0.147599995136261, -0.02879999950528145, -0.10339999943971634, 0.03840000182390213, -0.5322999954223633, -0.6036999821662903, 0.49779999256134033, -0.259799987077713, 2.030100107192993, 2.025899887084961, 2.0255000591278076, 1.9946000576019287, 1.979699969291687, 1.958400011062622, 1.955299973487854, 1.9494999647140503, 1.9466999769210815, 1.9438999891281128, 1.940999984741211, 1.9404000043869019, 1.9365999698638916, 1.9362000226974487, 1.9345999956130981, 1.9299999475479126, 1.9293999671936035, 1.9290000200271606, 1.9285000562667847, 1.9284000396728516, 1.9271999597549438, 1.9265999794006348, 1.920199990272522, 1.9198999404907227, 1.9168000221252441, 1.9163999557495117, 1.9157999753952026, 1.913599967956543, 1.9129999876022339, 1.9127999544143677, 1.8614000082015991, 1.8758000135421753, 1.8696999549865723, 1.812000036239624, 1.8049999475479126, 1.8238999843597412, 1.8468999862670898, 1.6478999853134155, 1.3329999446868896, 1.8329999446868896, 1.8621000051498413, 1.493499994277954, 1.7028000354766846, 1.3378000259399414, 1.8803000450134277, 1.6713999509811401, 1.364400029182434, 0.9553999900817871, 1.3101999759674072, 1.280500054359436, 0.8148000240325928, 1.1934000253677368, 1.6246999502182007, 0.7008000016212463, 1.3401999473571777, 0.8501999974250793, 1.1985000371932983, 0.4991999864578247, 1.1088999509811401, 0.8626000285148621, 0.8335000276565552, 0.05790000036358833, 0.9448999762535095, 0.45660001039505005, 0.8889999985694885, -0.1387999951839447, -0.050200000405311584, 0.8711000084877014, 0.46149998903274536, 0.4453999996185303, 0.7903000116348267, 0.2797999978065491, -0.21969999372959137, 0.5094000101089478, -0.29319998621940613, -0.07180000096559525, -0.36500000953674316, 0.4302000105381012, -0.33719998598098755, -0.3328999876976013, 0.3163999915122986, -0.7254999876022339, 0.367900013923645, -0.3682999908924103, 2.1835999488830566, 2.1823999881744385, 2.15120005607605, 2.1236000061035156, 2.119999885559082, 2.119999885559082, 2.1143999099731445, 2.1120998859405518, 2.109600067138672, 2.090100049972534, 2.0782999992370605, 2.0715999603271484, 2.068700075149536, 2.0673000812530518, 2.046999931335449, 2.0459001064300537, 2.0450000762939453, 2.0450000762939453, 2.0445001125335693, 2.037400007247925, 2.0169999599456787, 2.0116000175476074, 1.996999979019165, 1.9940999746322632, 1.9940999746322632, 1.99399995803833, 1.99399995803833, 1.9938000440597534, 1.992799997329712, 1.988700032234192, 1.9781999588012695, 1.9452999830245972, 1.9739999771118164, 1.927899956703186, 1.938099980354309, 1.9438999891281128, 1.924399971961975, 1.8259999752044678, 1.558899998664856, 1.7086999416351318, 1.851199984550476, 1.780400037765503, 1.187600016593933, 1.5383000373840332, 1.8553999662399292, 1.2670999765396118, 1.024999976158142, 1.3956999778747559, 1.5461000204086304, 1.5901000499725342, 1.1292999982833862, 1.580899953842163, 1.4235999584197998, 1.6936999559402466, 1.7160999774932861, 0.5407000184059143, 1.211400032043457, 1.0241999626159668, 1.148300051689148, 1.5684000253677368, 0.2791999876499176, 1.135599970817566, 0.512499988079071, 1.1375000476837158, 0.6169000267982483, 0.9559999704360962, 0.16030000150203705, 0.6762999892234802, 0.6207000017166138, -0.14339999854564667, 0.5349000096321106, 0.6784999966621399, 0.5547000169754028, 0.0015999999595806003, -0.09950000047683716, -0.2782999873161316, -0.0706000030040741, -0.3416999876499176, 0.03689999878406525, -0.13519999384880066, 0.10599999874830246, 0.48420000076293945, 0.34619998931884766, -0.1606999933719635, -0.2152000069618225, -0.699999988079071, 2.2000999450683594, 2.178800106048584, 2.166100025177002, 2.145699977874756, 2.145400047302246, 2.142400026321411, 2.1335999965667725, 2.114300012588501, 2.1142001152038574, 2.10479998588562, 2.10479998588562, 2.10479998588562, 2.1043999195098877, 2.1017000675201416, 2.1017000675201416, 2.100800037384033, 2.1006999015808105, 2.098299980163574, 2.097599983215332, 2.097399950027466, 2.097399950027466, 2.094099998474121, 2.0880000591278076, 2.0880000591278076, 2.0871999263763428, 2.086899995803833, 2.086400032043457, 2.085700035095215, 2.0855000019073486, 2.08489990234375, 2.084199905395508, 1.9836000204086304, 1.7120000123977661, 1.9098000526428223, 1.8330999612808228, 1.692199945449829, 1.5964000225067139, 1.8473999500274658, 1.690999984741211, 1.4889999628067017, 1.4521000385284424, 1.555799961090088, 1.6936999559402466, 0.9546999931335449, 1.930400013923645, 1.9903000593185425, 1.9896999597549438, 1.8367999792099, 1.371899962425232, 1.2690000534057617, 1.9408999681472778, 0.9569000005722046, 1.267699956893921, 1.6581000089645386, 1.7319999933242798, 0.8485000133514404, 1.1411000490188599, 1.245300054550171, 1.7541999816894531, 1.031999945640564, 0.24619999527931213, 0.8514999747276306, 0.9564999938011169, 0.8420000076293945, 0.7609000205993652, 0.39809998869895935, 0.9786999821662903, 0.39149999618530273, 0.07940000295639038, 0.6098999977111816, 0.14419999718666077, -0.27160000801086426, -0.18129999935626984, 0.4675000011920929, 0.06719999760389328, 0.09600000083446503, -0.21250000596046448, -0.349700003862381, -0.5724999904632568, 0.48559999465942383, 0.48649999499320984, 2.3863000869750977, 2.3554999828338623, 2.3506999015808105, 2.3438000679016113, 2.339400053024292, 2.334199905395508, 2.326200008392334, 2.3115999698638916, 2.3099000453948975, 2.2990000247955322, 2.296099901199341, 2.2953999042510986, 2.291300058364868, 2.280400037765503, 2.274899959564209, 2.2734999656677246, 2.2685000896453857, 2.2655999660491943, 2.249300003051758, 2.249300003051758, 2.2464001178741455, 2.245800018310547, 2.2416999340057373, 2.2411999702453613, 2.240299940109253, 2.236999988555908, 2.236799955368042, 2.236599922180176, 2.2363998889923096, 2.2362000942230225, 2.214400053024292, 2.1463000774383545, 2.205699920654297, 2.2021000385284424, 2.153700113296509, 2.085900068283081, 1.9722000360488892, 2.1500000953674316, 2.1786000728607178, 2.0687999725341797, 1.8020000457763672, 1.9242000579833984, 1.860200047492981, 1.8099000453948975, 1.5866999626159668, 1.822100043296814, 1.436400055885315, 1.8602999448776245, 1.2979999780654907, 1.708799958229065, 1.9110000133514404, 1.6004999876022339, 1.5458999872207642, 1.148300051689148, 0.8723999857902527, 1.455299973487854, 1.1073999404907227, 1.1892999410629272, 1.3574999570846558, 0.4772000014781952, 1.566100001335144, 0.5486999750137329, 0.11209999769926071, 0.5724999904632568, 0.42969998717308044, 0.3346000015735626, 1.3747999668121338, 0.4097999930381775, 0.2775999903678894, 1.0228999853134155, 0.7591000199317932, 0.3837999999523163, 0.5863000154495239, -0.5407999753952026, -0.22419999539852142, 1.0418000221252441, 0.7222999930381775, 0.4422999918460846, -0.3488999903202057, -0.9926999807357788, -0.2888000011444092, -1.0808000564575195, -0.6557000279426575, 2.358599901199341, 2.3473000526428223, 2.344099998474121, 2.3403000831604004, 2.3329999446868896, 2.330399990081787, 2.308199882507324, 2.3062000274658203, 2.3062000274658203, 2.3048999309539795, 2.304800033569336, 2.3046998977661133, 2.297300100326538, 2.2971999645233154, 2.296600103378296, 2.2925000190734863, 2.2904999256134033, 2.2904000282287598, 2.29010009765625, 2.286600112915039, 2.2809998989105225, 2.2809998989105225, 2.279900074005127, 2.2792999744415283, 2.277100086212158, 2.274899959564209, 2.274399995803833, 2.2699999809265137, 2.269399881362915, 2.268199920654297, 2.2483999729156494, 2.2467000484466553, 2.178800106048584, 2.22189998626709, 2.2402000427246094, 2.0752999782562256, 2.160399913787842, 2.1075000762939453, 1.9722000360488892, 2.18149995803833, 2.1487998962402344, 1.8885999917984009, 2.176100015640259, 2.0155999660491943, 1.8356000185012817, 1.8564000129699707, 1.8812999725341797, 2.118799924850464, 1.9020999670028687, 1.9865000247955322, 1.4438999891281128, 1.7954000234603882, 1.8106000423431396, 1.4924999475479126, 1.9545999765396118, 1.4043999910354614, 1.9154000282287598, 0.9865999817848206, 0.9185000061988831, 1.6361000537872314, 1.1288000345230103, 1.4799000024795532, 1.2210999727249146, 0.7567999958992004, 1.085800051689148, 1.2913999557495117, 1.5907000303268433, 1.3638999462127686, 0.3910999894142151, -0.028699999675154686, 0.445499986410141, -0.005400000140070915, -0.6037999987602234, 0.13269999623298645, 0.5547999739646912, 0.31380000710487366, -0.04919999837875366, -0.2603999972343445, -0.019300000742077827, -0.19259999692440033, -0.38100001215934753, -0.7741000056266785, -0.39320001006126404, 0.3093999922275543, 2.4377999305725098, 2.4047999382019043, 2.4047000408172607, 2.3886001110076904, 2.3742001056671143, 2.3712000846862793, 2.364500045776367, 2.358799934387207, 2.347599983215332, 2.3410000801086426, 2.340399980545044, 2.339400053024292, 2.333899974822998, 2.331899881362915, 2.325200080871582, 2.3239998817443848, 2.321899890899658, 2.3213000297546387, 2.3213000297546387, 2.3208999633789062, 2.319700002670288, 2.3143999576568604, 2.313499927520752, 2.3092000484466553, 2.30679988861084, 2.305799961090088, 2.2964000701904297, 2.293600082397461, 2.2934000492095947, 2.277899980545044, 1.9843000173568726, 2.1998000144958496, 2.1647000312805176, 2.077699899673462, 1.6187000274658203, 2.147700071334839, 1.6478999853134155, 1.9656000137329102, 1.7103999853134155, 2.202699899673462, 1.0914000272750854, 1.8941999673843384, 1.6476000547409058, 1.4017000198364258, 1.784600019454956, 1.8131999969482422, 1.2833000421524048, 0.8396000266075134, 1.4391000270843506, 1.7755000591278076, 1.3091000318527222, 1.0496000051498413, 0.6362000107765198, 0.8123000264167786, 0.062199998646974564, 0.21459999680519104, 1.1693999767303467, 1.198099970817566, 1.2863999605178833, 0.5486000180244446, 0.6693999767303467, 0.24150000512599945, 0.9483000040054321, 0.2581999897956848, 0.15539999306201935, 0.48899999260902405, 0.0706000030040741, 0.6100999712944031, -0.058800000697374344, -0.271699994802475, 0.26100000739097595, -0.5364000201225281, -0.21799999475479126, 0.44449999928474426, -0.40070000290870667, -1.2091000080108643, 0.2076999992132187, -0.65829998254776, 2.5035998821258545, 2.463900089263916, 2.4293999671936035, 2.4268999099731445, 2.426100015640259, 2.416599988937378, 2.411600112915039, 2.407599925994873, 2.392899990081787, 2.3919999599456787, 2.3898000717163086, 2.3866000175476074, 2.3840999603271484, 2.3803000450134277, 2.3782999515533447, 2.377500057220459, 2.3766000270843506, 2.374799966812134, 2.3724000453948975, 2.3687000274658203, 2.365499973297119, 2.3582000732421875, 2.354599952697754, 2.33870005607605, 2.3361001014709473, 2.3331000804901123, 2.325200080871582, 2.317699909210205, 2.315999984741211, 2.311000108718872, 2.301300048828125, 2.2167999744415283, 2.2506000995635986, 1.6325000524520874, 2.133500099182129, 1.825700044631958, 1.3317999839782715, 2.1503000259399414, 1.985200047492981, 1.3716000318527222, 1.3032000064849854, 1.785099983215332, 0.805400013923645, 1.4531999826431274, 1.2525999546051025, 1.3451000452041626, 1.2858999967575073, 1.5439000129699707, 1.627500057220459, 0.5508000254631042, 1.3157000541687012, 1.6157000064849854, 0.4927999973297119, 1.0095000267028809, 1.054800033569336, 0.18389999866485596, 0.9546999931335449, 0.27070000767707825, -0.16009999811649323, 1.179900050163269, 1.4880000352859497, 0.16930000483989716, 0.15469999611377716, 0.73089998960495, -0.3043000102043152, -0.4794999957084656, 0.6380000114440918, -0.2709999978542328, 0.4291999936103821, 0.5960999727249146, 0.4964999854564667, -0.7705000042915344, 0.05460000038146973, -0.09889999777078629, -0.06539999693632126, -0.20759999752044678, 0.04899999871850014, 0.11659999936819077, 0.3163999915122986, -0.6140000224113464, 0.003000000026077032], \"logprob\": [30.0, 29.0, 28.0, 27.0, 26.0, 25.0, 24.0, 23.0, 22.0, 21.0, 20.0, 19.0, 18.0, 17.0, 16.0, 15.0, 14.0, 13.0, 12.0, 11.0, 10.0, 9.0, 8.0, 7.0, 6.0, 5.0, 4.0, 3.0, 2.0, 1.0, -8.01039981842041, -8.275899887084961, -7.757900238037109, -8.328499794006348, -8.212499618530273, -8.420900344848633, -8.443699836730957, -8.578800201416016, -8.600099563598633, -8.449299812316895, -8.602899551391602, -8.589300155639648, -8.589599609375, -8.57289981842041, -8.327699661254883, -7.12939977645874, -8.603400230407715, -8.596599578857422, -8.584099769592285, -8.611200332641602, -8.740500450134277, -8.740500450134277, -8.768899917602539, -8.026399612426758, -8.389699935913086, -8.764399528503418, -8.027099609375, -8.121600151062012, -8.94540023803711, -8.94540023803711, -4.797299861907959, -5.716000080108643, -6.757199764251709, -6.777200222015381, -5.848700046539307, -8.075699806213379, -6.283699989318848, -5.797999858856201, -3.272700071334839, -3.482599973678589, -3.7191998958587646, -4.36959981918335, -5.712800025939941, -5.761099815368652, -3.808199882507324, -4.9415998458862305, -7.068600177764893, -5.820000171661377, -6.261899948120117, -6.37470006942749, -5.651299953460693, -5.2220001220703125, -4.771699905395508, -4.9492998123168945, -6.630000114440918, -6.034999847412109, -5.625199794769287, -5.251299858093262, -4.700900077819824, -3.438999891281128, -5.040500164031982, -5.469099998474121, -3.7555999755859375, -5.693900108337402, -5.169300079345703, -5.055500030517578, -4.361299991607666, -3.844899892807007, -4.6595001220703125, -4.633999824523926, -3.939300060272217, -5.107399940490723, -4.564899921417236, -4.678899765014648, -5.1178998947143555, -4.908599853515625, -4.842599868774414, -5.008200168609619, -4.852700233459473, -4.843299865722656, -5.190700054168701, -5.182700157165527, -8.322400093078613, -8.514100074768066, -8.514399528503418, -8.312299728393555, -8.5600004196167, -8.695199966430664, -8.286299705505371, -8.705400466918945, -6.746099948883057, -8.276300430297852, -8.733400344848633, -8.689299583435059, -8.285699844360352, -8.86460018157959, -8.86769962310791, -8.869600296020508, -6.85699987411499, -8.897500038146973, -8.86989974975586, -8.730500221252441, -8.89799976348877, -8.857099533081055, -8.753999710083008, -8.07859992980957, -5.885200023651123, -9.074999809265137, -9.074999809265137, -9.074999809265137, -9.074999809265137, -9.074999809265137, -5.918700218200684, -9.04699993133545, -8.54419994354248, -8.554499626159668, -6.997499942779541, -8.797300338745117, -6.490699768066406, -4.407299995422363, -4.811399936676025, -2.69320011138916, -4.856400012969971, -7.131700038909912, -5.099100112915039, -5.307400226593018, -5.380099773406982, -7.605899810791016, -5.842800140380859, -7.354300022125244, -3.3450000286102295, -5.2546000480651855, -3.6379001140594482, -5.574399948120117, -4.979400157928467, -4.9319000244140625, -2.9684998989105225, -5.876200199127197, -3.6610000133514404, -5.334099769592285, -6.061500072479248, -5.572199821472168, -5.406199932098389, -4.444499969482422, -4.882400035858154, -5.041800022125244, -4.320499897003174, -4.278900146484375, -4.365099906921387, -5.145199775695801, -4.598999977111816, -5.207399845123291, -4.7307000160217285, -4.447199821472168, -4.549099922180176, -4.831600189208984, -4.835599899291992, -5.106599807739258, -4.909800052642822, -4.752999782562256, -4.686100006103516, -7.953000068664551, -8.043999671936035, -8.515800476074219, -8.48009967803955, -8.519100189208984, -7.757299900054932, -8.621800422668457, -8.652299880981445, -8.633999824523926, -8.655599594116211, -8.78909969329834, -8.809800148010254, -7.815800189971924, -8.822600364685059, -8.69279956817627, -8.958700180053711, -8.581000328063965, -4.868800163269043, -8.968600273132324, -5.872900009155273, -8.97439956665039, -8.473699569702148, -8.9552001953125, -7.4197998046875, -8.985099792480469, -8.98289966583252, -8.986200332641602, -8.478699684143066, -8.963399887084961, -8.299699783325195, -6.194900035858154, -5.153900146484375, -4.7347002029418945, -3.2606000900268555, -7.705100059509277, -5.143700122833252, -4.380799770355225, -3.2939999103546143, -4.772200107574463, -5.558700084686279, -7.248300075531006, -5.0279998779296875, -5.547399997711182, -7.405700206756592, -5.384300231933594, -5.383999824523926, -4.877900123596191, -4.996099948883057, -5.6682000160217285, -5.72790002822876, -6.666999816894531, -4.793399810791016, -4.745200157165527, -3.926800012588501, -4.373499870300293, -5.023399829864502, -5.205900192260742, -4.616000175476074, -3.180999994277954, -3.6844000816345215, -3.5143001079559326, -6.212800025939941, -5.847400188446045, -5.452499866485596, -3.8183000087738037, -4.705900192260742, -4.3582000732421875, -4.7195000648498535, -4.582099914550781, -4.6803998947143555, -4.6128997802734375, -4.611100196838379, -4.802299976348877, -4.6118998527526855, -4.789000034332275, -5.018899917602539, -4.97790002822876, -7.91510009765625, -7.747300148010254, -7.545199871063232, -8.002599716186523, -8.071700096130371, -8.5625, -8.54889965057373, -6.6828999519348145, -7.457900047302246, -8.557900428771973, -8.539600372314453, -8.539999961853027, -8.611800193786621, -7.089399814605713, -7.473800182342529, -8.723999977111816, -8.724699974060059, -8.725000381469727, -8.748100280761719, -8.725700378417969, -8.72719955444336, -8.752300262451172, -8.734000205993652, -8.759200096130371, -8.762299537658691, -8.61299991607666, -8.738699913024902, -8.740500450134277, -8.59179973602295, -8.74209976196289, -5.650199890136719, -6.396900177001953, -6.802800178527832, -5.905300140380859, -6.576399803161621, -7.291500091552734, -7.813600063323975, -6.382299900054932, -4.188700199127197, -7.986999988555908, -8.218899726867676, -5.566800117492676, -7.125, -4.822800159454346, -8.382599830627441, -7.182700157165527, -5.499899864196777, -3.628700017929077, -5.636499881744385, -5.506199836730957, -3.55049991607666, -5.210400104522705, -7.156599998474121, -3.4844000339508057, -6.182400226593018, -4.604499816894531, -5.708399772644043, -3.580399990081787, -5.59630012512207, -4.986599922180176, -5.161300182342529, -3.6542000770568848, -5.479400157928467, -4.506400108337402, -5.416600227355957, -3.5495998859405518, -3.798099994659424, -5.421899795532227, -4.804699897766113, -4.918600082397461, -5.340199947357178, -4.75570011138916, -4.289400100708008, -5.060699939727783, -4.691100120544434, -4.912499904632568, -4.913400173187256, -5.300099849700928, -5.055300235748291, -5.137599945068359, -5.353099822998047, -5.2332000732421875, -5.398200035095215, -5.408400058746338, -7.378799915313721, -6.5005998611450195, -8.159799575805664, -8.340200424194336, -8.376399993896484, -8.376399993896484, -8.482799530029297, -7.742300033569336, -8.369400024414062, -8.40410041809082, -8.648500442504883, -8.6318998336792, -7.717400074005127, -8.65719985961914, -8.65410041809082, -8.655099868774414, -8.806099891662598, -8.806099891662598, -8.807100296020508, -8.788900375366211, -8.80620002746582, -8.836000442504883, -8.799300193786621, -8.999199867248535, -8.999300003051758, -8.99940013885498, -8.999500274658203, -9.000100135803223, -9.00059986114502, -9.005900382995605, -7.797299861907959, -7.6894001960754395, -8.482000350952148, -7.404300212860107, -7.83459997177124, -7.960000038146973, -7.81220006942749, -6.720099925994873, -3.781399965286255, -5.936399936676025, -7.337299823760986, -6.803899765014648, -3.3773999214172363, -5.6149001121521, -7.60890007019043, -4.586599826812744, -3.5815999507904053, -5.430300235748291, -6.133900165557861, -6.383399963378906, -4.433300018310547, -6.460100173950195, -5.854599952697754, -6.911499977111816, -7.055799961090088, -3.207200050354004, -5.420199871063232, -4.88070011138916, -5.388199806213379, -6.73799991607666, -3.1315999031066895, -5.72629976272583, -4.328199863433838, -5.7941999435424805, -4.747000217437744, -5.484399795532227, -4.025000095367432, -5.065199851989746, -5.019899845123291, -3.8554000854492188, -4.981800079345703, -5.2617998123168945, -5.0945000648498535, -4.396299839019775, -4.464700222015381, -4.357900142669678, -4.618899822235107, -4.411399841308594, -4.7677998542785645, -4.748499870300293, -4.929500102996826, -5.185299873352051, -5.155900001525879, -4.988699913024902, -5.14739990234375, -5.283999919891357, -8.104000091552734, -7.559599876403809, -8.389399528503418, -7.6793999671936035, -8.534500122070312, -8.56190013885498, -8.550399780273438, -8.740400314331055, -8.740699768066406, -8.779199600219727, -8.77929973602295, -8.77929973602295, -8.779500007629395, -8.78219985961914, -8.78219985961914, -8.783100128173828, -8.78320026397705, -8.757699966430664, -7.387199878692627, -8.757599830627441, -8.757599830627441, -8.762900352478027, -8.798600196838379, -8.798700332641602, -8.798700332641602, -8.798600196838379, -8.770899772644043, -8.798700332641602, -8.799300193786621, -8.798800468444824, -8.769000053405762, -7.10230016708374, -3.1159000396728516, -6.350900173187256, -5.496399879455566, -3.878000020980835, -3.335900068283081, -6.406700134277344, -5.576200008392334, -4.277100086212158, -4.050099849700928, -5.118800163269043, -6.47599983215332, -2.7932000160217285, -7.888800144195557, -8.19890022277832, -8.199799537658691, -7.51170015335083, -5.434299945831299, -5.065299987792969, -8.048700332641602, -3.8864998817443848, -5.206500053405762, -6.879499912261963, -7.175300121307373, -3.97160005569458, -5.024199962615967, -5.415800094604492, -7.311100006103516, -5.176700115203857, -3.1644999980926514, -4.8454999923706055, -5.175600051879883, -5.01609992980957, -4.888299942016602, -4.166900157928467, -5.401700019836426, -4.326499938964844, -4.000199794769287, -4.906700134277344, -4.2210001945495605, -3.9837000370025635, -4.251100063323975, -4.987199783325195, -4.773499965667725, -4.867000102996826, -4.8190999031066895, -4.8979997634887695, -4.970399856567383, -5.139999866485596, -5.154099941253662, -7.265900135040283, -7.058199882507324, -7.594099998474121, -7.820199966430664, -7.476200103759766, -7.590000152587891, -7.826700210571289, -7.958199977874756, -8.07129955291748, -8.08590030670166, -8.108499526977539, -8.087900161743164, -8.241600036621094, -8.256400108337402, -7.774099826812744, -8.115799903869629, -7.90339994430542, -8.129599571228027, -8.465499877929688, -8.465499877929688, -8.469099998474121, -8.46969985961914, -7.26669979095459, -8.445099830627441, -8.446100234985352, -8.480400085449219, -8.480600357055664, -8.480899810791016, -8.481100082397461, -7.739500045776367, -7.243599891662598, -4.292799949645996, -7.449399948120117, -7.623300075531006, -6.698500156402588, -5.564899921417236, -5.069799900054932, -7.264800071716309, -7.742000102996826, -6.71750020980835, -4.866399765014648, -6.156099796295166, -5.801000118255615, -5.533400058746338, -4.415800094604492, -5.93310022354126, -4.3414998054504395, -6.286600112915039, -4.269899845123291, -6.01230001449585, -6.714900016784668, -5.792099952697754, -5.740699768066406, -4.700799942016602, -4.167699813842773, -5.622000217437744, -4.797500133514404, -5.092800140380859, -5.4741997718811035, -3.7081000804901123, -5.962900161743164, -4.035299777984619, -3.2985999584198, -4.232100009918213, -4.078000068664551, -4.271999835968018, -5.740099906921387, -4.52239990234375, -4.440499782562256, -5.336299896240234, -5.070899963378906, -4.882400035858154, -5.073200225830078, -4.252900123596191, -4.772600173950195, -5.509300231933594, -5.405700206756592, -5.335700035095215, -5.189599990844727, -5.062399864196777, -5.251800060272217, -5.160399913787842, -5.220699787139893, -7.84630012512207, -7.863800048828125, -7.526700019836426, -7.983699798583984, -8.164299964904785, -7.802499771118164, -6.978000164031982, -8.177900314331055, -8.172200202941895, -8.349599838256836, -8.349699974060059, -8.180500030517578, -8.388400077819824, -8.389100074768066, -8.192099571228027, -8.394599914550781, -8.366800308227539, -8.397199630737305, -8.397700309753418, -8.051300048828125, -8.40839958190918, -8.40839958190918, -8.380399703979492, -8.380999565124512, -7.279200077056885, -8.387499809265137, -8.385700225830078, -8.42140007019043, -7.126699924468994, -7.53849983215332, -7.125899791717529, -7.25600004196167, -6.23859977722168, -7.18209981918335, -7.6596999168396, -5.3815999031066895, -6.744200229644775, -6.22189998626709, -4.792900085449219, -7.162099838256836, -6.978000164031982, -4.801599979400635, -7.354700088500977, -6.103000164031982, -4.831999778747559, -5.137400150299072, -5.656599998474121, -7.096099853515625, -5.931700229644775, -6.475900173187256, -3.9379000663757324, -5.658699989318848, -5.821400165557861, -4.583000183105469, -6.501100063323975, -4.598100185394287, -6.383500099182129, -3.7314999103546143, -3.589200019836426, -5.702199935913086, -4.573299884796143, -5.4182000160217285, -4.816699981689453, -3.8498001098632812, -4.6921000480651855, -5.176799774169922, -6.016200065612793, -5.749499797821045, -4.571899890899658, -4.10830020904541, -4.820700168609619, -4.403299808502197, -4.014500141143799, -4.710599899291992, -5.142199993133545, -5.026599884033203, -4.86929988861084, -4.808800220489502, -4.951600074768066, -4.997200012207031, -4.965000152587891, -4.959400177001953, -5.23390007019043, -5.350100040435791, -7.548900127410889, -7.688000202178955, -7.653900146484375, -7.857399940490723, -7.686600208282471, -7.7170000076293945, -6.669400215148926, -7.419300079345703, -8.214500427246094, -8.221400260925293, -8.201800346374512, -8.00629997253418, -7.667900085449219, -8.252900123596191, -8.213800430297852, -8.130499839782715, -8.241000175476074, -8.388099670410156, -8.388099670410156, -8.283499717712402, -8.25979995727539, -8.395899772644043, -8.397000312805176, -8.401800155639648, -8.42710018157959, -8.403200149536133, -8.4375, -8.440199851989746, -8.41569995880127, -7.417900085449219, -4.808300018310547, -7.513000011444092, -7.366700172424316, -6.860199928283691, -4.71560001373291, -7.515999794006348, -5.020400047302246, -6.580399990081787, -5.459700107574463, -7.828800201416016, -2.978300094604492, -6.492300033569336, -5.610899925231934, -4.798900127410889, -6.506199836730957, -6.672500133514404, -5.203499794006348, -4.274600028991699, -5.853799819946289, -6.761899948120117, -5.712399959564209, -5.181000232696533, -4.3993000984191895, -4.929200172424316, -3.685699939727783, -3.9707000255584717, -5.692599773406982, -5.7444000244140625, -5.953400135040283, -4.815400123596191, -5.000100135803223, -4.3719000816345215, -5.486000061035156, -4.781899929046631, -4.67080020904541, -5.078999996185303, -4.64739990234375, -5.267000198364258, -4.607100009918213, -4.6697001457214355, -5.120800018310547, -4.616000175476074, -4.8246002197265625, -5.285699844360352, -4.965700149536133, -4.619800090789795, -5.29449987411499, -5.165999889373779, -7.152100086212158, -7.105100154876709, -7.71560001373291, -7.839900016784668, -7.963699817657471, -7.972599983215332, -7.978400230407715, -7.9847002029418945, -7.982500076293945, -8.167499542236328, -8.169699668884277, -7.607100009918213, -8.239100456237793, -7.958499908447266, -7.480599880218506, -8.24590015411377, -8.113300323486328, -8.206199645996094, -8.20829963684082, -8.121299743652344, -8.102399826049805, -8.242600440979004, -8.265999794006348, -8.218099594116211, -8.39009952545166, -8.3681001663208, -8.273599624633789, -8.238800048828125, -8.435099601745605, -7.842400074005127, -7.634500026702881, -6.601200103759766, -7.702400207519531, -5.1809000968933105, -7.407400131225586, -6.449100017547607, -4.798799991607666, -7.55649995803833, -7.048600196838379, -5.244200229644775, -5.2729997634887695, -6.601399898529053, -3.9992001056671143, -5.727099895477295, -5.354000091552734, -5.58620023727417, -5.470399856567383, -6.077600002288818, -6.337200164794922, -4.28980016708374, -5.827600002288818, -6.441500186920166, -4.333499908447266, -5.296599864959717, -5.3856000900268555, -3.895699977874756, -5.334400177001953, -4.236999988555908, -3.5708000659942627, -5.796199798583984, -6.320499897003174, -4.437300205230713, -4.458600044250488, -5.273900032043457, -4.374000072479248, -4.227399826049805, -5.413000106811523, -4.636199951171875, -5.29640007019043, -5.441699981689453, -5.361599922180176, -4.482600212097168, -5.059599876403809, -5.0619001388549805, -5.100800037384033, -5.051000118255615, -5.217299938201904, -5.247399806976318, -5.3242998123168945, -5.162399768829346, -5.337299823760986]}, \"token.table\": {\"Topic\": [8, 8, 5, 10, 5, 4, 9, 1, 4, 5, 8, 9, 3, 7, 1, 2, 3, 4, 5, 6, 7, 8, 9, 10, 5, 1, 2, 3, 4, 5, 6, 7, 8, 9, 10, 10, 1, 2, 3, 4, 5, 6, 7, 9, 10, 1, 2, 3, 4, 5, 6, 7, 8, 9, 10, 8, 9, 1, 6, 1, 2, 3, 4, 5, 6, 7, 8, 9, 10, 1, 1, 2, 3, 4, 5, 6, 7, 8, 9, 10, 1, 5, 1, 1, 2, 3, 4, 5, 6, 7, 8, 9, 10, 7, 1, 1, 3, 4, 5, 6, 7, 8, 9, 10, 1, 2, 3, 4, 5, 6, 7, 8, 9, 10, 1, 5, 1, 2, 3, 4, 5, 6, 7, 8, 9, 10, 3, 1, 5, 8, 1, 2, 3, 4, 5, 6, 7, 8, 9, 10, 1, 1, 2, 3, 4, 5, 6, 7, 9, 10, 1, 2, 3, 4, 5, 6, 7, 8, 9, 10, 4, 6, 6, 3, 1, 2, 3, 4, 5, 6, 7, 8, 9, 10, 6, 1, 2, 3, 4, 5, 6, 7, 8, 9, 10, 5, 7, 10, 8, 3, 1, 2, 3, 4, 5, 6, 7, 8, 9, 10, 10, 1, 2, 3, 5, 6, 7, 8, 9, 10, 3, 1, 3, 5, 6, 7, 10, 5, 4, 7, 9, 1, 8, 2, 6, 10, 4, 9, 3, 5, 8, 10, 10, 4, 6, 8, 10, 10, 5, 6, 5, 1, 2, 3, 4, 5, 6, 7, 8, 9, 10, 4, 5, 6, 7, 9, 4, 1, 2, 3, 4, 5, 6, 7, 9, 2, 2, 4, 5, 8, 9, 4, 1, 2, 3, 4, 5, 6, 7, 8, 9, 10, 3, 1, 2, 3, 4, 5, 6, 7, 8, 9, 10, 3, 6, 4, 9, 6, 2, 3, 4, 5, 6, 8, 7, 1, 1, 1, 2, 3, 4, 5, 6, 7, 8, 9, 10, 1, 2, 3, 4, 5, 6, 7, 8, 9, 10, 1, 1, 2, 4, 9, 10, 10, 2, 8, 1, 2, 3, 4, 5, 6, 7, 8, 9, 10, 1, 2, 3, 4, 5, 6, 7, 8, 9, 10, 4, 1, 2, 3, 4, 5, 7, 8, 1, 2, 3, 4, 5, 6, 7, 8, 9, 10, 10, 7, 9, 1, 2, 3, 4, 5, 6, 7, 9, 10, 2, 4, 5, 6, 1, 2, 3, 4, 5, 9, 10, 2, 3, 5, 6, 9, 1, 2, 3, 4, 5, 6, 7, 8, 9, 10, 8, 1, 2, 3, 4, 5, 7, 9, 10, 1, 1, 3, 5, 1, 2, 3, 4, 5, 6, 7, 8, 9, 10, 7, 9, 9, 1, 2, 3, 4, 5, 6, 7, 8, 9, 10, 1, 2, 3, 4, 5, 6, 7, 8, 9, 10, 1, 2, 3, 4, 5, 9, 9, 10, 10, 8, 1, 2, 3, 4, 5, 6, 7, 8, 9, 10, 2, 3, 4, 5, 6, 7, 8, 9, 10, 10, 1, 2, 3, 4, 5, 6, 7, 8, 9, 10, 1, 2, 3, 4, 5, 6, 7, 9, 10, 7, 8, 1, 2, 3, 4, 5, 6, 7, 8, 9, 10, 2, 3, 5, 7, 8, 10, 2, 3, 2, 4, 5, 7, 8, 9, 10, 1, 2, 3, 4, 5, 6, 7, 8, 9, 10, 5, 6, 7, 1, 2, 3, 4, 5, 6, 7, 8, 9, 10, 1, 2, 3, 4, 5, 6, 7, 8, 9, 10, 7, 3, 1, 2, 4, 6, 7, 8, 9, 10, 1, 10, 9, 1, 2, 3, 4, 5, 6, 7, 8, 9, 10, 2, 7, 10, 4, 10, 1, 2, 3, 4, 5, 6, 7, 8, 9, 10, 2, 7, 1, 2, 3, 4, 5, 6, 7, 8, 9, 10, 2, 3, 7, 10, 7, 1, 2, 3, 4, 5, 6, 7, 8, 9, 10, 1, 2, 3, 4, 5, 6, 7, 8, 9, 10, 1, 2, 3, 4, 5, 6, 7, 8, 9, 10, 2, 5, 6, 9, 10, 6, 9, 10, 8, 1, 2, 3, 4, 7, 3, 5, 1, 2, 3, 4, 5, 6, 7, 8, 9, 10, 1, 8, 10, 7, 8, 1, 2, 3, 4, 5, 6, 7, 8, 9, 10, 7, 3, 9, 10, 2, 8, 1, 2, 3, 4, 5, 6, 7, 8, 9, 10, 8, 1, 2, 3, 4, 5, 6, 10, 1, 2, 3, 4, 5, 6, 7, 8, 10, 2, 1, 2, 10, 2, 10, 10, 1, 2, 3, 4, 5, 6, 7, 8, 9, 10, 10, 7, 8, 5, 6, 2, 5, 1, 2, 3, 4, 5, 6, 7, 8, 9, 10, 7, 1, 2, 3, 4, 5, 8, 9, 10, 1, 2, 3, 4, 5, 6, 7, 9, 10, 4, 1, 2, 3, 4, 5, 6, 9, 10, 1, 2, 3, 4, 5, 6, 7, 8, 9, 10, 10, 2, 4, 1, 2, 3, 4, 5, 6, 7, 8, 9, 10, 1, 2, 3, 4, 5, 6, 7, 8, 9, 10, 7, 4, 3, 9, 3, 1, 2, 3, 4, 5, 6, 7, 8, 9, 10, 2, 3, 4, 5, 6, 9, 10, 2, 5, 8, 10, 1, 3, 4, 5, 6, 9, 2, 4, 5, 7, 10, 5, 1, 6, 2, 1, 2, 3, 4, 5, 6, 7, 8, 9, 10, 1, 2, 3, 4, 9, 10, 1, 2, 3, 4, 5, 6, 7, 10, 1, 2, 3, 4, 5, 6, 7, 8, 9, 10, 6, 7, 3, 6, 1, 2, 3, 4, 5, 10, 2, 4, 6, 7, 9, 1, 2, 3, 4, 5, 6, 7, 8, 9, 10, 6, 1, 2, 3, 4, 5, 6, 7, 8, 9, 10, 6, 1, 2, 3, 4, 5, 6, 7, 8, 9, 10, 1, 2, 3, 4, 5, 6, 7, 8, 9, 10, 1, 2, 3, 8, 10, 7, 1, 4, 1, 2, 3, 4, 5, 6, 7, 8, 9, 10, 4, 6, 1, 2, 3, 4, 5, 6, 7, 8, 9, 10, 2, 3, 2, 1, 2, 3, 4, 5, 6, 7, 8, 9, 10, 1, 6, 1, 2, 3, 4, 5, 6, 7, 8, 9, 10, 5, 1, 2, 3, 4, 5, 6, 9, 10, 1, 2, 3, 4, 5, 6, 7, 9, 10, 1, 2, 3, 4, 5, 6, 7, 8, 9, 10, 3, 2, 1, 2, 3, 4, 5, 6, 7, 8, 9, 10, 8, 1, 2, 3, 4, 5, 6, 7, 9, 10, 2, 3, 4, 8, 9, 10, 1, 2, 4, 8, 1, 2, 3, 4, 5, 7, 8, 9, 1, 2, 3, 4, 5, 6, 7, 8, 9, 10, 1, 2, 3, 4, 5, 6, 7, 8, 9, 10, 2, 1, 2, 3, 4, 5, 6, 7, 8, 9, 10, 3, 5, 2, 1, 2, 3, 4, 5, 6, 7, 8, 9, 10, 4, 8, 6, 1, 2, 3, 4, 5, 6, 7, 8, 9, 10, 1, 2, 3, 4, 5, 6, 9, 10, 1, 5, 4, 1, 2, 3, 4, 5, 6, 7, 9, 10, 4, 1, 3, 6, 1, 2, 3, 4, 5, 6, 8, 9, 10, 2, 3, 4, 5, 6, 7, 9, 10, 10, 1, 2, 3, 4, 5, 6, 7, 8, 9, 10, 6, 3, 5, 10, 5, 9, 2, 1, 2, 3, 4, 5, 6, 7, 8, 9, 10, 1, 1, 2, 3, 4, 5, 6, 7, 8, 9, 10, 1, 2, 3, 4, 5, 6, 7, 8, 9, 10, 9, 1, 2, 3, 4, 5, 6, 7, 8, 9, 10, 3, 1, 2, 3, 4, 5, 6, 7, 8, 9, 10, 6, 10, 1, 2, 3, 4, 5, 6, 8, 9, 10, 1, 2, 3, 4, 5, 6, 7, 8, 9, 10, 8, 8, 9, 3, 9, 10, 6, 2, 9, 1, 2, 3, 4, 5, 7, 8, 4, 1, 2, 3, 4, 5, 6, 7, 8, 10, 2, 2, 4, 5, 7, 1, 2, 3, 4, 5, 7, 8, 9, 10, 10, 1, 2, 3, 4, 5, 6, 7, 8, 9, 10, 5, 6, 1, 2, 3, 4, 5, 6, 7, 8, 9, 10, 1, 1, 2, 3, 4, 5, 6, 7, 8, 9, 10, 1, 3, 4, 5, 6, 7, 4, 9, 4, 6, 9, 10, 1, 2, 3, 4, 5, 6, 7, 8, 9, 10, 1, 3, 4, 6, 7, 8, 9, 10, 1, 2, 3, 4, 5, 6, 7, 8, 9, 10, 6, 4, 8, 2, 1, 2, 3, 4, 5, 6, 7, 8, 9, 10, 4, 8, 1, 2, 3, 4, 5, 6, 7, 8, 9, 10, 4, 5, 1, 2, 3, 4, 5, 6, 7, 8, 10, 2, 4, 6, 7, 9, 3, 10, 1, 2, 3, 4, 5, 8, 1, 10, 6, 1, 2, 3, 4, 5, 6, 7, 8, 9, 10, 1, 2, 3, 4, 5, 6, 9, 10, 7, 1, 2, 3, 4, 5, 6, 7, 8, 9, 10, 3, 1, 2, 3, 4, 5, 6, 7, 8, 9, 10, 5, 1, 2, 3, 4, 5, 6, 7, 9, 10, 1, 2, 3, 4, 5, 6, 7, 8, 9, 10, 1, 2, 3, 4, 5, 6, 7, 8, 9, 10, 1, 2, 3, 5, 7, 8, 9, 10, 1, 2, 3, 4, 5, 6, 7, 8, 9, 10, 1, 2, 3, 4, 5, 6, 7, 8, 9, 10, 1, 2, 3, 8, 2, 3, 4, 8, 9, 10, 1, 4, 1, 2, 3, 4, 5, 6, 7, 8, 9, 10, 1, 2, 3, 4, 5, 6, 7, 8, 9, 10, 1, 2, 3, 4, 5, 6, 7, 8, 9, 10, 1, 2, 3, 4, 5, 6, 7, 8, 9, 10, 1, 2, 3, 4, 5, 6, 7, 8, 10, 5, 9, 10, 1, 4, 5, 6, 8, 2, 6, 1, 2, 3, 4, 5, 6, 7, 8, 9, 10, 7, 5, 6, 1, 2, 4, 5, 7, 8, 10, 4, 9, 6, 9, 1, 2, 3, 4, 5, 7, 8, 9, 10, 7, 5, 4, 7, 10, 1, 2, 3, 4, 5, 6, 7, 8, 9, 10, 1, 2, 3, 4, 5, 6, 7, 9, 10, 1, 2, 3, 5, 6, 7, 2, 1, 2, 3, 4, 5, 6, 7, 8, 9, 10, 1, 2, 3, 4, 5, 6, 8, 9, 10, 1, 2, 3, 4, 5, 6, 7, 8, 9, 10, 6, 1, 10, 1, 2, 3, 4, 5, 6, 7, 8, 9, 10, 1, 10, 1, 2, 3, 4, 5, 6, 7, 8, 9, 10, 10, 4, 1, 3, 4, 5, 6, 7, 8, 9, 10, 1, 1, 2, 3, 4, 5, 6, 7, 8, 9, 10, 1, 2, 3, 4, 5, 6, 7, 8, 9, 10, 8, 10, 1, 2, 3, 4, 5, 6, 7, 8, 9, 10, 8, 1, 5, 1, 1, 10, 10, 1, 3, 5, 8, 9, 8, 1, 2, 4, 5, 6, 8, 5, 9, 1, 2, 3, 4, 5, 6, 7, 8, 9, 10, 2, 7, 1, 2, 4, 5, 6, 7, 8, 9, 10, 1, 2, 3, 4, 5, 7, 8, 9, 10, 2, 1, 2, 3, 4, 5, 6, 7, 8, 9, 10, 1, 2, 4, 9, 1, 2, 3, 4, 5, 6, 7, 8, 9, 10, 1, 4, 6, 8, 9, 10, 1, 2, 4, 8, 1, 3, 4, 5, 6, 7, 8, 9, 10, 1, 2, 3, 4, 5, 6, 7, 8, 9, 10, 4, 9, 3, 1, 2, 3, 4, 5, 6, 7, 8, 9, 10, 2, 1, 2, 3, 4, 5, 6, 7, 8, 9, 10, 1, 4, 6, 1, 2, 3, 4, 5, 6, 7, 8, 9, 10, 1, 3, 4, 5, 6, 8, 9, 10, 1, 2, 3, 4, 5, 9, 10, 1, 3, 5, 7, 8, 1, 2, 3, 4, 5, 6, 7, 8, 9, 10, 6, 1, 2, 3, 4, 5, 7, 9, 10, 1, 1, 2, 3, 6, 10, 8, 2, 3, 5, 9, 10, 10, 3, 1, 2, 3, 4, 5, 6, 7, 9, 10, 1, 2, 3, 4, 5, 6, 7, 8, 9, 10, 1, 2, 3, 4, 5, 6, 7, 8, 9, 10, 1, 2, 3, 4, 5, 6, 7, 8, 9, 10, 9, 9, 1, 2, 3, 4, 5, 6, 7, 8, 9, 10, 1, 2, 3, 4, 5, 6, 7, 8, 9, 10, 1, 2, 3, 4, 5, 6, 8, 9, 10, 1, 7, 2, 3, 4, 5, 6, 7, 8, 9, 10, 1, 2, 3, 5, 6, 7, 8, 9, 1, 2, 3, 4, 5, 6, 7, 8, 9, 10, 1, 2, 4, 6, 9, 1, 2, 3, 4, 5, 6, 7, 8, 9, 10, 3, 2, 3, 5, 7, 4, 1, 2, 3, 4, 5, 6, 7, 8, 9, 10, 1, 1, 2, 3, 4, 5, 6, 7, 8, 9, 10, 1, 2, 3, 4, 5, 6, 7, 8, 9, 10, 6, 4, 3, 9, 10, 1, 2, 3, 4, 5, 6, 7, 8, 9, 10, 5, 8, 1, 9, 3, 6, 8, 1, 2, 3, 4, 7, 9, 10, 5, 1, 2, 3, 4, 5, 6, 7, 8, 9, 10, 1, 9, 7, 8, 1, 2, 3, 4, 5, 6, 7, 8, 9, 10, 1, 4, 1, 2, 3, 4, 5, 6, 7, 8, 9, 10, 2, 1, 2, 3, 4, 5, 6, 7, 8, 9, 10, 1, 3, 5, 6, 9, 10, 2, 7, 9, 3, 4, 5, 6, 9, 10, 5, 8, 9, 7, 1, 3, 10, 1, 5, 9, 1, 2, 4, 5, 6, 7, 8, 9, 10, 3, 4, 1, 2, 3, 4, 5, 6, 7, 8, 9, 10, 9, 1, 2, 3, 4, 5, 7, 8, 9, 10, 4, 5, 9, 4, 5, 1, 2, 3, 4, 5, 6, 7, 8, 9, 10, 1, 3, 10, 8, 3, 1, 1, 2, 3, 4, 5, 6, 8, 9, 10, 4, 8, 7, 3, 1, 2, 3, 4, 5, 6, 7, 8, 10, 1, 2, 3, 4, 5, 6, 7, 8, 9, 10, 4, 5, 9, 1, 10, 1, 2, 3, 4, 5, 6, 7, 8, 9, 10, 1, 2, 3, 4, 5, 6, 8, 9, 10, 1, 2, 4, 9, 10, 1, 2, 4, 6, 10, 6, 10, 9, 1, 2, 3, 4, 5, 6, 7, 8, 9, 10, 2, 3, 9, 1, 2, 3, 4, 5, 6, 7, 8, 9, 10, 1, 2, 3, 4, 5, 6, 7, 8, 9, 10, 2, 3, 5, 7, 8, 9, 2, 7, 8, 2, 3, 4, 8, 9, 10, 8, 2, 3, 5, 6, 9, 10, 5, 5, 5, 2, 3, 4, 5, 7, 9, 4, 1, 2, 3, 4, 5, 6, 7, 8, 9, 10, 1, 2, 3, 4, 5, 6, 7, 8, 9, 10, 7, 5, 4, 1, 10, 7, 3, 6, 1, 2, 3, 4, 5, 6, 7, 8, 9, 10, 1, 2, 3, 4, 5, 8, 10, 4, 1, 2, 4, 5, 6, 7, 8, 9, 10, 1, 2, 3, 4, 5, 6, 7, 8, 9, 10, 6, 6, 1, 4, 5, 8, 10, 1, 2, 3, 4, 5, 6, 7, 8, 9, 10, 1, 2, 3, 4, 5, 6, 7, 8, 9, 10, 2, 1, 2, 3, 4, 5, 6, 7, 8, 9, 10, 4, 6, 1, 2, 3, 4, 5, 6, 7, 8, 9, 1, 2, 3, 4, 5, 6, 7, 8, 9, 10, 9, 1, 2, 3, 4, 5, 6, 7, 8, 9, 10, 1, 8, 4, 4, 1, 2, 5, 8, 9, 10, 2, 7, 1, 2, 3, 4, 5, 6, 7, 9, 10, 1, 2, 3, 4, 5, 6, 7, 8, 9, 10, 4, 9, 8, 2, 3, 4, 5, 6, 7, 8, 1, 3, 7, 9, 5, 1, 2, 3, 4, 5, 6, 7, 8, 9, 10, 9, 1, 2, 3, 4, 5, 6, 7, 8, 9, 10, 1, 2, 3, 4, 5, 6, 7, 8, 9, 10, 3, 5, 1, 1, 2, 3, 4, 5, 6, 7, 8, 9, 10, 1, 2, 3, 4, 5, 6, 7, 8, 9, 10, 1, 2, 3, 4, 5, 6, 7, 8, 9, 10, 7, 1, 2, 3, 4, 5, 6, 7, 8, 9, 10, 4, 5, 5, 9, 1, 2, 3, 4, 5, 6, 7, 8, 9, 10, 1, 2, 3, 4, 5, 7, 8, 9, 10, 1, 2, 3, 4, 5, 6, 7, 8, 9, 10, 3, 1, 2, 3, 4, 5, 6, 7, 8, 9, 10, 1, 2, 4, 6, 8, 9, 10, 3, 1, 2, 3, 4, 5, 6, 7, 10, 1, 2, 3, 4, 5, 6, 7, 8, 9, 10, 6, 2, 4, 1, 2, 3, 5, 6, 8, 9, 1, 2, 3, 8, 10, 1, 2, 3, 4, 5, 6, 7, 8, 9, 10, 5, 1, 2, 3, 4, 5, 6, 7, 8, 9, 10, 2, 3, 8, 10, 1, 2, 3, 4, 5, 6, 7, 8, 9, 10, 2, 2, 4, 7, 5, 10, 9, 1, 2, 3, 4, 5, 6, 7, 8, 9, 10, 1, 2, 3, 4, 5, 6, 7, 9, 10, 1, 2, 3, 4, 5, 6, 7, 9, 10, 1, 4], \"Freq\": [0.880940854549408, 0.9035031795501709, 0.7046781778335571, 0.8283262848854065, 0.6884207725524902, 0.8738886117935181, 0.7811896204948425, 0.07272306084632874, 0.1696871519088745, 0.024241020902991295, 0.5575434565544128, 0.12120510637760162, 0.11084149777889252, 0.7758905291557312, 0.08276921510696411, 0.016553841531276703, 0.5591520071029663, 0.04046494886279106, 0.04782221093773842, 0.02575042098760605, 0.0036786317359656096, 0.02391110546886921, 0.14346663653850555, 0.057018790394067764, 0.7979792952537537, 0.0632513165473938, 0.012650263495743275, 0.5211908221244812, 0.0936119481921196, 0.118912473320961, 0.0025300525594502687, 0.02277047373354435, 0.02024042047560215, 0.0759015828371048, 0.0708414763212204, 0.8386136293411255, 0.02689383551478386, 0.03585844859480858, 0.6394756436347961, 0.04781126603484154, 0.05079947039484978, 0.03287024423480034, 0.0448230616748333, 0.06574048846960068, 0.05677587538957596, 0.09045950323343277, 0.016153482720255852, 0.20999528467655182, 0.045229751616716385, 0.2552250325679779, 0.038768358528614044, 0.07753671705722809, 0.003230696776881814, 0.054921843111515045, 0.21322597563266754, 0.7508755922317505, 0.18771889805793762, 0.8908832669258118, 0.8008489012718201, 0.09787110239267349, 0.0345427431166172, 0.5411696434020996, 0.02302849479019642, 0.14968521893024445, 0.01151424739509821, 0.05757123976945877, 0.028785619884729385, 0.0172713715583086, 0.04029986634850502, 0.8991761207580566, 0.4334332048892975, 0.15427282452583313, 0.0979510024189949, 0.024487750604748726, 0.026936525478959084, 0.04162917658686638, 0.044077951461076736, 0.017141425982117653, 0.056321825832128525, 0.10284855216741562, 0.8910781741142273, 0.6132867336273193, 0.8937045931816101, 0.26658377051353455, 0.13497911393642426, 0.15860046446323395, 0.050617169588804245, 0.011810672469437122, 0.08942366391420364, 0.11304501444101334, 0.008436194621026516, 0.0927981436252594, 0.07423851639032364, 0.7939345836639404, 0.8274021148681641, 0.16251346468925476, 0.03447255492210388, 0.05909580737352371, 0.3053283393383026, 0.12311626970767975, 0.03939720615744591, 0.0049246507696807384, 0.2511571943759918, 0.02462325245141983, 0.022217798978090286, 0.06387616693973541, 0.149970144033432, 0.09720286726951599, 0.04999004676938057, 0.19162850081920624, 0.06665339320898056, 0.04443559795618057, 0.12219788879156113, 0.19440573453903198, 0.09817240387201309, 0.7853792309761047, 0.028148263692855835, 0.05629652738571167, 0.028148263692855835, 0.06098790839314461, 0.14543269574642181, 0.014074131846427917, 0.04222239553928375, 0.14543269574642181, 0.10321030020713806, 0.38000157475471497, 0.7429184317588806, 0.07102987915277481, 0.14205975830554962, 0.7102988362312317, 0.056185852736234665, 0.056185852736234665, 0.05056726932525635, 0.06180443987250328, 0.011237170547246933, 0.05056726932525635, 0.07866019755601883, 0.5169098377227783, 0.07304161041975021, 0.039330098778009415, 0.7796183228492737, 0.024605074897408485, 0.02050422877073288, 0.7668581604957581, 0.004100846126675606, 0.102521151304245, 0.016403384506702423, 0.004100846126675606, 0.016403384506702423, 0.045109305530786514, 0.07401926815509796, 0.13693563640117645, 0.0222057793289423, 0.1591414213180542, 0.014803852885961533, 0.07401926815509796, 0.0222057793289423, 0.15544046461582184, 0.06661733984947205, 0.2738712728023529, 0.7524717450141907, 0.8246834874153137, 0.8246062994003296, 0.9287188649177551, 0.1211257204413414, 0.1585390716791153, 0.11317538470029831, 0.05565235763788223, 0.04396068677306175, 0.03975168615579605, 0.12860839068889618, 0.20203208923339844, 0.04021935164928436, 0.09774237871170044, 0.8246132135391235, 0.035490117967128754, 0.01935824565589428, 0.03226374462246895, 0.01290549710392952, 0.022584620863199234, 0.00645274855196476, 0.7162551283836365, 0.0677538588643074, 0.00645274855196476, 0.07743298262357712, 0.6132495403289795, 0.8845242857933044, 0.06318030506372452, 0.9022604823112488, 0.8426131010055542, 0.025814548134803772, 0.03975440561771393, 0.12855644524097443, 0.020135346800088882, 0.2720853388309479, 0.07382960617542267, 0.11719805002212524, 0.171924889087677, 0.06247120723128319, 0.08828575164079666, 0.7967284917831421, 0.09433221817016602, 0.011791527271270752, 0.005895763635635376, 0.023583054542541504, 0.023583054542541504, 0.6013678908348083, 0.1238110363483429, 0.053061872720718384, 0.053061872720718384, 0.7209907174110413, 0.011176367290318012, 0.7599929571151733, 0.10058730840682983, 0.05588183552026749, 0.011176367290318012, 0.04470546916127205, 0.6867709159851074, 0.08043406158685684, 0.7239065766334534, 0.08043406158685684, 0.8118100166320801, 0.678830623626709, 0.8129886388778687, 0.10162357985973358, 0.8117814064025879, 0.11376973986625671, 0.7963882088661194, 0.791730523109436, 0.07917305082082748, 0.9030002951622009, 0.8896538019180298, 0.8379570841789246, 0.0455244742333889, 0.682867169380188, 0.0455244742333889, 0.2276223748922348, 0.838440477848053, 0.6981263160705566, 0.26179736852645874, 0.6136391162872314, 0.2552032470703125, 0.13221372663974762, 0.31977272033691406, 0.04304632917046547, 0.1260642558336258, 0.0030747377313673496, 0.03074737824499607, 0.03074737824499607, 0.036896854639053345, 0.024597901850938797, 0.8098791837692261, 0.028924256563186646, 0.028924256563186646, 0.05784851312637329, 0.08677276968955994, 0.8740413188934326, 0.022506212815642357, 0.11253106594085693, 0.022506212815642357, 0.6976926326751709, 0.045012425631284714, 0.045012425631284714, 0.022506212815642357, 0.022506212815642357, 0.8095338344573975, 0.04742647707462311, 0.09485295414924622, 0.09485295414924622, 0.7113971710205078, 0.04742647707462311, 0.895798921585083, 0.13430586457252502, 0.4548085033893585, 0.06257432699203491, 0.12362244725227356, 0.018314436078071594, 0.0992031991481781, 0.03968127816915512, 0.050364699214696884, 0.006104812026023865, 0.010683421045541763, 0.8629941344261169, 0.06395339220762253, 0.132474884390831, 0.19642828404903412, 0.4156970679759979, 0.00456809950992465, 0.031976696103811264, 0.08222579210996628, 0.050249096006155014, 0.0182723980396986, 0.00456809950992465, 0.08742218464612961, 0.7867996096611023, 0.7927130460739136, 0.6923270225524902, 0.8010255098342896, 0.7691937685012817, 0.04524669423699379, 0.011311673559248447, 0.10180506110191345, 0.05655836686491966, 0.011311673559248447, 0.8091363310813904, 0.8574226498603821, 0.7266944646835327, 0.07351825386285782, 0.032164234668016434, 0.18379563093185425, 0.018379563465714455, 0.013784672133624554, 0.009189781732857227, 0.013784672133624554, 0.06892336159944534, 0.5651715993881226, 0.018379563465714455, 0.08833172917366028, 0.011041466146707535, 0.07729026675224304, 0.09937319904565811, 0.14353905618190765, 0.14905980229377747, 0.049686599522829056, 0.08833172917366028, 0.055207330733537674, 0.24291226267814636, 0.8818032741546631, 0.10551024228334427, 0.03517008200287819, 0.6330614686012268, 0.03517008200287819, 0.17585040628910065, 0.8852905631065369, 0.8758881092071533, 0.7468861937522888, 0.7799785733222961, 0.12464960664510727, 0.0267106294631958, 0.062324803322553635, 0.0267106294631958, 0.07122834771871567, 0.035614173859357834, 0.48969489336013794, 0.017807086929678917, 0.15136024355888367, 0.3604816496372223, 0.07850780338048935, 0.03794543817639351, 0.06084354594349861, 0.021589646115899086, 0.23814032971858978, 0.01831848733127117, 0.09224666655063629, 0.030748888850212097, 0.06018931418657303, 0.9050926566123962, 0.06016123667359352, 0.02406449429690838, 0.09625797718763351, 0.04812898859381676, 0.2045482099056244, 0.5173866152763367, 0.03609674051403999, 0.1541040539741516, 0.032442960888147354, 0.45420143008232117, 0.04055370017886162, 0.09327351301908493, 0.02027685008943081, 0.1419379562139511, 0.036498330533504486, 0.008110740222036839, 0.02433221973478794, 0.8471044898033142, 0.2132280170917511, 0.7107600569725037, 0.07627752423286438, 0.2002284973859787, 0.009534690529108047, 0.4385957717895508, 0.009534690529108047, 0.009534690529108047, 0.04767345264554024, 0.06674283742904663, 0.143020361661911, 0.1783742606639862, 0.1783742606639862, 0.0891871303319931, 0.5351227521896362, 0.0344255305826664, 0.1377021223306656, 0.5335956811904907, 0.0172127652913332, 0.20655317604541779, 0.051638294011354446, 0.0172127652913332, 0.018212612718343735, 0.018212612718343735, 0.38246485590934753, 0.49174052476882935, 0.07285045087337494, 0.17535218596458435, 0.06368211656808853, 0.18440650403499603, 0.09235416352748871, 0.06941652297973633, 0.07635817676782608, 0.031086530536413193, 0.021730391308665276, 0.23088540136814117, 0.05492959916591644, 0.7371196150779724, 0.07614202797412872, 0.050761349499225616, 0.11421304196119308, 0.1649743914604187, 0.012690337374806404, 0.20304539799690247, 0.03807101398706436, 0.3299487829208374, 0.9082438945770264, 0.0907207801938057, 0.0907207801938057, 0.7257662415504456, 0.0769980177283287, 0.43503880500793457, 0.02309940569102764, 0.0038499007932841778, 0.06544831395149231, 0.0038499007932841778, 0.019249504432082176, 0.061598412692546844, 0.02309940569102764, 0.29259246587753296, 0.7342624664306641, 0.10489463806152344, 0.6931456327438354, 0.12328119575977325, 0.12328119575977325, 0.04288041591644287, 0.42344412207603455, 0.03216031193733215, 0.05360051989555359, 0.03216031193733215, 0.09648093581199646, 0.026800259947776794, 0.04824046790599823, 0.01437433622777462, 0.050310179591178894, 0.2515508830547333, 0.08085564523935318, 0.3467808663845062, 0.0934331864118576, 0.035935841500759125, 0.025155089795589447, 0.03952942416071892, 0.06109093129634857, 0.03610203415155411, 0.18051016330718994, 0.10830610245466232, 0.6137346029281616, 0.03610203415155411, 0.03610203415155411, 0.7031986713409424, 0.23439955711364746, 0.826484739780426, 0.6801446080207825, 0.022812874987721443, 0.24918679893016815, 0.19127719104290009, 0.1175740510225296, 0.029832221567630768, 0.061419278383255005, 0.1789933294057846, 0.059664443135261536, 0.05089025944471359, 0.03860640525817871, 0.022589579224586487, 0.060238879173994064, 0.18824650347232819, 0.1807166337966919, 0.007529859896749258, 0.39155271649360657, 0.015059719793498516, 0.08282846212387085, 0.03764929994940758, 0.7876859903335571, 0.09383323043584824, 0.155185729265213, 0.1624036729335785, 0.03248073160648346, 0.07939735054969788, 0.0360897034406662, 0.23819203674793243, 0.0360897034406662, 0.09744220227003098, 0.06857043504714966, 0.03630175068974495, 0.08712420612573624, 0.306386798620224, 0.06969936192035675, 0.18150876462459564, 0.14956322312355042, 0.02904140204191208, 0.03775382041931152, 0.10164490342140198, 0.6981322169303894, 0.8788977861404419, 0.14497250318527222, 0.02540755271911621, 0.19578760862350464, 0.1584235578775406, 0.1584235578775406, 0.058287911117076874, 0.005978247616440058, 0.002989123808220029, 0.15095074474811554, 0.09864108264446259, 0.036038562655448914, 0.07207712531089783, 0.10811568796634674, 0.7207712531089783, 0.036038562655448914, 0.036038562655448914, 0.859703779220581, 0.7483014464378357, 0.11309021711349487, 0.09047216922044754, 0.04523608461022377, 0.18094433844089508, 0.0678541287779808, 0.0678541287779808, 0.4523608684539795, 0.2147279679775238, 0.1263105720281601, 0.004210352431982756, 0.3494592607021332, 0.02526211366057396, 0.18104515969753265, 0.01263105683028698, 0.033682819455862045, 0.03789317235350609, 0.016841409727931023, 0.27450045943260193, 0.686251163482666, 0.8330247402191162, 0.3208276033401489, 0.13367816805839539, 0.060155171900987625, 0.07018103450536728, 0.053471263498067856, 0.3241695463657379, 0.026735631749033928, 0.003341953968629241, 0.003341953968629241, 0.006683907937258482, 0.052903689444065094, 0.04702550172805786, 0.31350332498550415, 0.027431542053818703, 0.19202078878879547, 0.04114731401205063, 0.10188858211040497, 0.06661946326494217, 0.0901322066783905, 0.06661946326494217, 0.8822032809257507, 0.7424824237823486, 0.021365543827414513, 0.042731087654829025, 0.021365543827414513, 0.06409662961959839, 0.021365543827414513, 0.6623318195343018, 0.06409662961959839, 0.10682771354913712, 0.1128421425819397, 0.7898949980735779, 0.7096840739250183, 0.1710178703069687, 0.11604783684015274, 0.018323343247175217, 0.12215561419725418, 0.07329337298870087, 0.024431124329566956, 0.3603590726852417, 0.07329337298870087, 0.006107781082391739, 0.04886224865913391, 0.06604736298322678, 0.7925683856010437, 0.06604736298322678, 0.8871195316314697, 0.07392662763595581, 0.020105957984924316, 0.14744369685649872, 0.006701985839754343, 0.08042383193969727, 0.07372184842824936, 0.08042383193969727, 0.026807943359017372, 0.04021191596984863, 0.42892709374427795, 0.10052978992462158, 0.6803850531578064, 0.6767508387565613, 0.05066223442554474, 0.13932114839553833, 0.018998337909579277, 0.05066223442554474, 0.03166389465332031, 0.07599335163831711, 0.06332778930664062, 0.3166389465332031, 0.02533111721277237, 0.23431283235549927, 0.07175194472074509, 0.21525582671165466, 0.07175194472074509, 0.6457675099372864, 0.6981740593910217, 0.010497285053133965, 0.08922692388296127, 0.440885990858078, 0.01574592851102352, 0.05773506686091423, 0.1732052117586136, 0.01574592851102352, 0.05248642712831497, 0.06298371404409409, 0.08397828042507172, 0.01661539450287819, 0.08545059710741043, 0.3916485905647278, 0.021362649276852608, 0.10206599533557892, 0.23736277222633362, 0.021362649276852608, 0.02848353236913681, 0.037978045642375946, 0.059340693056583405, 0.12685230374336243, 0.09513922035694122, 0.1014818400144577, 0.08245399594306946, 0.03171307593584061, 0.006342615000903606, 0.32981598377227783, 0.06342615187168121, 0.06342615187168121, 0.09513922035694122, 0.06965073943138123, 0.13930147886276245, 0.03482536971569061, 0.03482536971569061, 0.6965073943138123, 0.8245826363563538, 0.84474116563797, 0.7042459845542908, 0.6788340210914612, 0.038543734699487686, 0.616699755191803, 0.038543734699487686, 0.19271866977214813, 0.038543734699487686, 0.07331187278032303, 0.879742443561554, 0.051832813769578934, 0.00505685992538929, 0.1592910885810852, 0.08217397332191467, 0.1377994269132614, 0.3906424343585968, 0.006321074906736612, 0.03286958858370781, 0.09608034044504166, 0.03792645037174225, 0.05890566483139992, 0.7068679928779602, 0.11781132966279984, 0.8312885165214539, 0.8791258335113525, 0.1377750039100647, 0.07601379603147507, 0.10926983505487442, 0.10451897233724594, 0.39432159066200256, 0.023754311725497246, 0.033256035298109055, 0.05701034888625145, 0.033256035298109055, 0.023754311725497246, 0.6980825066566467, 0.8195552825927734, 0.842910885810852, 0.6868788599967957, 0.7873446941375732, 0.8764776587486267, 0.0683765709400177, 0.060530077666044235, 0.07622306048870087, 0.07286027818918228, 0.09527882188558578, 0.04147431254386902, 0.07398120313882828, 0.3418828547000885, 0.10088346153497696, 0.0694974958896637, 0.9017833471298218, 0.026534460484981537, 0.18574123084545135, 0.053068920969963074, 0.07960338145494461, 0.6102926135063171, 0.026534460484981537, 0.026534460484981537, 0.5206829309463501, 0.1115749180316925, 0.037191636860370636, 0.13636934757232666, 0.024794425815343857, 0.012397212907671928, 0.024794425815343857, 0.06198606267571449, 0.06198606267571449, 0.8703002333641052, 0.10649760067462921, 0.10649760067462921, 0.7454832196235657, 0.07379651069641113, 0.8855581283569336, 0.7948117256164551, 0.2341093271970749, 0.08122160285711288, 0.03344418853521347, 0.19588738679885864, 0.023888707160949707, 0.042999669909477234, 0.32488641142845154, 0.03344418853521347, 0.023888707160949707, 0.009555482305586338, 0.8405699729919434, 0.8429454565048218, 0.8740056157112122, 0.7030451893806458, 0.688982367515564, 0.7817850112915039, 0.15635700523853302, 0.11716196686029434, 0.07615528255701065, 0.14645245671272278, 0.02636144310235977, 0.16988486051559448, 0.19624629616737366, 0.06736813485622406, 0.04247121512889862, 0.07469075173139572, 0.08347789943218231, 0.8499270081520081, 0.020228736102581024, 0.04045747220516205, 0.06068621203303337, 0.06068621203303337, 0.22251610457897186, 0.10114368796348572, 0.020228736102581024, 0.46526095271110535, 0.02165837027132511, 0.03465339168906212, 0.61509770154953, 0.01732669584453106, 0.13861356675624847, 0.047648414969444275, 0.025990042835474014, 0.06497510522603989, 0.03898506611585617, 0.8737081289291382, 0.04502825811505318, 0.09824346750974655, 0.45846953988075256, 0.02046738937497139, 0.2005804181098938, 0.12280433624982834, 0.03684129938483238, 0.012280433438718319, 0.15517067909240723, 0.036750949919223785, 0.020417194813489914, 0.020417194813489914, 0.012250317260622978, 0.4328445494174957, 0.20417195558547974, 0.020417194813489914, 0.06533502787351608, 0.024500634521245956, 0.7948118448257446, 0.7668127417564392, 0.12780213356018066, 0.05637476593255997, 0.26078400015830994, 0.12613347172737122, 0.2595672905445099, 0.08841510117053986, 0.10585477948188782, 0.003650164930149913, 0.018656397238373756, 0.02352328412234783, 0.056780342012643814, 0.00829483661800623, 0.024884508922696114, 0.00829483661800623, 0.22396057844161987, 0.012442254461348057, 0.012442254461348057, 0.037326764315366745, 0.5350169539451599, 0.08294836431741714, 0.05806385353207588, 0.8923678398132324, 0.7343267202377319, 0.12964260578155518, 0.8210698366165161, 0.7625071406364441, 0.138267382979393, 0.11368651688098907, 0.1351947784423828, 0.026117172092199326, 0.11983173340559006, 0.21508260071277618, 0.013826738111674786, 0.1398036926984787, 0.053770650178194046, 0.04455282539129257, 0.032328784465789795, 0.16164392232894897, 0.010776260867714882, 0.538813054561615, 0.12931513786315918, 0.10776261240243912, 0.010776260867714882, 0.05044080317020416, 0.60528963804245, 0.05044080317020416, 0.2522040009498596, 0.17757363617420197, 0.05919121205806732, 0.05919121205806732, 0.05919121205806732, 0.5919121503829956, 0.05919121205806732, 0.04286155104637146, 0.8143694400787354, 0.04286155104637146, 0.04286155104637146, 0.04286155104637146, 0.7445720434188843, 0.8902832269668579, 0.8249378800392151, 0.7995526194572449, 0.11151725798845291, 0.1393965780735016, 0.022303452715277672, 0.27600520849227905, 0.14776036143302917, 0.09478966891765594, 0.10315346717834473, 0.005575863178819418, 0.04739483445882797, 0.05297069624066353, 0.0226198248565197, 0.0678594708442688, 0.2261982411146164, 0.0226198248565197, 0.520255982875824, 0.1357189416885376, 0.01635664887726307, 0.6051960587501526, 0.0817832499742508, 0.03271329775452614, 0.0817832499742508, 0.06542659550905228, 0.03271329775452614, 0.09813989698886871, 0.07710713148117065, 0.1176898330450058, 0.040582701563835144, 0.05275750905275345, 0.03652442991733551, 0.012174810282886028, 0.5072837471961975, 0.06899058818817139, 0.032466158270835876, 0.05275750905275345, 0.6723992824554443, 0.8343915343284607, 0.8699692487716675, 0.8009883165359497, 0.6999505162239075, 0.12499116361141205, 0.02499823272228241, 0.07499469816684723, 0.02499823272228241, 0.02499823272228241, 0.09991557896137238, 0.1665259599685669, 0.1165681704878807, 0.5661882758140564, 0.01665259525179863, 0.2946746349334717, 0.03134836256504059, 0.10658443719148636, 0.03970792889595032, 0.10867433249950409, 0.01671912707388401, 0.04388770833611488, 0.11076422035694122, 0.09195519983768463, 0.1546519249677658, 0.8253070116043091, 0.03724222630262375, 0.34759411215782166, 0.06620840728282928, 0.26483362913131714, 0.049656301736831665, 0.03310420364141464, 0.12620976567268372, 0.010345063172280788, 0.024828150868415833, 0.03724222630262375, 0.8245755434036255, 0.6222352385520935, 0.04321078211069107, 0.04321078211069107, 0.04321078211069107, 0.07777940481901169, 0.034568626433610916, 0.025926468893885612, 0.08642156422138214, 0.017284313216805458, 0.008642156608402729, 0.23710665106773376, 0.24975234270095825, 0.09642337262630463, 0.08851981908082962, 0.03951777517795563, 0.06955128163099289, 0.047421328723430634, 0.03951777517795563, 0.017387820407748222, 0.113811194896698, 0.030317824333906174, 0.7882633805274963, 0.09095346927642822, 0.030317824333906174, 0.030317824333906174, 0.6967410445213318, 0.7796990871429443, 0.09746238589286804, 0.05832083895802498, 0.1447220891714096, 0.021600311622023582, 0.07776112109422684, 0.05832083895802498, 0.05400077626109123, 0.06912099570035934, 0.2743239402770996, 0.10800155252218246, 0.13608196377754211, 0.13567113876342773, 0.7461912035942078, 0.37164655327796936, 0.12615525722503662, 0.024354295805096626, 0.07988209277391434, 0.09108506888151169, 0.06429534405469894, 0.06673076748847961, 0.06234699860215187, 0.07306288927793503, 0.04042813181877136, 0.8095425963401794, 0.748299241065979, 0.8095517158508301, 0.06416992843151093, 0.12833985686302185, 0.03455303981900215, 0.44918951392173767, 0.03948918730020523, 0.04936148598790169, 0.029616890475153923, 0.08885067701339722, 0.059233780950307846, 0.04936148598790169, 0.8887725472450256, 0.8019128441810608, 0.11381695419549942, 0.05034211650490761, 0.40492570400238037, 0.008755150251090527, 0.07441877573728561, 0.05909726396203041, 0.006566362921148539, 0.10068423300981522, 0.04377575218677521, 0.14008240401744843, 0.8253634572029114, 0.016273288056254387, 0.016273288056254387, 0.37428563833236694, 0.016273288056254387, 0.14645959436893463, 0.016273288056254387, 0.032546576112508774, 0.37428563833236694, 0.1647486686706543, 0.026359787210822105, 0.05271957442164421, 0.09884919971227646, 0.4547063410282135, 0.05271957442164421, 0.006589946802705526, 0.09884919971227646, 0.046129629015922546, 0.017900481820106506, 0.38187697529792786, 0.1670711785554886, 0.011933655478060246, 0.02685072459280491, 0.14022044837474823, 0.07756875455379486, 0.06861851364374161, 0.08651900291442871, 0.014917069114744663, 0.7234853506088257, 0.8095760345458984, 0.07408709079027176, 0.05476002395153046, 0.14559724926948547, 0.048961903899908066, 0.0831063911318779, 0.5070134401321411, 0.018682831898331642, 0.001932706800289452, 0.028346367180347443, 0.037365663796663284, 0.7983646988868713, 0.08733972907066345, 0.40612974762916565, 0.1921474039554596, 0.008733972907066345, 0.03930287808179855, 0.008733972907066345, 0.0480368509888649, 0.0786057561635971, 0.13100959360599518, 0.12334237992763519, 0.04111412540078163, 0.08222825080156326, 0.1850135624408722, 0.45225539803504944, 0.08222825080156326, 0.823531985282898, 0.04117659851908684, 0.04117659851908684, 0.04117659851908684, 0.3195056915283203, 0.00968199037015438, 0.058091942220926285, 0.04840995371341705, 0.00968199037015438, 0.00968199037015438, 0.5325095057487488, 0.01936398074030876, 0.18629948794841766, 0.03725989907979965, 0.1720297485589981, 0.15221065282821655, 0.10860864073038101, 0.05628622695803642, 0.030125023797154427, 0.041223715990781784, 0.14666129648685455, 0.06976321339607239, 0.09799450635910034, 0.039638228714466095, 0.2653559148311615, 0.17947308719158173, 0.18057414889335632, 0.001101061818189919, 0.008808494545519352, 0.007707433309406042, 0.13432954251766205, 0.08368070423603058, 0.6989244222640991, 0.10930585861206055, 0.022877970710396767, 0.03812995180487633, 0.17539776861667633, 0.12455783784389496, 0.012709983624517918, 0.06354992091655731, 0.061007920652627945, 0.3152076005935669, 0.07625990360975266, 0.7423190474510193, 0.12371984124183655, 0.6972306370735168, 0.06572109460830688, 0.21274664998054504, 0.06843124330043793, 0.23171769082546234, 0.11450377106666565, 0.02066488191485405, 0.13516865670681, 0.037264540791511536, 0.09621026366949081, 0.017615964636206627, 0.8736260533332825, 0.73789381980896, 0.82685387134552, 0.02919197827577591, 0.04170282557606697, 0.020851412788033485, 0.016681130975484848, 0.08340565115213394, 0.02293655462563038, 0.4086877107620239, 0.3294523358345032, 0.002085141371935606, 0.04587310925126076, 0.04715782403945923, 0.03929818421602249, 0.18863129615783691, 0.03143854811787605, 0.007859637029469013, 0.5737535357475281, 0.08645600825548172, 0.023578912019729614, 0.2911873459815979, 0.698849618434906, 0.7647169828414917, 0.0087164007127285, 0.005810933653265238, 0.1627061367034912, 0.017432801425457, 0.0406765341758728, 0.3254122734069824, 0.0087164007127285, 0.3922380208969116, 0.0377710685133934, 0.7520207762718201, 0.09477600455284119, 0.18955200910568237, 0.6634320020675659, 0.017175910994410515, 0.029444418847560883, 0.32634231448173523, 0.04662033170461655, 0.11287027597427368, 0.28708308935165405, 0.009814806282520294, 0.058888837695121765, 0.11287027597427368, 0.7179892659187317, 0.05439312756061554, 0.09790763258934021, 0.010878625325858593, 0.010878625325858593, 0.04351450130343437, 0.05439312756061554, 0.010878625325858593, 0.8267223834991455, 0.11207383126020432, 0.34909626841545105, 0.1528087556362152, 0.12178267538547516, 0.08463579416275024, 0.06986146420240402, 0.048755280673503876, 0.014563266187906265, 0.01203052420169115, 0.03440307825803757, 0.8244220018386841, 0.7764843106269836, 0.10353124141693115, 0.10353124141693115, 0.16226842999458313, 0.6490737199783325, 0.833857536315918, 0.11158048361539841, 0.09645092487335205, 0.07943017780780792, 0.09834212064743042, 0.2723320424556732, 0.017020752653479576, 0.2534200847148895, 0.011347168125212193, 0.03215030953288078, 0.028367919847369194, 0.8153758645057678, 0.10127876698970795, 0.07149089127779007, 0.05659695714712143, 0.1280878484249115, 0.0744696781039238, 0.09234240651130676, 0.23234540224075317, 0.0863848328590393, 0.0863848328590393, 0.07149089127779007, 0.36470845341682434, 0.10153815150260925, 0.014505449682474136, 0.19893188774585724, 0.02693869359791279, 0.08496049046516418, 0.07874386757612228, 0.031083106994628906, 0.07667166739702225, 0.024866485968232155, 0.7968473434448242, 0.09332199394702911, 0.04868973791599274, 0.13389678299427032, 0.03651730343699455, 0.0730346068739891, 0.06086217239499092, 0.03245982527732849, 0.06086217239499092, 0.4016903340816498, 0.05680469423532486, 0.7419240474700928, 0.035760585218667984, 0.05364087596535683, 0.022350365296006203, 0.008940146304666996, 0.049170803278684616, 0.022350365296006203, 0.049170803278684616, 0.5811095237731934, 0.044700730592012405, 0.13410219550132751, 0.09862165153026581, 0.7889732122421265, 0.026402128860354424, 0.21649746596813202, 0.12673021852970123, 0.1056085154414177, 0.3062646985054016, 0.03168255463242531, 0.04752383381128311, 0.07920639216899872, 0.06864553689956665, 0.07260672003030777, 0.09335149824619293, 0.09335149824619293, 0.031117167323827744, 0.010372389107942581, 0.13484105467796326, 0.020744778215885162, 0.3941507935523987, 0.08297911286354065, 0.06223433464765549, 0.9035837054252625, 0.740459680557251, 0.7787184119224548, 0.7987957000732422, 0.15975913405418396, 0.7927390933036804, 0.8268715143203735, 0.7994828820228577, 0.8313392400741577, 0.6104643940925598, 0.18579350411891937, 0.026541929692029953, 0.013270964846014977, 0.013270964846014977, 0.026541929692029953, 0.11943868547677994, 0.8936099410057068, 0.5683531165122986, 0.17429494857788086, 0.0075780414044857025, 0.015156082808971405, 0.0075780414044857025, 0.022734124213457108, 0.05304628983139992, 0.10609257966279984, 0.045468248426914215, 0.7930606603622437, 0.13292288780212402, 0.13292288780212402, 0.5981529951095581, 0.6962571144104004, 0.021050788462162018, 0.010525394231081009, 0.14735552668571472, 0.010525394231081009, 0.15788091719150543, 0.1157793402671814, 0.13683012127876282, 0.052626971155405045, 0.3473380208015442, 0.7220344543457031, 0.09242872148752213, 0.040289442986249924, 0.04265940934419632, 0.25358647108078003, 0.018959736451506615, 0.12086832523345947, 0.007109901402145624, 0.07109901309013367, 0.06872905045747757, 0.282026082277298, 0.686698853969574, 0.8246563076972961, 0.17417752742767334, 0.11071749776601791, 0.10261622071266174, 0.0432068295776844, 0.07426173985004425, 0.0216034147888422, 0.3064984381198883, 0.014852347783744335, 0.12692005932331085, 0.025654055178165436, 0.7266775965690613, 0.0033844744320958853, 0.23691320419311523, 0.03722921758890152, 0.06768948584794998, 0.16583923995494843, 0.0067689488641917706, 0.060920536518096924, 0.09476528316736221, 0.2809113562107086, 0.050767116248607635, 0.10122004896402359, 0.10122004896402359, 0.03374001756310463, 0.06748003512620926, 0.03374001756310463, 0.6748003363609314, 0.8599827289581299, 0.6925455927848816, 0.703262209892273, 0.09376829862594604, 0.04688414931297302, 0.09376829862594604, 0.043027982115745544, 0.08605596423149109, 0.1017025038599968, 0.0508512519299984, 0.32857733964920044, 0.14081884920597076, 0.0508512519299984, 0.003911634907126427, 0.16037702560424805, 0.03520471230149269, 0.017856454476714134, 0.008928227238357067, 0.008928227238357067, 0.13392341136932373, 0.008928227238357067, 0.642832338809967, 0.017856454476714134, 0.1696363240480423, 0.015848340466618538, 0.154026061296463, 0.2372298538684845, 0.011390995234251022, 0.31993839144706726, 0.13619667291641235, 0.043582938611507416, 0.005943127907812595, 0.05200237035751343, 0.02377251163125038, 0.8029260039329529, 0.7587853074073792, 0.1896963268518448, 0.8095558881759644, 0.3943271338939667, 0.11984863132238388, 0.05657190456986427, 0.08590548485517502, 0.09763891994953156, 0.05154329165816307, 0.026819273829460144, 0.08003877103328705, 0.059086211025714874, 0.028076427057385445, 0.10274240374565125, 0.7191967964172363, 0.07064242660999298, 0.0288991741836071, 0.2022942155599594, 0.012844077311456203, 0.0866975262761116, 0.038532231003046036, 0.10917466133832932, 0.16376198828220367, 0.19908319413661957, 0.08990854024887085, 0.7712081074714661, 0.7784190773963928, 0.0116281071677804, 0.06976864486932755, 0.0116281071677804, 0.17442160844802856, 0.08139675110578537, 0.0116281071677804, 0.4651242792606354, 0.06976864486932755, 0.11628106981515884, 0.7680244445800781, 0.8956483006477356, 0.7695431709289551, 0.762946605682373, 0.09536832571029663, 0.8693529367446899, 0.741357147693634, 0.06950318068265915, 0.023167725652456284, 0.023167725652456284, 0.7066156268119812, 0.034751590341329575, 0.1390063613653183, 0.7869054675102234, 0.09836318343877792, 0.7916793823242188, 0.04612687975168228, 0.13325543701648712, 0.1281302273273468, 0.0025626043789088726, 0.15888147056102753, 0.2562604546546936, 0.015375626273453236, 0.05381469428539276, 0.1537562608718872, 0.0512520894408226, 0.05908690765500069, 0.06647276878356934, 0.16248899698257446, 0.007385863456875086, 0.1846465915441513, 0.49485284090042114, 0.007385863456875086, 0.022157590836286545, 0.8379858136177063, 0.1524868905544281, 0.4672985076904297, 0.0565677136182785, 0.10575703531503677, 0.0393514521420002, 0.08854077011346817, 0.051648784428834915, 0.03197305649518967, 0.004918931517750025, 0.0024594657588750124, 0.7420704960823059, 0.3078058063983917, 0.336483359336853, 0.04206041991710663, 0.12044575065374374, 0.07073798030614853, 0.043972257524728775, 0.009559186175465584, 0.02867755852639675, 0.013382861390709877, 0.026765722781419754, 0.6140742897987366, 0.009430864825844765, 0.16032470762729645, 0.03772345930337906, 0.7356074452400208, 0.01886172965168953, 0.009430864825844765, 0.01886172965168953, 0.009430864825844765, 0.009430864825844765, 0.1333254724740982, 0.06752848625183105, 0.09696397930383682, 0.08195764571428299, 0.04675048962235451, 0.1356341391801834, 0.11081597208976746, 0.2164374589920044, 0.08311197906732559, 0.028281159698963165, 0.0612984374165535, 0.025541016831994057, 0.4852793216705322, 0.015324609354138374, 0.10727226734161377, 0.005108203273266554, 0.0868394523859024, 0.015324609354138374, 0.17878711223602295, 0.015324609354138374, 0.06503169983625412, 0.04335446655750275, 0.010838616639375687, 0.09754755347967148, 0.6719942688941956, 0.010838616639375687, 0.04335446655750275, 0.06503169983625412, 0.13787195086479187, 0.04085094854235649, 0.010212737135589123, 0.11744648218154907, 0.005106368567794561, 0.25021207332611084, 0.015319106169044971, 0.3523394465446472, 0.015319106169044971, 0.05106368660926819, 0.16868644952774048, 0.14649087190628052, 0.10801851749420166, 0.0266347024589777, 0.1346532255411148, 0.051789700984954834, 0.1509299874305725, 0.10949822515249252, 0.0695461705327034, 0.03403323143720627, 0.10427295416593552, 0.6256377100944519, 0.05213647708296776, 0.15640942752361298, 0.27477380633354187, 0.02497943677008152, 0.07493831217288971, 0.09991774708032608, 0.47460928559303284, 0.02497943677008152, 0.1252293735742569, 0.8139909505844116, 0.08268075436353683, 0.47009915113449097, 0.0732315257191658, 0.07086922228336334, 0.06614460796117783, 0.08976767957210541, 0.04015922546386719, 0.004724614787846804, 0.03779691830277443, 0.06614460796117783, 0.186820849776268, 0.10499022901058197, 0.07102280110120773, 0.06639087945222855, 0.06021498516201973, 0.09263844043016434, 0.08183062076568604, 0.2501237690448761, 0.0478631928563118, 0.037055373191833496, 0.1744925081729889, 0.15446877479553223, 0.10011865198612213, 0.04004746302962303, 0.12872397899627686, 0.14874771237373352, 0.061501458287239075, 0.07008305937051773, 0.04433825984597206, 0.07723438739776611, 0.17435187101364136, 0.04922104254364967, 0.11681793630123138, 0.1093800887465477, 0.1675702929496765, 0.23779231309890747, 0.010281728580594063, 0.005906525067985058, 0.08247258514165878, 0.04615839943289757, 0.08509904891252518, 0.010637381114065647, 0.021274762228131294, 0.010637381114065647, 0.010637381114065647, 0.12764857709407806, 0.010637381114065647, 0.4893195331096649, 0.2340223789215088, 0.7951345443725586, 0.8108285069465637, 0.7923855781555176, 0.11973825097084045, 0.3143129050731659, 0.4789530038833618, 0.014967281371355057, 0.04490184411406517, 0.7789168357849121, 0.12981946766376495, 0.17712454497814178, 0.43738916516304016, 0.07952530682086945, 0.08314009010791779, 0.07591051608324051, 0.02168871834874153, 0.003614786546677351, 0.04337743669748306, 0.007229573093354702, 0.06506615877151489, 0.8421600461006165, 0.274422824382782, 0.6860570907592773, 0.07417949289083481, 0.25221025943756104, 0.044507693499326706, 0.10385128855705261, 0.10385128855705261, 0.05934359133243561, 0.38573336601257324, 0.1675514280796051, 0.7539814710617065, 0.6751888990402222, 0.8965209722518921, 0.19256220757961273, 0.008372270502150059, 0.04186135157942772, 0.008372270502150059, 0.016744541004300117, 0.4186134934425354, 0.11721178144216537, 0.18418994545936584, 0.008372270502150059, 0.777018666267395, 0.7759761810302734, 0.06946050375699997, 0.7640655040740967, 0.06946050375699997, 0.388897567987442, 0.06018652766942978, 0.06944599747657776, 0.09259466081857681, 0.023148665204644203, 0.0509270615875721, 0.06944599747657776, 0.08333519101142883, 0.06018652766942978, 0.11111359298229218, 0.3947705328464508, 0.08334044367074966, 0.10965847969055176, 0.07895410805940628, 0.03947705402970314, 0.07895410805940628, 0.03509071469306946, 0.15352186560630798, 0.030704373493790627, 0.026310045272111893, 0.026310045272111893, 0.15786026418209076, 0.07893013209104538, 0.47358080744743347, 0.21048036217689514, 0.6821535229682922, 0.16013653576374054, 0.08540615439414978, 0.22952903807163239, 0.005337884649634361, 0.058716729283332825, 0.04270307719707489, 0.04270307719707489, 0.07473038136959076, 0.25621846318244934, 0.05337884649634361, 0.08407274633646011, 0.018015587702393532, 0.0960831344127655, 0.5104416608810425, 0.07206235080957413, 0.07206235080957413, 0.04203637316823006, 0.07206235080957413, 0.03002597950398922, 0.13827064633369446, 0.06584316492080688, 0.06255100667476654, 0.16625399887561798, 0.06913532316684723, 0.4065815508365631, 0.027983345091342926, 0.0032921582460403442, 0.049382373690605164, 0.013168632984161377, 0.8261913061141968, 0.25409847497940063, 0.6775959730148315, 0.06729155778884888, 0.13009700179100037, 0.011215259321033955, 0.14131227135658264, 0.011215259321033955, 0.1614997386932373, 0.02243051864206791, 0.35888829827308655, 0.02243051864206791, 0.07626376301050186, 0.7488822937011719, 0.10698318481445312, 0.061295971274375916, 0.07420038431882858, 0.016130518168210983, 0.09463237226009369, 0.4645589292049408, 0.023658093065023422, 0.009678310714662075, 0.11076289415359497, 0.07204964756965637, 0.07420038431882858, 0.7414430379867554, 0.7345266342163086, 0.12693913280963898, 0.12693913280963898, 0.05226905271410942, 0.40321841835975647, 0.13440613448619843, 0.007467007730156183, 0.022401023656129837, 0.05226905271410942, 0.0821370854973793, 0.8731681108474731, 0.20143821835517883, 0.06848899275064468, 0.03223011642694473, 0.06043146550655365, 0.13697798550128937, 0.3182723820209503, 0.044316407293081284, 0.06043146550655365, 0.03625888004899025, 0.04028764367103577, 0.4259042739868164, 0.11257979273796082, 0.037978723645210266, 0.04069149121642113, 0.0637499988079071, 0.10986702144145966, 0.07188829779624939, 0.06103723496198654, 0.033909574151039124, 0.04340425506234169, 0.8015538454055786, 0.14573706686496735, 0.28321632742881775, 0.1854691058397293, 0.041354596614837646, 0.10150673985481262, 0.0802028551697731, 0.0802028551697731, 0.06391165405511856, 0.041354596614837646, 0.07519017904996872, 0.04762044548988342, 0.8740406632423401, 0.8741021752357483, 0.7554288506507874, 0.8953157067298889, 0.8408774733543396, 0.14014624059200287, 0.8121374249458313, 0.6275992393493652, 0.14942839741706848, 0.08965703845024109, 0.029885679483413696, 0.05977135896682739, 0.7850159406661987, 0.7386311888694763, 0.05094008147716522, 0.07641012221574783, 0.07641012221574783, 0.02547004073858261, 0.02547004073858261, 0.85200434923172, 0.09128618240356445, 0.16477349400520325, 0.027029089629650116, 0.4693705439567566, 0.033786363899707794, 0.08524559438228607, 0.02183118835091591, 0.00831664353609085, 0.004158321768045425, 0.09876013547182083, 0.08680496364831924, 0.8164281249046326, 0.6967831254005432, 0.44663313031196594, 0.030280211940407753, 0.030280211940407753, 0.1286908984184265, 0.0681304782629013, 0.045420318841934204, 0.15140105783939362, 0.09084063768386841, 0.007570052985101938, 0.05476319417357445, 0.02190527692437172, 0.05476319417357445, 0.02190527692437172, 0.07666847109794617, 0.5366792678833008, 0.1314316689968109, 0.03285791724920273, 0.05476319417357445, 0.6668207049369812, 0.5162084102630615, 0.06589894741773605, 0.010983157902956009, 0.03294947370886803, 0.1317978948354721, 0.03294947370886803, 0.054915789514780045, 0.021966315805912018, 0.03294947370886803, 0.09884842485189438, 0.03010956570506096, 0.06021913141012192, 0.7527391314506531, 0.09032870084047318, 0.441295325756073, 0.01521708071231842, 0.04057888314127922, 0.17246024310588837, 0.010144720785319805, 0.010144720785319805, 0.0507236011326313, 0.10651956498622894, 0.02536180056631565, 0.1268090009689331, 0.020722392946481705, 0.020722392946481705, 0.020722392946481705, 0.5387821793556213, 0.020722392946481705, 0.3730030655860901, 0.05562016740441322, 0.05562016740441322, 0.05562016740441322, 0.834302544593811, 0.718844473361969, 0.017532791942358017, 0.13149593770503998, 0.017532791942358017, 0.017532791942358017, 0.07013116776943207, 0.017532791942358017, 0.008766395971179008, 0.017532791942358017, 0.021298065781593323, 0.045638713985681534, 0.48377037048339844, 0.0030425807926803827, 0.12474581599235535, 0.2434064745903015, 0.0060851615853607655, 0.0060851615853607655, 0.03042580932378769, 0.03346839174628258, 0.12402317672967911, 0.868162214756012, 0.8497632741928101, 0.06872207671403885, 0.03737516328692436, 0.18446451425552368, 0.2688600420951843, 0.10248029232025146, 0.145883709192276, 0.0723390281200409, 0.06269382685422897, 0.043403416872024536, 0.013262155465781689, 0.6792227029800415, 0.07930062711238861, 0.10309082269668579, 0.007930062711238861, 0.22997182607650757, 0.031720250844955444, 0.007930062711238861, 0.039650313556194305, 0.41236329078674316, 0.047580379992723465, 0.039650313556194305, 0.19039860367774963, 0.26655805110931396, 0.5331161022186279, 0.09032873064279556, 0.15885397791862488, 0.0062295678071677685, 0.3800036311149597, 0.052951324731111526, 0.1713131070137024, 0.021803487092256546, 0.03114783950150013, 0.06229567900300026, 0.028033055365085602, 0.03989376872777939, 0.11968131363391876, 0.019946884363889694, 0.13962820172309875, 0.6183534264564514, 0.03989376872777939, 0.019946884363889694, 0.019946884363889694, 0.03356931731104851, 0.03356931731104851, 0.03356931731104851, 0.5706784129142761, 0.03356931731104851, 0.10070795565843582, 0.16784659028053284, 0.07595156133174896, 0.03797578066587448, 0.07595156133174896, 0.07595156133174896, 0.6835640668869019, 0.04004181548953056, 0.035751622170209885, 0.08651892095804214, 0.049337238073349, 0.07865356653928757, 0.4519004821777344, 0.1265607476234436, 0.07936859875917435, 0.018590843304991722, 0.033606525510549545, 0.8246780633926392, 0.019191116094589233, 0.13433781266212463, 0.16312448680400848, 0.15352892875671387, 0.02878667414188385, 0.4030134379863739, 0.009595558047294617, 0.07676446437835693, 0.831820011138916, 0.06166213005781174, 0.6166213154792786, 0.12332426011562347, 0.12332426011562347, 0.03083106502890587, 0.8414993286132812, 0.03325589373707771, 0.16627946496009827, 0.5320942997932434, 0.16627946496009827, 0.06651178747415543, 0.847256600856781, 0.740288257598877, 0.5269608497619629, 0.03855811059474945, 0.08354257047176361, 0.09639527648687363, 0.10924798250198364, 0.006426351610571146, 0.04498446360230446, 0.03855811059474945, 0.057837165892124176, 0.08180678635835648, 0.1316022276878357, 0.06046588718891144, 0.1956249177455902, 0.30944305658340454, 0.03556816652417183, 0.08536360412836075, 0.021340901032090187, 0.032011352479457855, 0.05335225164890289, 0.4908504784107208, 0.10612983256578445, 0.013266229070723057, 0.026532458141446114, 0.10612983256578445, 0.09286360442638397, 0.05969803035259247, 0.006633114535361528, 0.026532458141446114, 0.06633114814758301, 0.09893694519996643, 0.16405361890792847, 0.12165206670761108, 0.29882997274398804, 0.04845891520380974, 0.010095606558024883, 0.14487196505069733, 0.05502105876803398, 0.02675335854291916, 0.03129637986421585, 0.7096340656280518, 0.8713368773460388, 0.09604933857917786, 0.10169930011034012, 0.08757439255714417, 0.10452427715063095, 0.05649961158633232, 0.01412490289658308, 0.11017423868179321, 0.0903993770480156, 0.13277408480644226, 0.20339860022068024, 0.046196334064006805, 0.22859220206737518, 0.17522747814655304, 0.07964885234832764, 0.06690503656864166, 0.04460335895419121, 0.200715109705925, 0.04301038011908531, 0.1003575548529625, 0.014336793683469296, 0.0555749274790287, 0.018524974584579468, 0.45386189222335815, 0.04631244018673897, 0.12041234225034714, 0.1111498549580574, 0.09262488037347794, 0.0833623856306076, 0.009262487292289734, 0.1192685067653656, 0.8348795175552368, 0.02231776900589466, 0.01115888450294733, 0.05579442158341408, 0.4575142562389374, 0.15622438490390778, 0.01115888450294733, 0.04463553801178932, 0.2008599191904068, 0.033476654440164566, 0.01601216569542885, 0.1280973255634308, 0.24018250405788422, 0.48036500811576843, 0.0320243313908577, 0.04803650081157684, 0.0320243313908577, 0.04803650081157684, 0.10831038653850555, 0.11744499951601028, 0.13049444556236267, 0.10700543969869614, 0.16311804950237274, 0.097870834171772, 0.05937496945261955, 0.05415519326925278, 0.03327608108520508, 0.12918949127197266, 0.03167901188135147, 0.2217530906200409, 0.6019012331962585, 0.11087654531002045, 0.015839505940675735, 0.0035773026756942272, 0.2396792769432068, 0.03577302768826485, 0.2718749940395355, 0.04650493711233139, 0.0053659542463719845, 0.2647204101085663, 0.028618421405553818, 0.03219572454690933, 0.06975740194320679, 0.7410672903060913, 0.1264992654323578, 0.0632496327161789, 0.0632496327161789, 0.6957459449768066, 0.7860583662986755, 0.38477739691734314, 0.12399803102016449, 0.00894831120967865, 0.0543290339410305, 0.020453283563256264, 0.2141202986240387, 0.03387574851512909, 0.07669980823993683, 0.03962823376059532, 0.04282405972480774, 0.8198162317276001, 0.1749311089515686, 0.11346882581710815, 0.026003273203969002, 0.10874095559120178, 0.023639338091015816, 0.20093438029289246, 0.17256717383861542, 0.07564588636159897, 0.05437047779560089, 0.04727867618203163, 0.19223074615001678, 0.3253135681152344, 0.029573962092399597, 0.08576449006795883, 0.09759407490491867, 0.059147924184799194, 0.03548875451087952, 0.10350886732339859, 0.053233131766319275, 0.01774437725543976, 0.8010238409042358, 0.8368014097213745, 0.6479045748710632, 0.21596819162368774, 0.0863872766494751, 0.04297534376382828, 0.24845121800899506, 0.18667416274547577, 0.06714897602796555, 0.30217039585113525, 0.04566130414605141, 0.04297534376382828, 0.022830652073025703, 0.030888529494404793, 0.00940085668116808, 0.1381264626979828, 0.7596955299377441, 0.0909627228975296, 0.81866455078125, 0.2247556895017624, 0.674267053604126, 0.8790983557701111, 0.017800521105527878, 0.17800520360469818, 0.12460364401340485, 0.017800521105527878, 0.5340156555175781, 0.035601042211055756, 0.07120208442211151, 0.613303005695343, 0.3976227939128876, 0.062314022332429886, 0.1424320489168167, 0.029673343524336815, 0.08011803030967712, 0.01780400611460209, 0.062314022332429886, 0.05044468492269516, 0.12462804466485977, 0.029673343524336815, 0.9082575440406799, 0.6932381987571716, 0.09360691905021667, 0.7488553524017334, 0.25343379378318787, 0.4066728353500366, 0.0353628545999527, 0.2062833309173584, 0.029469046741724014, 0.005893809255212545, 0.005893809255212545, 0.005893809255212545, 0.01178761851042509, 0.04125666618347168, 0.1231505274772644, 0.7389031648635864, 0.17907540500164032, 0.028883129358291626, 0.06354288756847382, 0.04621300846338272, 0.028883129358291626, 0.01155325211584568, 0.13863901793956757, 0.05776625871658325, 0.28883129358291626, 0.15596890449523926, 0.8597298264503479, 0.16213954985141754, 0.054046519100666046, 0.11763065308332443, 0.29566624760627747, 0.04450889676809311, 0.04768810421228409, 0.09537620842456818, 0.09855541586875916, 0.03497127443552017, 0.04450889676809311, 0.027567239478230476, 0.16540344059467316, 0.5789120197296143, 0.08270172029733658, 0.08270172029733658, 0.05513447895646095, 0.8002235293388367, 0.9366045594215393, 0.8022356033325195, 0.7323321104049683, 0.0732332170009613, 0.014646642841398716, 0.08787985891103745, 0.058586571365594864, 0.029293285682797432, 0.7092413902282715, 0.07880459725856781, 0.15760919451713562, 0.6962612271308899, 0.10834311693906784, 0.10834311693906784, 0.7584018111228943, 0.09169048070907593, 0.7335238456726074, 0.7971060872077942, 0.0270815622061491, 0.02031117118895054, 0.02031117118895054, 0.19634132087230682, 0.12186703085899353, 0.02031117118895054, 0.13540780544281006, 0.13540780544281006, 0.31820836663246155, 0.7434355616569519, 0.14868710935115814, 0.17770427465438843, 0.15927022695541382, 0.03760547190904617, 0.18139109015464783, 0.05235271528363228, 0.10101861506700516, 0.06267578154802322, 0.11945267021656036, 0.041292279958724976, 0.06709995865821838, 0.7155970931053162, 0.07177410274744034, 0.4632692039012909, 0.03262459114193916, 0.013049837201833725, 0.08482393622398376, 0.019574755802750587, 0.02609967440366745, 0.013049837201833725, 0.27404657006263733, 0.09046424180269241, 0.6332497000694275, 0.18092848360538483, 0.8737326860427856, 0.7462342381477356, 0.05082261562347412, 0.07941033691167831, 0.320817768573761, 0.17629095911979675, 0.09052778780460358, 0.03970516845583916, 0.04288158193230629, 0.05082261562347412, 0.12070371955633163, 0.03017592988908291, 0.06553595513105392, 0.720895528793335, 0.13107191026210785, 0.7328909039497375, 0.7485424280166626, 0.8508201241493225, 0.16768458485603333, 0.06986857950687408, 0.1816582977771759, 0.1024739146232605, 0.027947431430220604, 0.35865870118141174, 0.018631620332598686, 0.03726324066519737, 0.032605335116386414, 0.8170438408851624, 0.12569905817508698, 0.8509615659713745, 0.7637395262718201, 0.06181512027978897, 0.10817646235227585, 0.16484032571315765, 0.38119325041770935, 0.06181512027978897, 0.05666385963559151, 0.10817646235227585, 0.03605882078409195, 0.020605040714144707, 0.19208160042762756, 0.12633554637432098, 0.03480673208832741, 0.4357287287712097, 0.028361042961478233, 0.05930035933852196, 0.02449362725019455, 0.07605915516614914, 0.01675879769027233, 0.003867414779961109, 0.31408393383026123, 0.039260491728782654, 0.6281678676605225, 0.7657138705253601, 0.7252107262611389, 0.053729135543107986, 0.21491654217243195, 0.06594030559062958, 0.43715977668762207, 0.039075735956430435, 0.021980101242661476, 0.03663350269198418, 0.058613602072000504, 0.009768933989107609, 0.06105583533644676, 0.05191081762313843, 0.05191081762313843, 0.06921441853046417, 0.017303604632616043, 0.017303604632616043, 0.017303604632616043, 0.6056261658668518, 0.13842883706092834, 0.034607209265232086, 0.08833052963018417, 0.6477572321891785, 0.029443511739373207, 0.08833052963018417, 0.08833052963018417, 0.020187638700008392, 0.16150110960006714, 0.7469426393508911, 0.040375277400016785, 0.020187638700008392, 0.762759268283844, 0.0953449085354805, 0.6922405362129211, 0.15392594039440155, 0.07568025588989258, 0.206517294049263, 0.07183210551738739, 0.16675309836864471, 0.1680358201265335, 0.04361234977841377, 0.02052345871925354, 0.03078518807888031, 0.060287658125162125, 0.1704244762659073, 0.08521223813295364, 0.6816979050636292, 0.047994352877140045, 0.33313727378845215, 0.008469591848552227, 0.27949652075767517, 0.02258557826280594, 0.014115986414253712, 0.14115986227989197, 0.08469591289758682, 0.014115986414253712, 0.059287142008543015, 0.049830760806798935, 0.19932304322719574, 0.0033220506738871336, 0.1295599788427353, 0.009966151788830757, 0.06644101440906525, 0.07308511435985565, 0.2923404574394226, 0.006644101347774267, 0.16610252857208252, 0.020879773423075676, 0.31319659948349, 0.4593549966812134, 0.06263931840658188, 0.06263931840658188, 0.04175954684615135, 0.062080174684524536, 0.062080174684524536, 0.8070423007011414, 0.0530640073120594, 0.07959601283073425, 0.0530640073120594, 0.1591920256614685, 0.5571720600128174, 0.1061280146241188, 0.7781575918197632, 0.05944613367319107, 0.2179691642522812, 0.01981537789106369, 0.57464599609375, 0.01981537789106369, 0.07926151156425476, 0.9028121829032898, 0.7748771905899048, 0.7979433536529541, 0.07891660928726196, 0.10522214323282242, 0.07891660928726196, 0.07891660928726196, 0.18413874506950378, 0.44719409942626953, 0.6718465685844421, 0.17803670465946198, 0.34494611620903015, 0.11869113147258759, 0.033381883054971695, 0.11127293854951859, 0.014836391434073448, 0.029672782868146896, 0.003709097858518362, 0.05563646927475929, 0.10756383836269379, 0.06163065508008003, 0.024985400959849358, 0.03497955948114395, 0.044973719865083694, 0.06662773340940475, 0.008328466676175594, 0.35312700271606445, 0.23819415271282196, 0.11659853905439377, 0.049970801919698715, 0.7739454507827759, 0.7462300062179565, 0.8743817806243896, 0.13239745795726776, 0.7943847179412842, 0.6767945885658264, 0.7587136030197144, 0.8027132153511047, 0.17946767807006836, 0.03694922849535942, 0.005278461147099733, 0.05278461053967476, 0.10556922107934952, 0.22169536352157593, 0.005278461147099733, 0.07389845699071884, 0.03694922849535942, 0.2850368916988373, 0.02440214529633522, 0.02440214529633522, 0.02440214529633522, 0.14641287922859192, 0.02440214529633522, 0.5856515169143677, 0.17081502079963684, 0.8736017346382141, 0.1354808360338211, 0.05578622967004776, 0.047816768288612366, 0.08766407519578934, 0.023908384144306183, 0.5100455284118652, 0.05578622967004776, 0.03187784552574158, 0.047816768288612366, 0.07542062550783157, 0.1961248517036438, 0.15786801278591156, 0.10009238123893738, 0.1291363388299942, 0.11711277067661285, 0.09369021654129028, 0.04403439909219742, 0.023110253736376762, 0.06339704245328903, 0.8245738744735718, 0.8258730173110962, 0.2592637836933136, 0.04321063309907913, 0.04321063309907913, 0.08642126619815826, 0.5617382526397705, 0.10477010905742645, 0.14143964648246765, 0.05762356147170067, 0.11262787133455276, 0.0550043098628521, 0.1545359194278717, 0.03928879275918007, 0.08381608873605728, 0.22263649106025696, 0.031431034207344055, 0.01622002199292183, 0.06488008797168732, 0.01622002199292183, 0.17842024564743042, 0.01622002199292183, 0.004055005498230457, 0.012165017426013947, 0.5068756937980652, 0.10137514024972916, 0.08515512198209763, 0.8023228049278259, 0.045465655624866486, 0.007577609270811081, 0.09850892424583435, 0.07577609270811081, 0.13639697432518005, 0.14397457242012024, 0.053043264895677567, 0.022732827812433243, 0.3258371949195862, 0.08335370570421219, 0.7385171055793762, 0.14770342409610748, 0.014643566682934761, 0.0073217833414673805, 0.15375745296478271, 0.05125248059630394, 0.08786139637231827, 0.06589604914188385, 0.1464356631040573, 0.07321783155202866, 0.4026980698108673, 0.13169986009597778, 0.07066821306943893, 0.12045718729496002, 0.019273148849606514, 0.19273149967193604, 0.10279013216495514, 0.08672917634248734, 0.0738804042339325, 0.17506444454193115, 0.027303628623485565, 0.6936345100402832, 0.11836550384759903, 0.16725559532642365, 0.26332035660743713, 0.042886052280664444, 0.039455167949199677, 0.06775996088981628, 0.018869861960411072, 0.02487391047179699, 0.17926369607448578, 0.07891033589839935, 0.18222308158874512, 0.7896333336830139, 0.8737708330154419, 0.7503101825714111, 0.08445053547620773, 0.11260071396827698, 0.5348533987998962, 0.11260071396827698, 0.028150178492069244, 0.08445053547620773, 0.6809390783309937, 0.6980699300765991, 0.035928305238485336, 0.25868380069732666, 0.035928305238485336, 0.06467095017433167, 0.05748528614640236, 0.22275547683238983, 0.01437132153660059, 0.2802407741546631, 0.02874264307320118, 0.14115706086158752, 0.06104088947176933, 0.03815055638551712, 0.12208177894353867, 0.07248605787754059, 0.022890333086252213, 0.11826672405004501, 0.03433549776673317, 0.12589682638645172, 0.25942376255989075, 0.8736061453819275, 0.6925284266471863, 0.7960472106933594, 0.028736479580402374, 0.1149459183216095, 0.028736479580402374, 0.1149459183216095, 0.14368240535259247, 0.5747296214103699, 0.8363012075424194, 0.1872924566268921, 0.6367943286895752, 0.11237547546625137, 0.7097117900848389, 0.733393132686615, 0.7043309807777405, 0.10307282954454422, 0.07215098291635513, 0.030921848490834236, 0.03435761108994484, 0.010307283140718937, 0.010307283140718937, 0.01717880554497242, 0.0068715219385921955, 0.010307283140718937, 0.8722370862960815, 0.05974197760224342, 0.2627427875995636, 0.07376305758953094, 0.1892845332622528, 0.07376305758953094, 0.09906195849180222, 0.028346959501504898, 0.07833514362573624, 0.04541609808802605, 0.08930816501379013, 0.057669565081596375, 0.4296382665634155, 0.057669565081596375, 0.01153391320258379, 0.0403686948120594, 0.07208696007728577, 0.1211060881614685, 0.04901913180947304, 0.08362086862325668, 0.07497043162584305, 0.2062927782535553, 0.7220247387886047, 0.8128154873847961, 0.3550449311733246, 0.016906902194023132, 0.04057656601071358, 0.10820417106151581, 0.03719518333673477, 0.02028828300535679, 0.13863658905029297, 0.09129726886749268, 0.07439036667346954, 0.11496692895889282, 0.05775144323706627, 0.1570117324590683, 0.08301769942045212, 0.1407691389322281, 0.10286976397037506, 0.2129584550857544, 0.04872778058052063, 0.03428991883993149, 0.03970411792397499, 0.12272182106971741, 0.013016019947826862, 0.06508009880781174, 0.013016019947826862, 0.11714418232440948, 0.013016019947826862, 0.013016019947826862, 0.1041281595826149, 0.5466728210449219, 0.05206407979130745, 0.07809612154960632, 0.8596967458724976, 0.5284667611122131, 0.027100861072540283, 0.020325645804405212, 0.15582995116710663, 0.020325645804405212, 0.013550430536270142, 0.06097693741321564, 0.12195387482643127, 0.013550430536270142, 0.033876076340675354, 0.17916525900363922, 0.7166610360145569, 0.6133863925933838, 0.7975029945373535, 0.13380981981754303, 0.07189781218767166, 0.06890207529067993, 0.18274027109146118, 0.08388078212738037, 0.06790348887443542, 0.12282542884349823, 0.12582117319107056, 0.06390916556119919, 0.07788930088281631, 0.01850694604218006, 0.004626736510545015, 0.6523698568344116, 0.00925347302109003, 0.12029515206813812, 0.050894103944301605, 0.03701389208436012, 0.07865452766418457, 0.032387156039476395, 0.08930957317352295, 0.04194843769073486, 0.05412701517343521, 0.19079773128032684, 0.039242085069417953, 0.49661538004875183, 0.027063507586717606, 0.021650806069374084, 0.027063507586717606, 0.009472227655351162, 0.8523291945457458, 0.07997434586286545, 0.038608305156230927, 0.055154722183942795, 0.09376303106546402, 0.07721661031246185, 0.08273208141326904, 0.2757736146450043, 0.09376303106546402, 0.12409812957048416, 0.07997434586286545, 0.06998774409294128, 0.023329248651862144, 0.09331699460744858, 0.023329248651862144, 0.7232066988945007, 0.04665849730372429, 0.023329248651862144, 0.8938831686973572, 0.3335520029067993, 0.40452051162719727, 0.01419370248913765, 0.09225906431674957, 0.07806536555290222, 0.021290553733706474, 0.007096851244568825, 0.04258110746741295, 0.3498181998729706, 0.14492468535900116, 0.043310824781656265, 0.06330043822526932, 0.03664762154221535, 0.06496623903512955, 0.1299324780702591, 0.06330043822526932, 0.03664762154221535, 0.06663203984498978, 0.7996225357055664, 0.7760289907455444, 0.15520578622817993, 0.5503463745117188, 0.03335432708263397, 0.016677163541316986, 0.10006298124790192, 0.016677163541316986, 0.2668346166610718, 0.016677163541316986, 0.028110651299357414, 0.815208911895752, 0.0843319520354271, 0.028110651299357414, 0.028110651299357414, 0.3477592468261719, 0.05082635208964348, 0.029425783082842827, 0.1498039811849594, 0.1284034103155136, 0.09362749010324478, 0.010700284503400326, 0.06152663379907608, 0.07222691923379898, 0.05617649480700493, 0.6133412718772888, 0.031019629910588264, 0.0709020122885704, 0.013294126838445663, 0.09749026596546173, 0.10192164033651352, 0.11521576344966888, 0.10192164033651352, 0.13737264275550842, 0.06203925982117653, 0.27031391859054565, 0.05179273709654808, 0.05179273709654808, 0.6733056306838989, 0.20717094838619232, 0.11517591774463654, 0.15482664108276367, 0.08937148004770279, 0.0824483335018158, 0.10132963210344315, 0.03650384396314621, 0.14853288233280182, 0.06671392172574997, 0.03902135044336319, 0.16615542769432068, 0.7868309020996094, 0.08087067306041718, 0.7278360724449158, 0.16174134612083435, 0.7983514070510864, 0.8448955416679382, 0.8151952028274536, 0.0887492448091507, 0.00385866267606616, 0.60002201795578, 0.02765374816954136, 0.05980927124619484, 0.004501773044466972, 0.0012862208532169461, 0.0006431104266084731, 0.09067857265472412, 0.1215478703379631, 0.010934613645076752, 0.09294421225786209, 0.3827114701271057, 0.06560768187046051, 0.10387882590293884, 0.21322496235370636, 0.08747690916061401, 0.032803840935230255, 0.005467306822538376, 0.08210892975330353, 0.010947857983410358, 0.4324403703212738, 0.005473928991705179, 0.12042643129825592, 0.07116107642650604, 0.005473928991705179, 0.20253536105155945, 0.0656871497631073, 0.7797515988349915, 0.09746894985437393], \"Term\": [\" \", \"-20\", \".great\", \"10.1\", \"10x\", \"11yr\", \"13.3\", \"15\", \"15\", \"15\", \"15\", \"15\", \"199\", \"199\", \"2\", \"2\", \"2\", \"2\", \"2\", \"2\", \"2\", \"2\", \"2\", \"2\", \"2year\", \"3\", \"3\", \"3\", \"3\", \"3\", \"3\", \"3\", \"3\", \"3\", \"3\", \"3yo\", \"4\", \"4\", \"4\", \"4\", \"4\", \"4\", \"4\", \"4\", \"4\", \"5\", \"5\", \"5\", \"5\", \"5\", \"5\", \"5\", \"5\", \"5\", \"5\", \"5th\", \"5th\", \"5year\", \"5yo\", \"6\", \"6\", \"6\", \"6\", \"6\", \"6\", \"6\", \"6\", \"6\", \"6\", \"6th\", \"7\", \"7\", \"7\", \"7\", \"7\", \"7\", \"7\", \"7\", \"7\", \"7\", \"7-inch\", \"70)he\", \"7inch\", \"8\", \"8\", \"8\", \"8\", \"8\", \"8\", \"8\", \"8\", \"8\", \"8\", \"8th\", \"9.7\", \"absolutely\", \"absolutely\", \"absolutely\", \"absolutely\", \"absolutely\", \"absolutely\", \"absolutely\", \"absolutely\", \"absolutely\", \"access\", \"access\", \"access\", \"access\", \"access\", \"access\", \"access\", \"access\", \"access\", \"access\", \"accidental\", \"accidental\", \"account\", \"account\", \"account\", \"account\", \"account\", \"account\", \"account\", \"account\", \"account\", \"account\", \"achievement\", \"act\", \"act\", \"act\", \"ad\", \"ad\", \"ad\", \"ad\", \"ad\", \"ad\", \"ad\", \"ad\", \"ad\", \"ad\", \"adapt\", \"age\", \"age\", \"age\", \"age\", \"age\", \"age\", \"age\", \"age\", \"age\", \"alexa\", \"alexa\", \"alexa\", \"alexa\", \"alexa\", \"alexa\", \"alexa\", \"alexa\", \"alexa\", \"alexa\", \"alexia\", \"alittle\", \"allowance\", \"alright\", \"amazon\", \"amazon\", \"amazon\", \"amazon\", \"amazon\", \"amazon\", \"amazon\", \"amazon\", \"amazon\", \"amazon\", \"amozon\", \"android\", \"android\", \"android\", \"android\", \"android\", \"android\", \"android\", \"android\", \"android\", \"android\", \"angel\", \"angle\", \"angle\", \"anyday\", \"anyways\", \"app\", \"app\", \"app\", \"app\", \"app\", \"app\", \"app\", \"app\", \"app\", \"app\", \"appearance\", \"apple\", \"apple\", \"apple\", \"apple\", \"apple\", \"apple\", \"apple\", \"apple\", \"apple\", \"appreciation\", \"appropriate\", \"appropriate\", \"appropriate\", \"appropriate\", \"appropriate\", \"appropriate\", \"apps.16\", \"arm\", \"arm\", \"arm\", \"art\", \"asking\", \"asleep\", \"asleep\", \"assignment\", \"assist\", \"assist\", \"assistance\", \"assistance\", \"assumwd\", \"att\", \"audible.com\", \"audiobook\", \"audiobook\", \"audiobook\", \"audiobook\", \"australia\", \"autism\", \"autism\", \"availablesare\", \"awesome\", \"awesome\", \"awesome\", \"awesome\", \"awesome\", \"awesome\", \"awesome\", \"awesome\", \"awesome\", \"awesome\", \"backpack\", \"backpack\", \"backpack\", \"backpack\", \"backpack\", \"backup.and\", \"bag\", \"bag\", \"bag\", \"bag\", \"bag\", \"bag\", \"bag\", \"bag\", \"bascially\", \"basis\", \"basis\", \"basis\", \"basis\", \"basis\", \"bath\", \"battery\", \"battery\", \"battery\", \"battery\", \"battery\", \"battery\", \"battery\", \"battery\", \"battery\", \"battery\", \"baught\", \"beat\", \"beat\", \"beat\", \"beat\", \"beat\", \"beat\", \"beat\", \"beat\", \"beat\", \"beat\", \"beating\", \"beating\", \"bedroom\", \"bedt\", \"begginer\", \"beginner\", \"beginner\", \"beginner\", \"beginner\", \"beginner\", \"beginner\", \"beginning\", \"beneficial\", \"beoke\", \"best\", \"best\", \"best\", \"best\", \"best\", \"best\", \"best\", \"best\", \"best\", \"best\", \"better\", \"better\", \"better\", \"better\", \"better\", \"better\", \"better\", \"better\", \"better\", \"better\", \"bf\", \"bill\", \"bill\", \"bill\", \"bill\", \"bill\", \"binder\", \"bird\", \"bloat\", \"blow\", \"bluetooth\", \"bluetooth\", \"bluetooth\", \"bluetooth\", \"bluetooth\", \"bluetooth\", \"bluetooth\", \"bluetooth\", \"bluetooth\", \"book\", \"book\", \"book\", \"book\", \"book\", \"book\", \"book\", \"book\", \"book\", \"book\", \"boyfriend\", \"brand\", \"brand\", \"brand\", \"brand\", \"brand\", \"brand\", \"brand\", \"break\", \"break\", \"break\", \"break\", \"break\", \"break\", \"break\", \"break\", \"break\", \"break\", \"breakable\", \"broken\", \"broken\", \"browse\", \"browse\", \"browse\", \"browse\", \"browse\", \"browse\", \"browse\", \"browse\", \"browse\", \"bulky\", \"bulky\", \"bulky\", \"bulky\", \"bumper\", \"bumper\", \"bumper\", \"bumper\", \"bumper\", \"bumper\", \"bumper\", \"busy\", \"busy\", \"busy\", \"busy\", \"busy\", \"buy\", \"buy\", \"buy\", \"buy\", \"buy\", \"buy\", \"buy\", \"buy\", \"buy\", \"buy\", \"byod\", \"cable\", \"cable\", \"cable\", \"cable\", \"cable\", \"cable\", \"cable\", \"cable\", \"cache\", \"capable\", \"capable\", \"capable\", \"card\", \"card\", \"card\", \"card\", \"card\", \"card\", \"card\", \"card\", \"card\", \"card\", \"carousel\", \"carousel\", \"carrier\", \"carry\", \"carry\", \"carry\", \"carry\", \"carry\", \"carry\", \"carry\", \"carry\", \"carry\", \"carry\", \"case\", \"case\", \"case\", \"case\", \"case\", \"case\", \"case\", \"case\", \"case\", \"case\", \"catch\", \"catch\", \"catch\", \"catch\", \"catch\", \"catch\", \"cd\", \"cd\", \"cellular\", \"certified\", \"charge\", \"charge\", \"charge\", \"charge\", \"charge\", \"charge\", \"charge\", \"charge\", \"charge\", \"charge\", \"charger\", \"charger\", \"charger\", \"charger\", \"charger\", \"charger\", \"charger\", \"charger\", \"charger\", \"chat\", \"cheap\", \"cheap\", \"cheap\", \"cheap\", \"cheap\", \"cheap\", \"cheap\", \"cheap\", \"cheap\", \"cheap\", \"child\", \"child\", \"child\", \"child\", \"child\", \"child\", \"child\", \"child\", \"child\", \"chime\", \"chipper\", \"christmas\", \"christmas\", \"christmas\", \"christmas\", \"christmas\", \"christmas\", \"christmas\", \"christmas\", \"christmas\", \"christmas\", \"chrome\", \"chrome\", \"chrome\", \"chrome\", \"chrome\", \"chrome\", \"circadian\", \"citizen\", \"class\", \"class\", \"class\", \"class\", \"class\", \"class\", \"class\", \"clear\", \"clear\", \"clear\", \"clear\", \"clear\", \"clear\", \"clear\", \"clear\", \"clear\", \"clear\", \"clubhouse\", \"clubhouse\", \"clutter\", \"color\", \"color\", \"color\", \"color\", \"color\", \"color\", \"color\", \"color\", \"color\", \"color\", \"come\", \"come\", \"come\", \"come\", \"come\", \"come\", \"come\", \"come\", \"come\", \"come\", \"comfortably\", \"comforting\", \"command\", \"command\", \"command\", \"command\", \"command\", \"command\", \"command\", \"command\", \"common\", \"common\", \"commuter\", \"compare\", \"compare\", \"compare\", \"compare\", \"compare\", \"compare\", \"compare\", \"compare\", \"compare\", \"compare\", \"comparison\", \"comparison\", \"comparison\", \"compartment\", \"compartment\", \"computer\", \"computer\", \"computer\", \"computer\", \"computer\", \"computer\", \"computer\", \"computer\", \"computer\", \"computer\", \"conceal\", \"confidence\", \"connect\", \"connect\", \"connect\", \"connect\", \"connect\", \"connect\", \"connect\", \"connect\", \"connect\", \"connect\", \"connector\", \"connector\", \"connector\", \"connector\", \"consice\", \"content\", \"content\", \"content\", \"content\", \"content\", \"content\", \"content\", \"content\", \"content\", \"content\", \"control\", \"control\", \"control\", \"control\", \"control\", \"control\", \"control\", \"control\", \"control\", \"control\", \"cost\", \"cost\", \"cost\", \"cost\", \"cost\", \"cost\", \"cost\", \"cost\", \"cost\", \"cost\", \"credit\", \"credit\", \"credit\", \"credit\", \"credit\", \"crucial\", \"curfew\", \"curriculum\", \"daddy\", \"dark\", \"dark\", \"dark\", \"dark\", \"dark\", \"darn\", \"darn\", \"daughter\", \"daughter\", \"daughter\", \"daughter\", \"daughter\", \"daughter\", \"daughter\", \"daughter\", \"daughter\", \"daughter\", \"deck\", \"deck\", \"deck\", \"deduct\", \"definate\", \"definitely\", \"definitely\", \"definitely\", \"definitely\", \"definitely\", \"definitely\", \"definitely\", \"definitely\", \"definitely\", \"definitely\", \"deletion\", \"delivery\", \"department\", \"dependent\", \"descent\", \"determination\", \"device\", \"device\", \"device\", \"device\", \"device\", \"device\", \"device\", \"device\", \"device\", \"device\", \"didon't\", \"die\", \"die\", \"die\", \"die\", \"die\", \"die\", \"die\", \"difference\", \"difference\", \"difference\", \"difference\", \"difference\", \"difference\", \"difference\", \"difference\", \"difference\", \"dinner\", \"disability\", \"disability\", \"disability\", \"disable\", \"disable\", \"disc\", \"display\", \"display\", \"display\", \"display\", \"display\", \"display\", \"display\", \"display\", \"display\", \"display\", \"dispute\", \"distribute\", \"does'nt\", \"don\", \"dose\", \"downgrade\", \"downgrade\", \"download\", \"download\", \"download\", \"download\", \"download\", \"download\", \"download\", \"download\", \"download\", \"download\", \"dream\", \"drive\", \"drive\", \"drive\", \"drive\", \"drive\", \"drive\", \"drive\", \"drive\", \"drop\", \"drop\", \"drop\", \"drop\", \"drop\", \"drop\", \"drop\", \"drop\", \"drop\", \"ds\", \"durable\", \"durable\", \"durable\", \"durable\", \"durable\", \"durable\", \"durable\", \"durable\", \"e\", \"e\", \"e\", \"e\", \"e\", \"e\", \"e\", \"e\", \"e\", \"e\", \"earbud\", \"east\", \"east\", \"easy\", \"easy\", \"easy\", \"easy\", \"easy\", \"easy\", \"easy\", \"easy\", \"easy\", \"easy\", \"echo\", \"echo\", \"echo\", \"echo\", \"echo\", \"echo\", \"echo\", \"echo\", \"echo\", \"echo\", \"eco\", \"els-111\", \"employee\", \"employee\", \"endure\", \"enjoy\", \"enjoy\", \"enjoy\", \"enjoy\", \"enjoy\", \"enjoy\", \"enjoy\", \"enjoy\", \"enjoy\", \"enjoy\", \"entertain\", \"entertain\", \"entertain\", \"entertain\", \"entertain\", \"entertain\", \"entertain\", \"entertaining\", \"entertaining\", \"entertaining\", \"entertaining\", \"entire\", \"entire\", \"entire\", \"entire\", \"entire\", \"entire\", \"entry\", \"entry\", \"entry\", \"entry\", \"entry\", \"equip\", \"estate\", \"everynight\", \"exam\", \"excellent\", \"excellent\", \"excellent\", \"excellent\", \"excellent\", \"excellent\", \"excellent\", \"excellent\", \"excellent\", \"excellent\", \"excited\", \"excited\", \"excited\", \"excited\", \"excited\", \"excited\", \"expandable\", \"expandable\", \"expandable\", \"expandable\", \"expandable\", \"expandable\", \"expandable\", \"expandable\", \"expect\", \"expect\", \"expect\", \"expect\", \"expect\", \"expect\", \"expect\", \"expect\", \"expect\", \"expect\", \"express\", \"extent\", \"ez\", \"fab\", \"face\", \"face\", \"face\", \"face\", \"face\", \"face\", \"fan\", \"fan\", \"fan\", \"fan\", \"fan\", \"far\", \"far\", \"far\", \"far\", \"far\", \"far\", \"far\", \"far\", \"far\", \"far\", \"farone\", \"fast\", \"fast\", \"fast\", \"fast\", \"fast\", \"fast\", \"fast\", \"fast\", \"fast\", \"fast\", \"fast!i\", \"faster\", \"faster\", \"faster\", \"faster\", \"faster\", \"faster\", \"faster\", \"faster\", \"faster\", \"faster\", \"feature\", \"feature\", \"feature\", \"feature\", \"feature\", \"feature\", \"feature\", \"feature\", \"feature\", \"feature\", \"fi\", \"fi\", \"fi\", \"fi\", \"fi\", \"fiance\", \"fianc\\u221a\", \"fianc\\u221a\", \"find\", \"find\", \"find\", \"find\", \"find\", \"find\", \"find\", \"find\", \"find\", \"find\", \"fingertip\", \"fingertip\", \"fire\", \"fire\", \"fire\", \"fire\", \"fire\", \"fire\", \"fire\", \"fire\", \"fire\", \"fire\", \"firend\", \"fires\", \"fish\", \"fit\", \"fit\", \"fit\", \"fit\", \"fit\", \"fit\", \"fit\", \"fit\", \"fit\", \"fit\", \"flag\", \"fo\", \"free\", \"free\", \"free\", \"free\", \"free\", \"free\", \"free\", \"free\", \"free\", \"free\", \"freebie\", \"freetime\", \"freetime\", \"freetime\", \"freetime\", \"freetime\", \"freetime\", \"freetime\", \"freetime\", \"friend\", \"friend\", \"friend\", \"friend\", \"friend\", \"friend\", \"friend\", \"friend\", \"friend\", \"friendly\", \"friendly\", \"friendly\", \"friendly\", \"friendly\", \"friendly\", \"friendly\", \"friendly\", \"friendly\", \"friendly\", \"fundraiser\", \"fuzzy\", \"game\", \"game\", \"game\", \"game\", \"game\", \"game\", \"game\", \"game\", \"game\", \"game\", \"garage\", \"gb\", \"gb\", \"gb\", \"gb\", \"gb\", \"gb\", \"gb\", \"gb\", \"gb\", \"geek\", \"geek\", \"geek\", \"geek\", \"geek\", \"geek\", \"gen\", \"gen\", \"gen\", \"gen\", \"generation\", \"generation\", \"generation\", \"generation\", \"generation\", \"generation\", \"generation\", \"generation\", \"get\", \"get\", \"get\", \"get\", \"get\", \"get\", \"get\", \"get\", \"get\", \"get\", \"gift\", \"gift\", \"gift\", \"gift\", \"gift\", \"gift\", \"gift\", \"gift\", \"gift\", \"gift\", \"git\", \"go\", \"go\", \"go\", \"go\", \"go\", \"go\", \"go\", \"go\", \"go\", \"go\", \"godson\", \"godson\", \"goo\", \"good\", \"good\", \"good\", \"good\", \"good\", \"good\", \"good\", \"good\", \"good\", \"good\", \"good).he\", \"goody\", \"goog\", \"google\", \"google\", \"google\", \"google\", \"google\", \"google\", \"google\", \"google\", \"google\", \"google\", \"grand\", \"grand\", \"grand\", \"grand\", \"grand\", \"grand\", \"grand\", \"grand\", \"grandaughter\", \"grandaughter\", \"grandchildren\", \"granddaughter\", \"granddaughter\", \"granddaughter\", \"granddaughter\", \"granddaughter\", \"granddaughter\", \"granddaughter\", \"granddaughter\", \"granddaughter\", \"grandfather\", \"grandparent\", \"grandparent\", \"grandparent\", \"grandson\", \"grandson\", \"grandson\", \"grandson\", \"grandson\", \"grandson\", \"grandson\", \"grandson\", \"grandson\", \"graphic\", \"graphic\", \"graphic\", \"graphic\", \"graphic\", \"graphic\", \"graphic\", \"graphic\", \"graphical\", \"great\", \"great\", \"great\", \"great\", \"great\", \"great\", \"great\", \"great\", \"great\", \"great\", \"great!\", \"group\", \"group\", \"group\", \"guide\", \"guide\", \"handed\", \"happy\", \"happy\", \"happy\", \"happy\", \"happy\", \"happy\", \"happy\", \"happy\", \"happy\", \"happy\", \"hasmore\", \"have\", \"have\", \"have\", \"have\", \"have\", \"have\", \"have\", \"have\", \"have\", \"have\", \"hd\", \"hd\", \"hd\", \"hd\", \"hd\", \"hd\", \"hd\", \"hd\", \"hd\", \"hd\", \"held\", \"help\", \"help\", \"help\", \"help\", \"help\", \"help\", \"help\", \"help\", \"help\", \"help\", \"hog\", \"home\", \"home\", \"home\", \"home\", \"home\", \"home\", \"home\", \"home\", \"home\", \"home\", \"hotspot\", \"hotspot\", \"hour\", \"hour\", \"hour\", \"hour\", \"hour\", \"hour\", \"hour\", \"hour\", \"hour\", \"house\", \"house\", \"house\", \"house\", \"house\", \"house\", \"house\", \"house\", \"house\", \"house\", \"hover\", \"howto\", \"hubby\", \"i.\", \"i.\", \"iceland\", \"imagination\", \"impaired\", \"implement\", \"improvement\", \"improvement\", \"improvement\", \"improvement\", \"improvement\", \"improvement\", \"improvement\", \"inadvertently\", \"inch\", \"inch\", \"inch\", \"inch\", \"inch\", \"inch\", \"inch\", \"inch\", \"inch\", \"included\", \"individual\", \"individual\", \"individual\", \"insensitive\", \"instal\", \"instal\", \"instal\", \"instal\", \"instal\", \"instal\", \"instal\", \"instal\", \"instal\", \"insure\", \"internet\", \"internet\", \"internet\", \"internet\", \"internet\", \"internet\", \"internet\", \"internet\", \"internet\", \"internet\", \"internet.1.5\", \"intimidating\", \"ipad\", \"ipad\", \"ipad\", \"ipad\", \"ipad\", \"ipad\", \"ipad\", \"ipad\", \"ipad\", \"ipad\", \"ireader\", \"item\", \"item\", \"item\", \"item\", \"item\", \"item\", \"item\", \"item\", \"item\", \"item\", \"it\\u201a\\u00e4\\u00f4s\", \"it\\u201a\\u00e4\\u00f4s\", \"it\\u201a\\u00e4\\u00f4s\", \"it\\u201a\\u00e4\\u00f4s\", \"it\\u201a\\u00e4\\u00f4s\", \"it\\u201a\\u00e4\\u00f4s\", \"jealous\", \"juju\", \"junk\", \"junk\", \"junk\", \"junk\", \"keep\", \"keep\", \"keep\", \"keep\", \"keep\", \"keep\", \"keep\", \"keep\", \"keep\", \"keep\", \"keyboard\", \"keyboard\", \"keyboard\", \"keyboard\", \"keyboard\", \"keyboard\", \"keyboard\", \"keyboard\", \"kid\", \"kid\", \"kid\", \"kid\", \"kid\", \"kid\", \"kid\", \"kid\", \"kid\", \"kid\", \"kidsmode\", \"kinda\", \"kinda\", \"kinde\", \"kindle\", \"kindle\", \"kindle\", \"kindle\", \"kindle\", \"kindle\", \"kindle\", \"kindle\", \"kindle\", \"kindle\", \"kitchen\", \"kitchen\", \"know\", \"know\", \"know\", \"know\", \"know\", \"know\", \"know\", \"know\", \"know\", \"know\", \"kodi\", \"kurio\", \"lack\", \"lack\", \"lack\", \"lack\", \"lack\", \"lack\", \"lack\", \"lack\", \"lack\", \"lamp\", \"land\", \"lasting\", \"lastly\", \"lastly\", \"laugh\", \"launch\", \"law\", \"law\", \"law\", \"law\", \"law\", \"law\", \"lead\", \"lead\", \"lean\", \"learn\", \"learn\", \"learn\", \"learn\", \"learn\", \"learn\", \"learn\", \"learn\", \"learn\", \"learn\", \"learning\", \"learning\", \"learning\", \"learning\", \"learning\", \"learning\", \"learning\", \"learning\", \"leg\", \"life\", \"life\", \"life\", \"life\", \"life\", \"life\", \"life\", \"life\", \"life\", \"life\", \"lifesaver\", \"light\", \"light\", \"light\", \"light\", \"light\", \"light\", \"light\", \"light\", \"light\", \"light\", \"lightning\", \"lightweight\", \"lightweight\", \"lightweight\", \"lightweight\", \"lightweight\", \"lightweight\", \"lightweight\", \"lightweight\", \"lightweight\", \"like\", \"like\", \"like\", \"like\", \"like\", \"like\", \"like\", \"like\", \"like\", \"like\", \"limit\", \"limit\", \"limit\", \"limit\", \"limit\", \"limit\", \"limit\", \"limit\", \"limit\", \"limit\", \"limited\", \"limited\", \"limited\", \"limited\", \"limited\", \"limited\", \"limited\", \"limited\", \"listen\", \"listen\", \"listen\", \"listen\", \"listen\", \"listen\", \"listen\", \"listen\", \"listen\", \"listen\", \"little\", \"little\", \"little\", \"little\", \"little\", \"little\", \"little\", \"little\", \"little\", \"little\", \"loading\", \"loading\", \"loading\", \"loading\", \"local\", \"local\", \"local\", \"local\", \"local\", \"local\", \"logic\", \"logic\", \"long\", \"long\", \"long\", \"long\", \"long\", \"long\", \"long\", \"long\", \"long\", \"long\", \"look\", \"look\", \"look\", \"look\", \"look\", \"look\", \"look\", \"look\", \"look\", \"look\", \"lot\", \"lot\", \"lot\", \"lot\", \"lot\", \"lot\", \"lot\", \"lot\", \"lot\", \"lot\", \"love\", \"love\", \"love\", \"love\", \"love\", \"love\", \"love\", \"love\", \"love\", \"love\", \"magazine\", \"magazine\", \"magazine\", \"magazine\", \"magazine\", \"magazine\", \"magazine\", \"magazine\", \"magazine\", \"malfunction\", \"manager\", \"matthew\", \"meet\", \"meet\", \"meet\", \"meet\", \"meet\", \"meeting\", \"meeting\", \"memory\", \"memory\", \"memory\", \"memory\", \"memory\", \"memory\", \"memory\", \"memory\", \"memory\", \"memory\", \"metal\", \"mickey\", \"mickey\", \"micro\", \"micro\", \"micro\", \"micro\", \"micro\", \"micro\", \"micro\", \"mid\", \"mid\", \"mindless\", \"mine\", \"mini\", \"mini\", \"mini\", \"mini\", \"mini\", \"mini\", \"mini\", \"mini\", \"mini\", \"miniature\", \"miracle\", \"mirror\", \"mirror\", \"mirror\", \"model\", \"model\", \"model\", \"model\", \"model\", \"model\", \"model\", \"model\", \"model\", \"model\", \"mom\", \"mom\", \"mom\", \"mom\", \"mom\", \"mom\", \"mom\", \"mom\", \"mom\", \"monitor\", \"monitor\", \"monitor\", \"monitor\", \"monitor\", \"monitor\", \"mono\", \"month\", \"month\", \"month\", \"month\", \"month\", \"month\", \"month\", \"month\", \"month\", \"month\", \"mother\", \"mother\", \"mother\", \"mother\", \"mother\", \"mother\", \"mother\", \"mother\", \"mother\", \"movie\", \"movie\", \"movie\", \"movie\", \"movie\", \"movie\", \"movie\", \"movie\", \"movie\", \"movie\", \"mucheveryday\", \"multi\", \"multi\", \"music\", \"music\", \"music\", \"music\", \"music\", \"music\", \"music\", \"music\", \"music\", \"music\", \"name\", \"name\", \"need\", \"need\", \"need\", \"need\", \"need\", \"need\", \"need\", \"need\", \"need\", \"need\", \"needless\", \"neoprene\", \"nephew\", \"nephew\", \"nephew\", \"nephew\", \"nephew\", \"nephew\", \"nephew\", \"nephew\", \"nephew\", \"nervous\", \"netflix\", \"netflix\", \"netflix\", \"netflix\", \"netflix\", \"netflix\", \"netflix\", \"netflix\", \"netflix\", \"netflix\", \"new\", \"new\", \"new\", \"new\", \"new\", \"new\", \"new\", \"new\", \"new\", \"new\", \"newstand\", \"newstand\", \"nice\", \"nice\", \"nice\", \"nice\", \"nice\", \"nice\", \"nice\", \"nice\", \"nice\", \"nice\", \"nnby\", \"noble\", \"nomad\", \"nonstop\", \"noticeably\", \"noticeably\", \"notification\", \"numerous\", \"numerous\", \"numerous\", \"numerous\", \"numerous\", \"nursing\", \"oasis\", \"oasis\", \"oasis\", \"oasis\", \"oasis\", \"oasis\", \"occupy\", \"occupy\", \"old\", \"old\", \"old\", \"old\", \"old\", \"old\", \"old\", \"old\", \"old\", \"old\", \"onother\", \"ore\", \"original\", \"original\", \"original\", \"original\", \"original\", \"original\", \"original\", \"original\", \"original\", \"os\", \"os\", \"os\", \"os\", \"os\", \"os\", \"os\", \"os\", \"os\", \"outdoor\", \"own\", \"own\", \"own\", \"own\", \"own\", \"own\", \"own\", \"own\", \"own\", \"own\", \"pack\", \"pack\", \"pack\", \"pack\", \"page\", \"page\", \"page\", \"page\", \"page\", \"page\", \"page\", \"page\", \"page\", \"page\", \"pair\", \"pair\", \"pair\", \"pair\", \"pair\", \"pair\", \"pandora\", \"pandora\", \"pandora\", \"pandora\", \"paperwhite\", \"paperwhite\", \"paperwhite\", \"paperwhite\", \"paperwhite\", \"paperwhite\", \"paperwhite\", \"paperwhite\", \"paperwhite\", \"parental\", \"parental\", \"parental\", \"parental\", \"parental\", \"parental\", \"parental\", \"parental\", \"parental\", \"parental\", \"pause\", \"pause\", \"peace\", \"perfect\", \"perfect\", \"perfect\", \"perfect\", \"perfect\", \"perfect\", \"perfect\", \"perfect\", \"perfect\", \"perfect\", \"phenomenal\", \"photo\", \"photo\", \"photo\", \"photo\", \"photo\", \"photo\", \"photo\", \"photo\", \"photo\", \"photo\", \"pic\", \"pic\", \"pic\", \"picture\", \"picture\", \"picture\", \"picture\", \"picture\", \"picture\", \"picture\", \"picture\", \"picture\", \"picture\", \"pink\", \"pink\", \"pink\", \"pink\", \"pink\", \"pink\", \"pink\", \"pink\", \"plane\", \"plane\", \"plane\", \"plane\", \"plane\", \"plane\", \"plane\", \"platform\", \"platform\", \"platform\", \"platform\", \"platform\", \"play\", \"play\", \"play\", \"play\", \"play\", \"play\", \"play\", \"play\", \"play\", \"play\", \"plays\", \"plug\", \"plug\", \"plug\", \"plug\", \"plug\", \"plug\", \"plug\", \"plug\", \"pokemon\", \"pop\", \"pop\", \"pop\", \"pop\", \"pop\", \"prefect\", \"preloade\", \"preloade\", \"preloade\", \"preloade\", \"preloade\", \"prepaid\", \"presence\", \"present\", \"present\", \"present\", \"present\", \"present\", \"present\", \"present\", \"present\", \"present\", \"pretty\", \"pretty\", \"pretty\", \"pretty\", \"pretty\", \"pretty\", \"pretty\", \"pretty\", \"pretty\", \"pretty\", \"previous\", \"previous\", \"previous\", \"previous\", \"previous\", \"previous\", \"previous\", \"previous\", \"previous\", \"previous\", \"price\", \"price\", \"price\", \"price\", \"price\", \"price\", \"price\", \"price\", \"price\", \"price\", \"pricegood\", \"prob\", \"problem\", \"problem\", \"problem\", \"problem\", \"problem\", \"problem\", \"problem\", \"problem\", \"problem\", \"problem\", \"product\", \"product\", \"product\", \"product\", \"product\", \"product\", \"product\", \"product\", \"product\", \"product\", \"profile\", \"profile\", \"profile\", \"profile\", \"profile\", \"profile\", \"profile\", \"profile\", \"profile\", \"prompt\", \"prompt\", \"protect\", \"protect\", \"protect\", \"protect\", \"protect\", \"protect\", \"protect\", \"protect\", \"protect\", \"protection\", \"protection\", \"protection\", \"protection\", \"protection\", \"protection\", \"protection\", \"protection\", \"purchase\", \"purchase\", \"purchase\", \"purchase\", \"purchase\", \"purchase\", \"purchase\", \"purchase\", \"purchase\", \"purchase\", \"purse\", \"purse\", \"purse\", \"purse\", \"purse\", \"quality\", \"quality\", \"quality\", \"quality\", \"quality\", \"quality\", \"quality\", \"quality\", \"quality\", \"quality\", \"questions\", \"quirk\", \"quirk\", \"quirk\", \"quirk\", \"reaction\", \"read\", \"read\", \"read\", \"read\", \"read\", \"read\", \"read\", \"read\", \"read\", \"read\", \"readability\", \"reader\", \"reader\", \"reader\", \"reader\", \"reader\", \"reader\", \"reader\", \"reader\", \"reader\", \"reader\", \"reading\", \"reading\", \"reading\", \"reading\", \"reading\", \"reading\", \"reading\", \"reading\", \"reading\", \"reading\", \"reccommend\", \"rechargeable\", \"recipient\", \"recipient\", \"recipient\", \"recommend\", \"recommend\", \"recommend\", \"recommend\", \"recommend\", \"recommend\", \"recommend\", \"recommend\", \"recommend\", \"recommend\", \"refurbish\", \"refurbish\", \"refuse\", \"refuse\", \"relax\", \"relax\", \"relevant\", \"reliable\", \"reliable\", \"reliable\", \"reliable\", \"reliable\", \"reliable\", \"reliable\", \"repave\", \"replace\", \"replace\", \"replace\", \"replace\", \"replace\", \"replace\", \"replace\", \"replace\", \"replace\", \"replace\", \"repossess\", \"representative\", \"resistant\", \"resistant\", \"resolution\", \"resolution\", \"resolution\", \"resolution\", \"resolution\", \"resolution\", \"resolution\", \"resolution\", \"resolution\", \"resolution\", \"retire\", \"retire\", \"review\", \"review\", \"review\", \"review\", \"review\", \"review\", \"review\", \"review\", \"review\", \"review\", \"rhythm\", \"right\", \"right\", \"right\", \"right\", \"right\", \"right\", \"right\", \"right\", \"right\", \"right\", \"rough\", \"rough\", \"rough\", \"rough\", \"rough\", \"rough\", \"round\", \"ruin\", \"rule\", \"safe\", \"safe\", \"safe\", \"safe\", \"safe\", \"safe\", \"safety\", \"safety\", \"safety\", \"sails\", \"santa\", \"santa\", \"santa\", \"saver\", \"saver\", \"scene\", \"school\", \"school\", \"school\", \"school\", \"school\", \"school\", \"school\", \"school\", \"school\", \"scratch\", \"scratch\", \"screen\", \"screen\", \"screen\", \"screen\", \"screen\", \"screen\", \"screen\", \"screen\", \"screen\", \"screen\", \"screw\", \"sd\", \"sd\", \"sd\", \"sd\", \"sd\", \"sd\", \"sd\", \"sd\", \"sd\", \"section\", \"section\", \"section\", \"sega\", \"sesame\", \"set\", \"set\", \"set\", \"set\", \"set\", \"set\", \"set\", \"set\", \"set\", \"set\", \"seven\", \"seven\", \"seven\", \"sharing\", \"shatter\", \"shelf\", \"show\", \"show\", \"show\", \"show\", \"show\", \"show\", \"show\", \"show\", \"show\", \"side\", \"side\", \"sideload\", \"significant\", \"simple\", \"simple\", \"simple\", \"simple\", \"simple\", \"simple\", \"simple\", \"simple\", \"simple\", \"size\", \"size\", \"size\", \"size\", \"size\", \"size\", \"size\", \"size\", \"size\", \"size\", \"sleeve\", \"sleeve\", \"sleeve\", \"slippery\", \"slowly\", \"small\", \"small\", \"small\", \"small\", \"small\", \"small\", \"small\", \"small\", \"small\", \"small\", \"smart\", \"smart\", \"smart\", \"smart\", \"smart\", \"smart\", \"smart\", \"smart\", \"smart\", \"smooth\", \"smooth\", \"smooth\", \"smooth\", \"smooth\", \"social\", \"social\", \"social\", \"social\", \"social\", \"solitaire\", \"solitaire\", \"somewhe\", \"son\", \"son\", \"son\", \"son\", \"son\", \"son\", \"son\", \"son\", \"son\", \"son\", \"sooner\", \"sooner\", \"sooner\", \"sound\", \"sound\", \"sound\", \"sound\", \"sound\", \"sound\", \"sound\", \"sound\", \"sound\", \"sound\", \"speaker\", \"speaker\", \"speaker\", \"speaker\", \"speaker\", \"speaker\", \"speaker\", \"speaker\", \"speaker\", \"speaker\", \"special\", \"special\", \"special\", \"special\", \"special\", \"special\", \"spotify\", \"spotify\", \"spotify\", \"squad\", \"squad\", \"squad\", \"squad\", \"squad\", \"squad\", \"stair\", \"starter\", \"starter\", \"starter\", \"starter\", \"starter\", \"starter\", \"steelbook\", \"stepkid\", \"stink\", \"stock\", \"stock\", \"stock\", \"stock\", \"stock\", \"stock\", \"stone\", \"storage\", \"storage\", \"storage\", \"storage\", \"storage\", \"storage\", \"storage\", \"storage\", \"storage\", \"storage\", \"store\", \"store\", \"store\", \"store\", \"store\", \"store\", \"store\", \"store\", \"store\", \"store\", \"store(very\", \"street\", \"sturdier\", \"suggestion\", \"suggestion\", \"sunday\", \"supervise\", \"supportive\", \"sure\", \"sure\", \"sure\", \"sure\", \"sure\", \"sure\", \"sure\", \"sure\", \"sure\", \"sure\", \"swipe\", \"swipe\", \"swipe\", \"swipe\", \"swipe\", \"swipe\", \"swipe\", \"systems.my\", \"tab\", \"tab\", \"tab\", \"tab\", \"tab\", \"tab\", \"tab\", \"tab\", \"tab\", \"tablet\", \"tablet\", \"tablet\", \"tablet\", \"tablet\", \"tablet\", \"tablet\", \"tablet\", \"tablet\", \"tablet\", \"tabletscon\", \"tablett\", \"tag\", \"tag\", \"tag\", \"tag\", \"tag\", \"take\", \"take\", \"take\", \"take\", \"take\", \"take\", \"take\", \"take\", \"take\", \"take\", \"tap\", \"tap\", \"tap\", \"tap\", \"tap\", \"tap\", \"tap\", \"tap\", \"tap\", \"tap\", \"taste\", \"tell\", \"tell\", \"tell\", \"tell\", \"tell\", \"tell\", \"tell\", \"tell\", \"tell\", \"tell\", \"texte\", \"texte\", \"thank\", \"thank\", \"thank\", \"thank\", \"thank\", \"thank\", \"thank\", \"thank\", \"thank\", \"thing\", \"thing\", \"thing\", \"thing\", \"thing\", \"thing\", \"thing\", \"thing\", \"thing\", \"thing\", \"thinking\", \"time\", \"time\", \"time\", \"time\", \"time\", \"time\", \"time\", \"time\", \"time\", \"time\", \"tip\", \"tip\", \"toast\", \"tote\", \"toy\", \"toy\", \"toy\", \"toy\", \"toy\", \"toy\", \"transportation\", \"trilogy\", \"trip\", \"trip\", \"trip\", \"trip\", \"trip\", \"trip\", \"trip\", \"trip\", \"trip\", \"try\", \"try\", \"try\", \"try\", \"try\", \"try\", \"try\", \"try\", \"try\", \"try\", \"tuck\", \"tweet\", \"twitter\", \"u\", \"u\", \"u\", \"u\", \"u\", \"u\", \"unaware\", \"underground\", \"underground\", \"underground\", \"understanding\", \"unnecessary\", \"upgrade\", \"upgrade\", \"upgrade\", \"upgrade\", \"upgrade\", \"upgrade\", \"upgrade\", \"upgrade\", \"upgrade\", \"upgrade\", \"ups\", \"use\", \"use\", \"use\", \"use\", \"use\", \"use\", \"use\", \"use\", \"use\", \"use\", \"user\", \"user\", \"user\", \"user\", \"user\", \"user\", \"user\", \"user\", \"user\", \"user\", \"usual\", \"usual\", \"variation\", \"version\", \"version\", \"version\", \"version\", \"version\", \"version\", \"version\", \"version\", \"version\", \"version\", \"video\", \"video\", \"video\", \"video\", \"video\", \"video\", \"video\", \"video\", \"video\", \"video\", \"voice\", \"voice\", \"voice\", \"voice\", \"voice\", \"voice\", \"voice\", \"voice\", \"voice\", \"voice\", \"void\", \"voyage\", \"voyage\", \"voyage\", \"voyage\", \"voyage\", \"voyage\", \"voyage\", \"voyage\", \"voyage\", \"voyage\", \"w\", \"w\", \"wad\", \"wanna\", \"want\", \"want\", \"want\", \"want\", \"want\", \"want\", \"want\", \"want\", \"want\", \"want\", \"warranty\", \"warranty\", \"warranty\", \"warranty\", \"warranty\", \"warranty\", \"warranty\", \"warranty\", \"warranty\", \"watch\", \"watch\", \"watch\", \"watch\", \"watch\", \"watch\", \"watch\", \"watch\", \"watch\", \"watch\", \"watcher\", \"way\", \"way\", \"way\", \"way\", \"way\", \"way\", \"way\", \"way\", \"way\", \"way\", \"weather\", \"weather\", \"weather\", \"weather\", \"weather\", \"weather\", \"weather\", \"weekend\", \"weight\", \"weight\", \"weight\", \"weight\", \"weight\", \"weight\", \"weight\", \"weight\", \"well\", \"well\", \"well\", \"well\", \"well\", \"well\", \"well\", \"well\", \"well\", \"well\", \"whey\", \"whim\", \"whim\", \"white\", \"white\", \"white\", \"white\", \"white\", \"white\", \"white\", \"wi\", \"wi\", \"wi\", \"wi\", \"wi\", \"wife\", \"wife\", \"wife\", \"wife\", \"wife\", \"wife\", \"wife\", \"wife\", \"wife\", \"wife\", \"wifes\", \"wifi\", \"wifi\", \"wifi\", \"wifi\", \"wifi\", \"wifi\", \"wifi\", \"wifi\", \"wifi\", \"wifi\", \"window\", \"window\", \"window\", \"window\", \"work\", \"work\", \"work\", \"work\", \"work\", \"work\", \"work\", \"work\", \"work\", \"work\", \"worm\", \"xbox\", \"xbox\", \"xbox\", \"xfinity\", \"y.o\", \"yay\", \"year\", \"year\", \"year\", \"year\", \"year\", \"year\", \"year\", \"year\", \"year\", \"year\", \"young\", \"young\", \"young\", \"young\", \"young\", \"young\", \"young\", \"young\", \"young\", \"yr\", \"yr\", \"yr\", \"yr\", \"yr\", \"yr\", \"yr\", \"yr\", \"yr\", \"\\u00a9\", \"\\u00a9\"]}, \"R\": 30, \"lambda.step\": 0.01, \"plot.opts\": {\"xlab\": \"PC1\", \"ylab\": \"PC2\"}, \"topic.order\": [8, 1, 9, 4, 6, 3, 2, 10, 5, 7]};\n",
       "\n",
       "function LDAvis_load_lib(url, callback){\n",
       "  var s = document.createElement('script');\n",
       "  s.src = url;\n",
       "  s.async = true;\n",
       "  s.onreadystatechange = s.onload = callback;\n",
       "  s.onerror = function(){console.warn(\"failed to load library \" + url);};\n",
       "  document.getElementsByTagName(\"head\")[0].appendChild(s);\n",
       "}\n",
       "\n",
       "if(typeof(LDAvis) !== \"undefined\"){\n",
       "   // already loaded: just create the visualization\n",
       "   !function(LDAvis){\n",
       "       new LDAvis(\"#\" + \"ldavis_el3527948370727122204740661\", ldavis_el3527948370727122204740661_data);\n",
       "   }(LDAvis);\n",
       "}else if(typeof define === \"function\" && define.amd){\n",
       "   // require.js is available: use it to load d3/LDAvis\n",
       "   require.config({paths: {d3: \"https://cdnjs.cloudflare.com/ajax/libs/d3/3.5.5/d3.min\"}});\n",
       "   require([\"d3\"], function(d3){\n",
       "      window.d3 = d3;\n",
       "      LDAvis_load_lib(\"https://cdn.rawgit.com/bmabey/pyLDAvis/files/ldavis.v1.0.0.js\", function(){\n",
       "        new LDAvis(\"#\" + \"ldavis_el3527948370727122204740661\", ldavis_el3527948370727122204740661_data);\n",
       "      });\n",
       "    });\n",
       "}else{\n",
       "    // require.js not available: dynamically load d3 & LDAvis\n",
       "    LDAvis_load_lib(\"https://cdnjs.cloudflare.com/ajax/libs/d3/3.5.5/d3.min.js\", function(){\n",
       "         LDAvis_load_lib(\"https://cdn.rawgit.com/bmabey/pyLDAvis/files/ldavis.v1.0.0.js\", function(){\n",
       "                 new LDAvis(\"#\" + \"ldavis_el3527948370727122204740661\", ldavis_el3527948370727122204740661_data);\n",
       "            })\n",
       "         });\n",
       "}\n",
       "</script>"
      ],
      "text/plain": [
       "PreparedData(topic_coordinates=              x         y  topics  cluster       Freq\n",
       "topic                                                \n",
       "7      0.008241  0.034733       1        1  12.802299\n",
       "0     -0.004851  0.091132       2        1  12.603642\n",
       "8      0.102487 -0.048386       3        1  12.541323\n",
       "3     -0.018891  0.067032       4        1  11.493891\n",
       "5      0.060202 -0.014968       5        1   9.762775\n",
       "2      0.090258  0.054658       6        1   9.154170\n",
       "1     -0.103403  0.002776       7        1   8.380258\n",
       "9     -0.144552 -0.031048       8        1   8.067680\n",
       "4      0.024847 -0.104328       9        1   7.755150\n",
       "6     -0.014339 -0.051601      10        1   7.438816, topic_info=     Category         Freq           Term        Total  loglift  logprob\n",
       "6     Default  4571.000000           love  4571.000000  30.0000  30.0000\n",
       "141   Default  1554.000000           year  1554.000000  29.0000  29.0000\n",
       "1166  Default  1552.000000           game  1552.000000  28.0000  28.0000\n",
       "1362  Default  2019.000000            kid  2019.000000  27.0000  27.0000\n",
       "107   Default  1923.000000            old  1923.000000  26.0000  26.0000\n",
       "230   Default  3313.000000            buy  3313.000000  25.0000  25.0000\n",
       "35    Default  1398.000000           play  1398.000000  24.0000  24.0000\n",
       "2     Default  4737.000000          great  4737.000000  23.0000  23.0000\n",
       "229   Default  1936.000000            app  1936.000000  22.0000  22.0000\n",
       "92    Default  2951.000000           good  2951.000000  21.0000  21.0000\n",
       "86    Default  2465.000000           easy  2465.000000  20.0000  20.0000\n",
       "886   Default  1564.000000           read  1564.000000  19.0000  19.0000\n",
       "448   Default  1528.000000           book  1528.000000  18.0000  18.0000\n",
       "330   Default   929.000000           need   929.000000  17.0000  17.0000\n",
       "180   Default   739.000000          watch   739.000000  16.0000  16.0000\n",
       "1521  Default   479.000000         google   479.000000  15.0000  15.0000\n",
       "52    Default  2138.000000         amazon  2138.000000  14.0000  14.0000\n",
       "705   Default  6404.000000         tablet  6404.000000  13.0000  13.0000\n",
       "1000  Default  2386.000000         kindle  2386.000000  12.0000  12.0000\n",
       "116   Default  1981.000000          price  1981.000000  11.0000  11.0000\n",
       "1508  Default   791.000000       daughter   791.000000  10.0000  10.0000\n",
       "1150  Default   309.000000        android   309.000000   9.0000   9.0000\n",
       "250   Default  3280.000000            use  3280.000000   8.0000   8.0000\n",
       "44    Default   600.000000          store   600.000000   7.0000   7.0000\n",
       "27    Default  1732.000000           like  1732.000000   6.0000   6.0000\n",
       "183   Default   892.000000         device   892.000000   5.0000   5.0000\n",
       "999   Default  2053.000000           fire  2053.000000   4.0000   4.0000\n",
       "1469  Default   344.000000  granddaughter   344.000000   3.0000   3.0000\n",
       "907   Default   908.000000           gift   908.000000   2.0000   2.0000\n",
       "57    Default   543.000000              2   543.000000   1.0000   1.0000\n",
       "...       ...          ...            ...          ...      ...      ...\n",
       "3113  Topic10    22.999281       freetime    61.450394   1.6157  -6.4415\n",
       "141   Topic10   189.331573           year  1554.942871   0.4928  -4.3335\n",
       "118   Topic10    72.263931        problem   353.984741   1.0095  -5.2966\n",
       "418   Topic10    66.116409              5   309.530762   1.0548  -5.3856\n",
       "250   Topic10   293.329163            use  3280.775146   0.1839  -3.8957\n",
       "211   Topic10    69.586548         access   360.071686   0.9547  -5.3344\n",
       "52    Topic10   208.506577         amazon  2138.274170   0.2707  -4.2370\n",
       "705   Topic10   405.906586         tablet  6404.083984  -0.1601  -3.5708\n",
       "775   Topic10    43.847870         better   181.135361   1.1799  -5.7962\n",
       "231   Topic10    25.957384          cable    78.800110   1.4880  -6.3205\n",
       "229   Topic10   170.662903            app  1936.892334   0.1693  -4.4373\n",
       "107   Topic10   167.063950            old  1923.853149   0.1547  -4.4586\n",
       "947   Topic10    73.924500            far   478.493866   0.7309  -5.2739\n",
       "230   Topic10   181.811890            buy  3313.332031  -0.3043  -4.3740\n",
       "6     Topic10   210.523575           love  4571.215820  -0.4795  -4.2274\n",
       "239   Topic10    64.323975           free   456.873932   0.6380  -5.4130\n",
       "86    Topic10   139.873856           easy  2465.642090  -0.2710  -4.6362\n",
       "597   Topic10    72.282494        feature   632.626709   0.4292  -5.2964\n",
       "314   Topic10    62.504047           find   462.956299   0.5961  -5.4417\n",
       "224   Topic10    67.716896          video   554.098694   0.4965  -5.3616\n",
       "2     Topic10   163.100525          great  4737.948242  -0.7705  -4.4826\n",
       "150   Topic10    91.590843           time  1165.880249   0.0546  -5.0596\n",
       "174   Topic10    91.384567         screen  1356.185669  -0.0989  -5.0619\n",
       "23    Topic10    87.897186            get  1261.409790  -0.0654  -5.1008\n",
       "448   Topic10    92.387863           book  1528.510498  -0.2076  -5.0510\n",
       "50    Topic10    78.232643           want  1001.421265   0.0490  -5.2173\n",
       "907   Topic10    75.915123           gift   908.214172   0.1166  -5.2474\n",
       "2678  Topic10    70.292343          child   688.671997   0.3164  -5.3243\n",
       "999   Topic10    82.647636           fire  2053.025879  -0.6140  -5.1624\n",
       "330   Topic10    69.385757           need   929.914307   0.0030  -5.3373\n",
       "\n",
       "[845 rows x 6 columns], token_table=      Topic      Freq    Term\n",
       "term                         \n",
       "1874      8  0.880941        \n",
       "5945      8  0.903503     -20\n",
       "5865      5  0.704678  .great\n",
       "3346     10  0.828326    10.1\n",
       "3758      5  0.688421     10x\n",
       "3993      4  0.873889    11yr\n",
       "853       9  0.781190    13.3\n",
       "1157      1  0.072723      15\n",
       "1157      4  0.169687      15\n",
       "1157      5  0.024241      15\n",
       "1157      8  0.557543      15\n",
       "1157      9  0.121205      15\n",
       "2365      3  0.110841     199\n",
       "2365      7  0.775891     199\n",
       "57        1  0.082769       2\n",
       "57        2  0.016554       2\n",
       "57        3  0.559152       2\n",
       "57        4  0.040465       2\n",
       "57        5  0.047822       2\n",
       "57        6  0.025750       2\n",
       "57        7  0.003679       2\n",
       "57        8  0.023911       2\n",
       "57        9  0.143467       2\n",
       "57       10  0.057019       2\n",
       "5062      5  0.797979   2year\n",
       "59        1  0.063251       3\n",
       "59        2  0.012650       3\n",
       "59        3  0.521191       3\n",
       "59        4  0.093612       3\n",
       "59        5  0.118912       3\n",
       "...     ...       ...     ...\n",
       "141       1  0.088749    year\n",
       "141       2  0.003859    year\n",
       "141       3  0.600022    year\n",
       "141       4  0.027654    year\n",
       "141       5  0.059809    year\n",
       "141       6  0.004502    year\n",
       "141       7  0.001286    year\n",
       "141       8  0.000643    year\n",
       "141       9  0.090679    year\n",
       "141      10  0.121548    year\n",
       "1374      1  0.010935   young\n",
       "1374      2  0.092944   young\n",
       "1374      3  0.382711   young\n",
       "1374      4  0.065608   young\n",
       "1374      5  0.103879   young\n",
       "1374      6  0.213225   young\n",
       "1374      7  0.087477   young\n",
       "1374      9  0.032804   young\n",
       "1374     10  0.005467   young\n",
       "1511      1  0.082109      yr\n",
       "1511      2  0.010948      yr\n",
       "1511      3  0.432440      yr\n",
       "1511      4  0.005474      yr\n",
       "1511      5  0.120426      yr\n",
       "1511      6  0.071161      yr\n",
       "1511      7  0.005474      yr\n",
       "1511      9  0.202535      yr\n",
       "1511     10  0.065687      yr\n",
       "4099      1  0.779752       ©\n",
       "4099      4  0.097469       ©\n",
       "\n",
       "[2810 rows x 3 columns], R=30, lambda_step=0.01, plot_opts={'xlab': 'PC1', 'ylab': 'PC2'}, topic_order=[8, 1, 9, 4, 6, 3, 2, 10, 5, 7])"
      ]
     },
     "execution_count": 91,
     "metadata": {},
     "output_type": "execute_result"
    }
   ],
   "source": [
    "import pyLDAvis.gensim\n",
    "\n",
    "pyLDAvis.enable_notebook()\n",
    "\n",
    "pyLDAvis.gensim.prepare(lda, corpus, dictionary)"
   ]
  },
  {
   "cell_type": "markdown",
   "metadata": {},
   "source": [
    "## Stretch Goals\n",
    "\n",
    "* Incorporate Named Entity Recognition in your analysis\n",
    "* Incorporate some custom pre-processing from our previous lessons (like spacy lemmatization)\n",
    "* Analyze a dataset of interest to you with topic modeling"
   ]
  }
 ],
 "metadata": {
  "kernelspec": {
   "display_name": "NLP",
   "language": "python",
   "name": "nlp"
  },
  "language_info": {
   "codemirror_mode": {
    "name": "ipython",
    "version": 3
   },
   "file_extension": ".py",
   "mimetype": "text/x-python",
   "name": "python",
   "nbconvert_exporter": "python",
   "pygments_lexer": "ipython3",
   "version": "3.7.0"
  }
 },
 "nbformat": 4,
 "nbformat_minor": 4
}
